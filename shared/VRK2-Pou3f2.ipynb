{
 "cells": [
  {
   "cell_type": "code",
   "execution_count": 11,
   "metadata": {
    "collapsed": true
   },
   "outputs": [],
   "source": [
    "from igv import IGV, Reference, Track\n",
    "import pandas as pd"
   ]
  },
  {
   "cell_type": "code",
   "execution_count": 2,
   "metadata": {
    "collapsed": false
   },
   "outputs": [],
   "source": [
    "import sys, time\n",
    "sys.path.append(\"/Users/paul/github/fimoService/client-python\")\n",
    "from FimoClient import *\n",
    "sys.path.append(\"/Users/paul/github/getDNAService/client-python\")\n",
    "from GetDNAClient import *"
   ]
  },
  {
   "cell_type": "code",
   "execution_count": 3,
   "metadata": {
    "collapsed": true
   },
   "outputs": [],
   "source": [
    "fimo = FimoClient(\"whovian\", 5558)\n",
    "assert(fimo.getHost() == 'whovian:5558')\n",
    "dnaService = GetDNAClient(\"hg38\")\n",
    "assert(dnaService.getSequence(\"chr1\", 1, 5) == 'NNNNN')"
   ]
  },
  {
   "cell_type": "markdown",
   "metadata": {},
   "source": [
    "## The VRK2-associated [SNP](https://www.ncbi.nlm.nih.gov/projects/SNP/snp_ref.cgi?searchType=adhoc_search&type=rs&rs=rs13384219)\n",
    "\n",
    "hg38:  chr2:57907323"
   ]
  },
  {
   "cell_type": "code",
   "execution_count": 8,
   "metadata": {
    "collapsed": true
   },
   "outputs": [],
   "source": [
    "chrom = \"chr2\"\n",
    "loc = 57907323\n",
    "shoulder = 7\n",
    "snpLocus = \"%s:%d-%d\" % (chrom, loc-shoulder, loc+shoulder)"
   ]
  },
  {
   "cell_type": "code",
   "execution_count": 10,
   "metadata": {
    "collapsed": false
   },
   "outputs": [
    {
     "data": {
      "text/html": [
       "\n",
       "            <div id=\"igv_4546682\" class=\"igv-js\"></div>\n",
       "            <script type=\"text/javascript\">\n",
       "                require([location.origin + Jupyter.contents.base_url + \"nbextensions/igv/igv-jupyter.js\"], function() {\n",
       "                    var div = $(\"#igv_4546682.igv-js\")[0], options = {\"reference\": {\"id\": \"hg38\"}, \"doubleClickDelay\": 500, \"flanking\": 1000, \"showCenterGuide\": true, \"hideIdeogram\": false, \"showRuler\": true, \"showNavigation\": true, \"showKaryo\": false, \"locus\": \"chr2:57907316-57907330\", \"showCursorTrackingGuide\": true, \"tracks\": [{\"name\": \"Genes\", \"indexURL\": \"//s3.amazonaws.com/igv.broadinstitute.org/annotations/hg38/genes/gencode.v24.annotation.sorted.gtf.gz.tbi\", \"url\": \"//s3.amazonaws.com/igv.broadinstitute.org/annotations/hg38/genes/gencode.v24.annotation.sorted.gtf.gz\", \"displayMode\": \"EXPANDED\"}]};\n",
       "                    igv.createBrowser(div, options);\n",
       "                });\n",
       "            </script>\n",
       "            "
      ],
      "text/plain": [
       "<igv.IGV at 0x1120b72e8>"
      ]
     },
     "execution_count": 10,
     "metadata": {},
     "output_type": "execute_result"
    }
   ],
   "source": [
    "igv = IGV(locus=snpLocus, reference=Reference(id=\"hg38\"), \n",
    "          tracks=[Track(\n",
    "                 name=\"Genes\", \n",
    "                 url=\"//s3.amazonaws.com/igv.broadinstitute.org/annotations/hg38/genes/gencode.v24.annotation.sorted.gtf.gz\",\n",
    "                 indexURL=\"//s3.amazonaws.com/igv.broadinstitute.org/annotations/hg38/genes/gencode.v24.annotation.sorted.gtf.gz.tbi\",\n",
    "                 display_mode=\"EXPANDED\")])\n",
    "igv"
   ]
  },
  {
   "cell_type": "code",
   "execution_count": 21,
   "metadata": {
    "collapsed": false
   },
   "outputs": [],
   "source": [
    "trackTbl = pd.DataFrame([[chrom, loc-shoulder, loc+shoulder, \"snp\"]])\n",
    "trackTbl.to_csv(\"vrk2Snp.bed\", sep=\"\\t\", header=False, index=False)\n",
    "newTrack = Track(name=\"rs13384219 \", format=\"bed\", indexed=False, \n",
    "                 url=\"http://localhost:10005/files/shared/vrk2Snp.bed\", \n",
    "                 display_mode='EXPANDED');"
   ]
  },
  {
   "cell_type": "code",
   "execution_count": 22,
   "metadata": {
    "collapsed": false
   },
   "outputs": [
    {
     "name": "stdout",
     "output_type": "stream",
     "text": [
      "Loading track into IGV.js\n"
     ]
    },
    {
     "data": {
      "text/html": [
       "\n",
       "            <script type=\"text/javascript\">\n",
       "                require([location.origin + Jupyter.contents.base_url + \"nbextensions/igv/igv-jupyter.js\"], function() {\n",
       "                    igv.browser.loadTrack({\"format\": \"bed\", \"name\": \"rs13384219 \", \"url\": \"http://localhost:10005/files/shared/vrk2Snp.bed\", \"displayMode\": \"EXPANDED\", \"indexed\": false});\n",
       "                });\n",
       "            </script>\n",
       "            "
      ],
      "text/plain": [
       "<IPython.core.display.HTML object>"
      ]
     },
     "execution_count": 22,
     "metadata": {},
     "output_type": "execute_result"
    }
   ],
   "source": [
    "igv.load_track(newTrack)"
   ]
  },
  {
   "cell_type": "code",
   "execution_count": 24,
   "metadata": {
    "collapsed": false
   },
   "outputs": [
    {
     "name": "stdout",
     "output_type": "stream",
     "text": [
      "Goto track location \n"
     ]
    },
    {
     "data": {
      "text/html": [
       "\n",
       "            <script type=\"text/javascript\">\n",
       "                require([location.origin + Jupyter.contents.base_url + \"nbextensions/igv/igv-jupyter.js\"], function() {\n",
       "                    igv.browser.search(\"chr2:57,906,897-57,908,100\");\n",
       "                });\n",
       "            </script>\n",
       "            "
      ],
      "text/plain": [
       "<IPython.core.display.HTML object>"
      ]
     },
     "execution_count": 24,
     "metadata": {},
     "output_type": "execute_result"
    }
   ],
   "source": [
    "igv.goto(\"chr2:57,906,897-57,908,100\")"
   ]
  },
  {
   "cell_type": "code",
   "execution_count": 15,
   "metadata": {
    "collapsed": false
   },
   "outputs": [
    {
     "data": {
      "text/plain": [
       "'chr2:57907316-57907330'"
      ]
     },
     "execution_count": 15,
     "metadata": {},
     "output_type": "execute_result"
    }
   ],
   "source": [
    "snpLocus"
   ]
  },
  {
   "cell_type": "code",
   "execution_count": 25,
   "metadata": {
    "collapsed": false
   },
   "outputs": [
    {
     "name": "stdout",
     "output_type": "stream",
     "text": [
      "AGCATGCAAATTAGA\n"
     ]
    }
   ],
   "source": [
    "baseSequence = dnaService.getSequence(chrom, loc-shoulder, loc+shoulder)\n",
    "print(baseSequence)"
   ]
  },
  {
   "cell_type": "code",
   "execution_count": 30,
   "metadata": {
    "collapsed": true
   },
   "outputs": [],
   "source": [
    "end1 = shoulder\n",
    "start2 = shoulder + 1\n",
    "end2 = len(baseSequence)\n",
    "mutA = baseSequence[0:end1] + 'A' + baseSequence[start2:end2]\n",
    "mutG = baseSequence[0:end1] + 'G' + baseSequence[start2:end2]\n",
    "mutT = baseSequence[0:end1] + 'T' + baseSequence[start2:end2]"
   ]
  },
  {
   "cell_type": "code",
   "execution_count": 33,
   "metadata": {
    "collapsed": false
   },
   "outputs": [
    {
     "data": {
      "text/html": [
       "<div>\n",
       "<table border=\"1\" class=\"dataframe\">\n",
       "  <thead>\n",
       "    <tr style=\"text-align: right;\">\n",
       "      <th></th>\n",
       "      <th>0</th>\n",
       "    </tr>\n",
       "  </thead>\n",
       "  <tbody>\n",
       "    <tr>\n",
       "      <th>0</th>\n",
       "      <td>AGCATGCAAATTAGA</td>\n",
       "    </tr>\n",
       "    <tr>\n",
       "      <th>1</th>\n",
       "      <td>AGCATGCGAATTAGA</td>\n",
       "    </tr>\n",
       "  </tbody>\n",
       "</table>\n",
       "</div>"
      ],
      "text/plain": [
       "                 0\n",
       "0  AGCATGCAAATTAGA\n",
       "1  AGCATGCGAATTAGA"
      ]
     },
     "execution_count": 33,
     "metadata": {},
     "output_type": "execute_result"
    }
   ],
   "source": [
    "pd.DataFrame([[baseSequence], [mutG]])"
   ]
  },
  {
   "cell_type": "code",
   "execution_count": 31,
   "metadata": {
    "collapsed": true
   },
   "outputs": [],
   "source": [
    "tbl_fimo = fimo.request({\"wt\": baseSequence, \"mutG\": mutG})"
   ]
  },
  {
   "cell_type": "code",
   "execution_count": 32,
   "metadata": {
    "collapsed": false
   },
   "outputs": [
    {
     "data": {
      "text/html": [
       "<div>\n",
       "<table border=\"1\" class=\"dataframe\">\n",
       "  <thead>\n",
       "    <tr style=\"text-align: right;\">\n",
       "      <th></th>\n",
       "      <th>#pattern name</th>\n",
       "      <th>matched sequence</th>\n",
       "      <th>p-value</th>\n",
       "      <th>q-value</th>\n",
       "      <th>score</th>\n",
       "      <th>sequence name</th>\n",
       "      <th>start</th>\n",
       "      <th>stop</th>\n",
       "      <th>strand</th>\n",
       "    </tr>\n",
       "  </thead>\n",
       "  <tbody>\n",
       "    <tr>\n",
       "      <th>0</th>\n",
       "      <td>MA0507.1</td>\n",
       "      <td>CTAATTTGCATGC</td>\n",
       "      <td>0.000005</td>\n",
       "      <td>0.000062</td>\n",
       "      <td>15.3793</td>\n",
       "      <td>wt</td>\n",
       "      <td>2</td>\n",
       "      <td>14</td>\n",
       "      <td>-</td>\n",
       "    </tr>\n",
       "    <tr>\n",
       "      <th>1</th>\n",
       "      <td>MA0784.1</td>\n",
       "      <td>AGCATGCAAATTAG</td>\n",
       "      <td>0.000008</td>\n",
       "      <td>0.000062</td>\n",
       "      <td>14.0862</td>\n",
       "      <td>wt</td>\n",
       "      <td>1</td>\n",
       "      <td>14</td>\n",
       "      <td>+</td>\n",
       "    </tr>\n",
       "    <tr>\n",
       "      <th>2</th>\n",
       "      <td>MA0785.1</td>\n",
       "      <td>AGCATGCAAATT</td>\n",
       "      <td>0.000015</td>\n",
       "      <td>0.000242</td>\n",
       "      <td>13.0600</td>\n",
       "      <td>wt</td>\n",
       "      <td>1</td>\n",
       "      <td>12</td>\n",
       "      <td>+</td>\n",
       "    </tr>\n",
       "    <tr>\n",
       "      <th>3</th>\n",
       "      <td>MA0792.1</td>\n",
       "      <td>CATGCAAAT</td>\n",
       "      <td>0.000024</td>\n",
       "      <td>0.000676</td>\n",
       "      <td>12.3186</td>\n",
       "      <td>wt</td>\n",
       "      <td>3</td>\n",
       "      <td>11</td>\n",
       "      <td>+</td>\n",
       "    </tr>\n",
       "    <tr>\n",
       "      <th>4</th>\n",
       "      <td>MA0788.1</td>\n",
       "      <td>AGCATGCAAATTA</td>\n",
       "      <td>0.000025</td>\n",
       "      <td>0.000301</td>\n",
       "      <td>12.4400</td>\n",
       "      <td>wt</td>\n",
       "      <td>1</td>\n",
       "      <td>13</td>\n",
       "      <td>+</td>\n",
       "    </tr>\n",
       "    <tr>\n",
       "      <th>5</th>\n",
       "      <td>MA0787.1</td>\n",
       "      <td>GCATGCAAATTA</td>\n",
       "      <td>0.000033</td>\n",
       "      <td>0.000527</td>\n",
       "      <td>12.0323</td>\n",
       "      <td>wt</td>\n",
       "      <td>2</td>\n",
       "      <td>13</td>\n",
       "      <td>+</td>\n",
       "    </tr>\n",
       "    <tr>\n",
       "      <th>6</th>\n",
       "      <td>MA0068.2</td>\n",
       "      <td>CGAATTAG</td>\n",
       "      <td>0.000040</td>\n",
       "      <td>0.001270</td>\n",
       "      <td>11.4179</td>\n",
       "      <td>mutG</td>\n",
       "      <td>7</td>\n",
       "      <td>14</td>\n",
       "      <td>+</td>\n",
       "    </tr>\n",
       "    <tr>\n",
       "      <th>7</th>\n",
       "      <td>MA0786.1</td>\n",
       "      <td>GCATGCAAATTA</td>\n",
       "      <td>0.000051</td>\n",
       "      <td>0.000821</td>\n",
       "      <td>11.5181</td>\n",
       "      <td>wt</td>\n",
       "      <td>2</td>\n",
       "      <td>13</td>\n",
       "      <td>+</td>\n",
       "    </tr>\n",
       "    <tr>\n",
       "      <th>8</th>\n",
       "      <td>MA0789.1</td>\n",
       "      <td>CATGCAAAT</td>\n",
       "      <td>0.000079</td>\n",
       "      <td>0.002220</td>\n",
       "      <td>10.8571</td>\n",
       "      <td>wt</td>\n",
       "      <td>3</td>\n",
       "      <td>11</td>\n",
       "      <td>+</td>\n",
       "    </tr>\n",
       "    <tr>\n",
       "      <th>9</th>\n",
       "      <td>MA0068.2</td>\n",
       "      <td>CTAATTCG</td>\n",
       "      <td>0.000084</td>\n",
       "      <td>0.001340</td>\n",
       "      <td>10.9851</td>\n",
       "      <td>mutG</td>\n",
       "      <td>7</td>\n",
       "      <td>14</td>\n",
       "      <td>-</td>\n",
       "    </tr>\n",
       "  </tbody>\n",
       "</table>\n",
       "</div>"
      ],
      "text/plain": [
       "  #pattern name matched sequence   p-value   q-value    score sequence name  \\\n",
       "0      MA0507.1    CTAATTTGCATGC  0.000005  0.000062  15.3793            wt   \n",
       "1      MA0784.1   AGCATGCAAATTAG  0.000008  0.000062  14.0862            wt   \n",
       "2      MA0785.1     AGCATGCAAATT  0.000015  0.000242  13.0600            wt   \n",
       "3      MA0792.1        CATGCAAAT  0.000024  0.000676  12.3186            wt   \n",
       "4      MA0788.1    AGCATGCAAATTA  0.000025  0.000301  12.4400            wt   \n",
       "5      MA0787.1     GCATGCAAATTA  0.000033  0.000527  12.0323            wt   \n",
       "6      MA0068.2         CGAATTAG  0.000040  0.001270  11.4179          mutG   \n",
       "7      MA0786.1     GCATGCAAATTA  0.000051  0.000821  11.5181            wt   \n",
       "8      MA0789.1        CATGCAAAT  0.000079  0.002220  10.8571            wt   \n",
       "9      MA0068.2         CTAATTCG  0.000084  0.001340  10.9851          mutG   \n",
       "\n",
       "   start  stop strand  \n",
       "0      2    14      -  \n",
       "1      1    14      +  \n",
       "2      1    12      +  \n",
       "3      3    11      +  \n",
       "4      1    13      +  \n",
       "5      2    13      +  \n",
       "6      7    14      +  \n",
       "7      2    13      +  \n",
       "8      3    11      +  \n",
       "9      7    14      -  "
      ]
     },
     "execution_count": 32,
     "metadata": {},
     "output_type": "execute_result"
    }
   ],
   "source": [
    "tbl_fimo"
   ]
  },
  {
   "cell_type": "code",
   "execution_count": 34,
   "metadata": {
    "collapsed": false
   },
   "outputs": [
    {
     "ename": "ImportError",
     "evalue": "dlopen(/Users/paul/anaconda/lib/python3.5/site-packages/psycopg2/_psycopg.cpython-35m-darwin.so, 2): Library not loaded: libssl.1.0.0.dylib\n  Referenced from: /Users/paul/anaconda/lib/python3.5/site-packages/psycopg2/_psycopg.cpython-35m-darwin.so\n  Reason: image not found",
     "output_type": "error",
     "traceback": [
      "\u001b[0;31m---------------------------------------------------------------------------\u001b[0m",
      "\u001b[0;31mImportError\u001b[0m                               Traceback (most recent call last)",
      "\u001b[0;32m<ipython-input-34-44d21d865e27>\u001b[0m in \u001b[0;36m<module>\u001b[0;34m()\u001b[0m\n\u001b[0;32m----> 1\u001b[0;31m \u001b[0;32mimport\u001b[0m \u001b[0mpsycopg2\u001b[0m \u001b[0;32mas\u001b[0m \u001b[0mpsql\u001b[0m\u001b[0;34m\u001b[0m\u001b[0m\n\u001b[0m",
      "\u001b[0;32m/Users/paul/anaconda/lib/python3.5/site-packages/psycopg2/__init__.py\u001b[0m in \u001b[0;36m<module>\u001b[0;34m()\u001b[0m\n\u001b[1;32m     48\u001b[0m \u001b[0;31m# Import the DBAPI-2.0 stuff into top-level module.\u001b[0m\u001b[0;34m\u001b[0m\u001b[0;34m\u001b[0m\u001b[0m\n\u001b[1;32m     49\u001b[0m \u001b[0;34m\u001b[0m\u001b[0m\n\u001b[0;32m---> 50\u001b[0;31m \u001b[0;32mfrom\u001b[0m \u001b[0mpsycopg2\u001b[0m\u001b[0;34m.\u001b[0m\u001b[0m_psycopg\u001b[0m \u001b[0;32mimport\u001b[0m \u001b[0mBINARY\u001b[0m\u001b[0;34m,\u001b[0m \u001b[0mNUMBER\u001b[0m\u001b[0;34m,\u001b[0m \u001b[0mSTRING\u001b[0m\u001b[0;34m,\u001b[0m \u001b[0mDATETIME\u001b[0m\u001b[0;34m,\u001b[0m \u001b[0mROWID\u001b[0m\u001b[0;34m\u001b[0m\u001b[0m\n\u001b[0m\u001b[1;32m     51\u001b[0m \u001b[0;34m\u001b[0m\u001b[0m\n\u001b[1;32m     52\u001b[0m \u001b[0;32mfrom\u001b[0m \u001b[0mpsycopg2\u001b[0m\u001b[0;34m.\u001b[0m\u001b[0m_psycopg\u001b[0m \u001b[0;32mimport\u001b[0m \u001b[0mBinary\u001b[0m\u001b[0;34m,\u001b[0m \u001b[0mDate\u001b[0m\u001b[0;34m,\u001b[0m \u001b[0mTime\u001b[0m\u001b[0;34m,\u001b[0m \u001b[0mTimestamp\u001b[0m\u001b[0;34m\u001b[0m\u001b[0m\n",
      "\u001b[0;31mImportError\u001b[0m: dlopen(/Users/paul/anaconda/lib/python3.5/site-packages/psycopg2/_psycopg.cpython-35m-darwin.so, 2): Library not loaded: libssl.1.0.0.dylib\n  Referenced from: /Users/paul/anaconda/lib/python3.5/site-packages/psycopg2/_psycopg.cpython-35m-darwin.so\n  Reason: image not found"
     ]
    }
   ],
   "source": [
    "import psycopg2 as psql"
   ]
  },
  {
   "cell_type": "code",
   "execution_count": null,
   "metadata": {
    "collapsed": true
   },
   "outputs": [],
   "source": []
  }
 ],
 "metadata": {
  "kernelspec": {
   "display_name": "Python 3",
   "language": "python",
   "name": "python3"
  },
  "language_info": {
   "codemirror_mode": {
    "name": "ipython",
    "version": 3
   },
   "file_extension": ".py",
   "mimetype": "text/x-python",
   "name": "python",
   "nbconvert_exporter": "python",
   "pygments_lexer": "ipython3",
   "version": "3.5.2"
  }
 },
 "nbformat": 4,
 "nbformat_minor": 0
}
