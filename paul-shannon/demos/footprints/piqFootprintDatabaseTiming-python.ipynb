{
 "cells": [
  {
   "cell_type": "markdown",
   "metadata": {},
   "source": [
    "## Ten seconds is too long for an inner join between regions & hits tables - python version\n",
    "\n",
    "- here we discover that doing the join (merge) in python takes ??? seconds"
   ]
  },
  {
   "cell_type": "code",
   "execution_count": 1,
   "metadata": {
    "collapsed": false
   },
   "outputs": [],
   "source": [
    "import pandas as pd, psycopg2 as psql, time"
   ]
  },
  {
   "cell_type": "code",
   "execution_count": 2,
   "metadata": {
    "collapsed": false
   },
   "outputs": [],
   "source": [
    "dbpiq = psql.connect(\"dbname=piqTest user=pshannon\")"
   ]
  },
  {
   "cell_type": "code",
   "execution_count": 3,
   "metadata": {
    "collapsed": false
   },
   "outputs": [
    {
     "data": {
      "text/plain": [
       "['regions', 'hits']"
      ]
     },
     "execution_count": 3,
     "metadata": {},
     "output_type": "execute_result"
    }
   ],
   "source": [
    "query = \"select relname from pg_class where relkind='r' and relname !~ '^(pg_|sql_)';\"\n",
    "pd.read_sql_query(query, dbpiq).loc[:, \"relname\"].tolist()"
   ]
  },
  {
   "cell_type": "markdown",
   "metadata": {},
   "source": [
    "### what do the tables look like?"
   ]
  },
  {
   "cell_type": "code",
   "execution_count": 4,
   "metadata": {
    "collapsed": false
   },
   "outputs": [
    {
     "data": {
      "text/html": [
       "<div>\n",
       "<table border=\"1\" class=\"dataframe\">\n",
       "  <thead>\n",
       "    <tr style=\"text-align: right;\">\n",
       "      <th></th>\n",
       "      <th>count</th>\n",
       "    </tr>\n",
       "  </thead>\n",
       "  <tbody>\n",
       "    <tr>\n",
       "      <th>regions</th>\n",
       "      <td>1158121</td>\n",
       "    </tr>\n",
       "    <tr>\n",
       "      <th>hits</th>\n",
       "      <td>30072096</td>\n",
       "    </tr>\n",
       "  </tbody>\n",
       "</table>\n",
       "</div>"
      ],
      "text/plain": [
       "            count\n",
       "regions   1158121\n",
       "hits     30072096"
      ]
     },
     "execution_count": 4,
     "metadata": {},
     "output_type": "execute_result"
    }
   ],
   "source": [
    "tbl_counts = pd.read_sql_query(\"select count(*) from regions\", dbpiq).append(\n",
    "             pd.read_sql_query(\"select count(*) from hits\", dbpiq))\n",
    "tbl_counts.index = [\"regions\", \"hits\"]\n",
    "tbl_counts"
   ]
  },
  {
   "cell_type": "code",
   "execution_count": 5,
   "metadata": {
    "collapsed": false
   },
   "outputs": [
    {
     "data": {
      "text/html": [
       "<div>\n",
       "<table border=\"1\" class=\"dataframe\">\n",
       "  <thead>\n",
       "    <tr style=\"text-align: right;\">\n",
       "      <th></th>\n",
       "      <th>loc</th>\n",
       "      <th>chrom</th>\n",
       "      <th>start</th>\n",
       "      <th>stop</th>\n",
       "    </tr>\n",
       "  </thead>\n",
       "  <tbody>\n",
       "    <tr>\n",
       "      <th>0</th>\n",
       "      <td>chr21:5011471-5011482</td>\n",
       "      <td>chr21</td>\n",
       "      <td>5011471</td>\n",
       "      <td>5011482</td>\n",
       "    </tr>\n",
       "    <tr>\n",
       "      <th>1</th>\n",
       "      <td>chr21:5018173-5018184</td>\n",
       "      <td>chr21</td>\n",
       "      <td>5018173</td>\n",
       "      <td>5018184</td>\n",
       "    </tr>\n",
       "    <tr>\n",
       "      <th>2</th>\n",
       "      <td>chr21:5057475-5057486</td>\n",
       "      <td>chr21</td>\n",
       "      <td>5057475</td>\n",
       "      <td>5057486</td>\n",
       "    </tr>\n",
       "  </tbody>\n",
       "</table>\n",
       "</div>"
      ],
      "text/plain": [
       "                     loc  chrom    start     stop\n",
       "0  chr21:5011471-5011482  chr21  5011471  5011482\n",
       "1  chr21:5018173-5018184  chr21  5018173  5018184\n",
       "2  chr21:5057475-5057486  chr21  5057475  5057486"
      ]
     },
     "execution_count": 5,
     "metadata": {},
     "output_type": "execute_result"
    }
   ],
   "source": [
    "pd.read_sql_query(\"select * from regions limit 3\", dbpiq)"
   ]
  },
  {
   "cell_type": "code",
   "execution_count": 6,
   "metadata": {
    "collapsed": false
   },
   "outputs": [
    {
     "data": {
      "text/html": [
       "<div>\n",
       "<table border=\"1\" class=\"dataframe\">\n",
       "  <thead>\n",
       "    <tr style=\"text-align: right;\">\n",
       "      <th></th>\n",
       "      <th>loc</th>\n",
       "      <th>type</th>\n",
       "      <th>name</th>\n",
       "      <th>strand</th>\n",
       "      <th>sample_id</th>\n",
       "      <th>method</th>\n",
       "      <th>provenance</th>\n",
       "      <th>score1</th>\n",
       "      <th>score2</th>\n",
       "      <th>score3</th>\n",
       "      <th>score4</th>\n",
       "      <th>score5</th>\n",
       "      <th>score6</th>\n",
       "    </tr>\n",
       "  </thead>\n",
       "  <tbody>\n",
       "    <tr>\n",
       "      <th>0</th>\n",
       "      <td>chr21:9650860-9650871</td>\n",
       "      <td>motif.in.footprint</td>\n",
       "      <td>MA0032.2</td>\n",
       "      <td>+</td>\n",
       "      <td>ENCSR000EJJ</td>\n",
       "      <td>piq</td>\n",
       "      <td>piq.minid.tbd</td>\n",
       "      <td>10.1972</td>\n",
       "      <td>-0.905663</td>\n",
       "      <td>3.06436</td>\n",
       "      <td>0.548674</td>\n",
       "      <td>None</td>\n",
       "      <td>None</td>\n",
       "    </tr>\n",
       "    <tr>\n",
       "      <th>1</th>\n",
       "      <td>chr21:9651991-9652002</td>\n",
       "      <td>motif.in.footprint</td>\n",
       "      <td>MA0032.2</td>\n",
       "      <td>+</td>\n",
       "      <td>ENCSR000EJJ</td>\n",
       "      <td>piq</td>\n",
       "      <td>piq.minid.tbd</td>\n",
       "      <td>10.2452</td>\n",
       "      <td>-0.987957</td>\n",
       "      <td>2.46424</td>\n",
       "      <td>0.539790</td>\n",
       "      <td>None</td>\n",
       "      <td>None</td>\n",
       "    </tr>\n",
       "    <tr>\n",
       "      <th>2</th>\n",
       "      <td>chr21:9653310-9653321</td>\n",
       "      <td>motif.in.footprint</td>\n",
       "      <td>MA0032.2</td>\n",
       "      <td>-</td>\n",
       "      <td>ENCSR000EJJ</td>\n",
       "      <td>piq</td>\n",
       "      <td>piq.minid.tbd</td>\n",
       "      <td>10.8088</td>\n",
       "      <td>-0.999619</td>\n",
       "      <td>-18.29330</td>\n",
       "      <td>0.549584</td>\n",
       "      <td>None</td>\n",
       "      <td>None</td>\n",
       "    </tr>\n",
       "  </tbody>\n",
       "</table>\n",
       "</div>"
      ],
      "text/plain": [
       "                     loc                type      name strand    sample_id  \\\n",
       "0  chr21:9650860-9650871  motif.in.footprint  MA0032.2      +  ENCSR000EJJ   \n",
       "1  chr21:9651991-9652002  motif.in.footprint  MA0032.2      +  ENCSR000EJJ   \n",
       "2  chr21:9653310-9653321  motif.in.footprint  MA0032.2      -  ENCSR000EJJ   \n",
       "\n",
       "  method     provenance   score1    score2    score3    score4 score5 score6  \n",
       "0    piq  piq.minid.tbd  10.1972 -0.905663   3.06436  0.548674   None   None  \n",
       "1    piq  piq.minid.tbd  10.2452 -0.987957   2.46424  0.539790   None   None  \n",
       "2    piq  piq.minid.tbd  10.8088 -0.999619 -18.29330  0.549584   None   None  "
      ]
     },
     "execution_count": 6,
     "metadata": {},
     "output_type": "execute_result"
    }
   ],
   "source": [
    "pd.read_sql_query(\"select * from hits limit 3\", dbpiq)"
   ]
  },
  {
   "cell_type": "code",
   "execution_count": 7,
   "metadata": {
    "collapsed": false
   },
   "outputs": [
    {
     "name": "stdout",
     "output_type": "stream",
     "text": [
      "---  0.20 seconds ---\n"
     ]
    }
   ],
   "source": [
    "start_time = time.time()\n",
    "query = \"select count(*) from regions where chrom='chr21' and start > 5010000 and stop < 5010500\"\n",
    "tbl = pd.read_sql_query(query, dbpiq)\n",
    "print(\"--- %5.2f seconds ---\" % (time.time() - start_time))"
   ]
  },
  {
   "cell_type": "code",
   "execution_count": 8,
   "metadata": {
    "collapsed": false
   },
   "outputs": [],
   "source": [
    "def getHits(db, chrom, start, stop):\n",
    "  query = \"\"\"select * from regions r\n",
    "    inner join hits h on r.loc = h.loc\n",
    "    where r.chrom = '%s' and r.start > %d and r.stop < %d\"\"\" % (chrom, start, stop)\n",
    "  tbl = pd.read_sql_query(query, db)\n",
    "  # tbl.drop(tbl.columns[0], 1, inplace=True)  # duplicate \"loc\" columns.  drop the first\n",
    "  return(tbl) "
   ]
  },
  {
   "cell_type": "markdown",
   "metadata": {},
   "source": [
    "### before indexing the hits table:\n",
    "<pre>\n",
    " user  system elapsed \n",
    "0.005   0.000  11.009 \n",
    " dim: 36 16   \n",
    "<pre>"
   ]
  },
  {
   "cell_type": "code",
   "execution_count": 9,
   "metadata": {
    "collapsed": false
   },
   "outputs": [
    {
     "name": "stdout",
     "output_type": "stream",
     "text": [
      "---  8.77 seconds ---\n"
     ]
    },
    {
     "data": {
      "text/plain": [
       "(18, 17)"
      ]
     },
     "execution_count": 9,
     "metadata": {},
     "output_type": "execute_result"
    }
   ],
   "source": [
    "start_time = time.time()\n",
    "tbl = getHits(dbpiq, \"chr21\", 15010000, 15010030)\n",
    "print(\"--- %5.2f seconds ---\" % (time.time() - start_time))\n",
    "tbl.shape"
   ]
  },
  {
   "cell_type": "markdown",
   "metadata": {},
   "source": [
    "### ~ 10secs on the join seems too long\n",
    "Break the join up into two queries, time them each"
   ]
  },
  {
   "cell_type": "code",
   "execution_count": 10,
   "metadata": {
    "collapsed": false
   },
   "outputs": [
    {
     "name": "stdout",
     "output_type": "stream",
     "text": [
      "---  0.77 seconds ---\n"
     ]
    }
   ],
   "source": [
    "start_time = time.time()\n",
    "tbl = pd.read_sql_query(\"select loc from regions where chrom='chr21' and start > 15010014 and stop < 150100100\", dbpiq)\n",
    "print(\"--- %5.2f seconds ---\" % (time.time() - start_time))"
   ]
  },
  {
   "cell_type": "code",
   "execution_count": 11,
   "metadata": {
    "collapsed": false
   },
   "outputs": [
    {
     "name": "stdout",
     "output_type": "stream",
     "text": [
      "---  0.03 seconds ---\n"
     ]
    }
   ],
   "source": [
    "start_time = time.time()\n",
    "tbl = pd.read_sql_query(\"select * from hits where loc='chr21:15010014-15010020'\", dbpiq)\n",
    "print(\"--- %5.2f seconds ---\" % (time.time() - start_time))"
   ]
  },
  {
   "cell_type": "code",
   "execution_count": 12,
   "metadata": {
    "collapsed": false
   },
   "outputs": [
    {
     "data": {
      "text/plain": [
       "(18, 13)"
      ]
     },
     "execution_count": 12,
     "metadata": {},
     "output_type": "execute_result"
    }
   ],
   "source": [
    "tbl.shape"
   ]
  },
  {
   "cell_type": "markdown",
   "metadata": {},
   "source": [
    "### Do the 'join' (aka 'merge') in pythoh:  50x faster"
   ]
  },
  {
   "cell_type": "code",
   "execution_count": 13,
   "metadata": {
    "collapsed": true
   },
   "outputs": [],
   "source": [
    "def getHits2(db, chrom, start, stop):\n",
    "\n",
    "   queryRegions_0 = \"select loc, chrom, start, stop from regions\"\n",
    "   queryRegions_1 = \"where chrom='%s' and start >= %d and stop <= %d\" % (chrom, start, stop)\n",
    "   queryRegions = \"%s %s\" % (queryRegions_0, queryRegions_1)\n",
    "   tbl_regions = pd.read_sql_query(queryRegions, db)\n",
    "   locs = tbl_regions.loc[:, \"loc\"].tolist()\n",
    "\n",
    "   queryHits = \"select * from hits where loc in %s\" % str(locs)\n",
    "   queryHits = queryHits.replace(\"[\", \"(\").replace(\"]\", \")\")\n",
    "   tbl_hits = pd.read_sql_query(queryHits, db)\n",
    "   return(pd.merge(tbl_regions, tbl_hits, on=\"loc\"))\n"
   ]
  },
  {
   "cell_type": "code",
   "execution_count": 16,
   "metadata": {
    "collapsed": false
   },
   "outputs": [
    {
     "name": "stdout",
     "output_type": "stream",
     "text": [
      "---  0.19 seconds ---\n"
     ]
    },
    {
     "data": {
      "text/plain": [
       "(18, 16)"
      ]
     },
     "execution_count": 16,
     "metadata": {},
     "output_type": "execute_result"
    }
   ],
   "source": [
    "start_time = time.time()\n",
    "tbl = getHits2(dbpiq, \"chr21\", 15010000, 15010030)\n",
    "print(\"--- %5.2f seconds ---\" % (time.time() - start_time))\n",
    "tbl.shape"
   ]
  },
  {
   "cell_type": "code",
   "execution_count": 17,
   "metadata": {
    "collapsed": false
   },
   "outputs": [
    {
     "data": {
      "text/html": [
       "<div>\n",
       "<table border=\"1\" class=\"dataframe\">\n",
       "  <thead>\n",
       "    <tr style=\"text-align: right;\">\n",
       "      <th></th>\n",
       "      <th>chrom</th>\n",
       "      <th>start</th>\n",
       "      <th>stop</th>\n",
       "      <th>type</th>\n",
       "      <th>name</th>\n",
       "      <th>strand</th>\n",
       "      <th>sample_id</th>\n",
       "      <th>method</th>\n",
       "      <th>provenance</th>\n",
       "      <th>score1</th>\n",
       "    </tr>\n",
       "  </thead>\n",
       "  <tbody>\n",
       "    <tr>\n",
       "      <th>0</th>\n",
       "      <td>chr21</td>\n",
       "      <td>15010014</td>\n",
       "      <td>15010020</td>\n",
       "      <td>motif.in.footprint</td>\n",
       "      <td>MA0442.1</td>\n",
       "      <td>-</td>\n",
       "      <td>ENCSR000DBY</td>\n",
       "      <td>piq</td>\n",
       "      <td>piq.minid.tbd</td>\n",
       "      <td>6.93175</td>\n",
       "    </tr>\n",
       "    <tr>\n",
       "      <th>1</th>\n",
       "      <td>chr21</td>\n",
       "      <td>15010014</td>\n",
       "      <td>15010020</td>\n",
       "      <td>motif.in.footprint</td>\n",
       "      <td>MA0442.1</td>\n",
       "      <td>-</td>\n",
       "      <td>ENCSR000DBZ</td>\n",
       "      <td>piq</td>\n",
       "      <td>piq.minid.tbd</td>\n",
       "      <td>6.93175</td>\n",
       "    </tr>\n",
       "    <tr>\n",
       "      <th>2</th>\n",
       "      <td>chr21</td>\n",
       "      <td>15010014</td>\n",
       "      <td>15010020</td>\n",
       "      <td>motif.in.footprint</td>\n",
       "      <td>MA0442.1</td>\n",
       "      <td>-</td>\n",
       "      <td>ENCSR000DCA</td>\n",
       "      <td>piq</td>\n",
       "      <td>piq.minid.tbd</td>\n",
       "      <td>6.93175</td>\n",
       "    </tr>\n",
       "    <tr>\n",
       "      <th>3</th>\n",
       "      <td>chr21</td>\n",
       "      <td>15010014</td>\n",
       "      <td>15010020</td>\n",
       "      <td>motif.in.footprint</td>\n",
       "      <td>MA0442.1</td>\n",
       "      <td>-</td>\n",
       "      <td>ENCSR000DCB</td>\n",
       "      <td>piq</td>\n",
       "      <td>piq.minid.tbd</td>\n",
       "      <td>6.93175</td>\n",
       "    </tr>\n",
       "    <tr>\n",
       "      <th>4</th>\n",
       "      <td>chr21</td>\n",
       "      <td>15010014</td>\n",
       "      <td>15010020</td>\n",
       "      <td>motif.in.footprint</td>\n",
       "      <td>MA0442.1</td>\n",
       "      <td>-</td>\n",
       "      <td>ENCSR000DCC</td>\n",
       "      <td>piq</td>\n",
       "      <td>piq.minid.tbd</td>\n",
       "      <td>6.93175</td>\n",
       "    </tr>\n",
       "  </tbody>\n",
       "</table>\n",
       "</div>"
      ],
      "text/plain": [
       "   chrom     start      stop                type      name strand  \\\n",
       "0  chr21  15010014  15010020  motif.in.footprint  MA0442.1      -   \n",
       "1  chr21  15010014  15010020  motif.in.footprint  MA0442.1      -   \n",
       "2  chr21  15010014  15010020  motif.in.footprint  MA0442.1      -   \n",
       "3  chr21  15010014  15010020  motif.in.footprint  MA0442.1      -   \n",
       "4  chr21  15010014  15010020  motif.in.footprint  MA0442.1      -   \n",
       "\n",
       "     sample_id method     provenance   score1  \n",
       "0  ENCSR000DBY    piq  piq.minid.tbd  6.93175  \n",
       "1  ENCSR000DBZ    piq  piq.minid.tbd  6.93175  \n",
       "2  ENCSR000DCA    piq  piq.minid.tbd  6.93175  \n",
       "3  ENCSR000DCB    piq  piq.minid.tbd  6.93175  \n",
       "4  ENCSR000DCC    piq  piq.minid.tbd  6.93175  "
      ]
     },
     "execution_count": 17,
     "metadata": {},
     "output_type": "execute_result"
    }
   ],
   "source": [
    "tbl.loc[0:4, \"chrom\":\"score1\"]"
   ]
  },
  {
   "cell_type": "code",
   "execution_count": null,
   "metadata": {
    "collapsed": true
   },
   "outputs": [],
   "source": []
  }
 ],
 "metadata": {
  "kernelspec": {
   "display_name": "Python [Root]",
   "language": "python",
   "name": "Python [Root]"
  },
  "language_info": {
   "codemirror_mode": {
    "name": "ipython",
    "version": 3
   },
   "file_extension": ".py",
   "mimetype": "text/x-python",
   "name": "python",
   "nbconvert_exporter": "python",
   "pygments_lexer": "ipython3",
   "version": "3.5.2"
  }
 },
 "nbformat": 4,
 "nbformat_minor": 0
}
