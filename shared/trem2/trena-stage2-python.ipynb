{
 "cells": [
  {
   "cell_type": "code",
   "execution_count": 7,
   "metadata": {
    "collapsed": false
   },
   "outputs": [],
   "source": [
    "import pandas as pd\n",
    "from igv import IGV, Reference, Track"
   ]
  },
  {
   "cell_type": "code",
   "execution_count": 3,
   "metadata": {
    "collapsed": true
   },
   "outputs": [],
   "source": [
    "tbl = pd.read_table(\"trem2.hint.withMotifs.1kb.tsv\")"
   ]
  },
  {
   "cell_type": "code",
   "execution_count": 4,
   "metadata": {
    "collapsed": false
   },
   "outputs": [
    {
     "data": {
      "text/html": [
       "<div>\n",
       "<table border=\"1\" class=\"dataframe\">\n",
       "  <thead>\n",
       "    <tr style=\"text-align: right;\">\n",
       "      <th></th>\n",
       "      <th>chrom</th>\n",
       "      <th>start</th>\n",
       "      <th>end</th>\n",
       "      <th>motif.h</th>\n",
       "      <th>samplecount.h</th>\n",
       "      <th>length.h</th>\n",
       "      <th>score1.h.median</th>\n",
       "      <th>score1.h.best</th>\n",
       "      <th>score2.h.median</th>\n",
       "      <th>score2.h.best</th>\n",
       "      <th>score3.h.median</th>\n",
       "      <th>score3.h.best</th>\n",
       "      <th>genes</th>\n",
       "    </tr>\n",
       "  </thead>\n",
       "  <tbody>\n",
       "    <tr>\n",
       "      <th>0</th>\n",
       "      <td>chr6</td>\n",
       "      <td>41157513</td>\n",
       "      <td>41157522</td>\n",
       "      <td>MA0002.2</td>\n",
       "      <td>1</td>\n",
       "      <td>11</td>\n",
       "      <td>11</td>\n",
       "      <td>11</td>\n",
       "      <td>10.79310</td>\n",
       "      <td>10.79310</td>\n",
       "      <td>0.000096</td>\n",
       "      <td>0.000096</td>\n",
       "      <td>RUNX2,RUNX3</td>\n",
       "    </tr>\n",
       "    <tr>\n",
       "      <th>1</th>\n",
       "      <td>chr6</td>\n",
       "      <td>41158152</td>\n",
       "      <td>41158160</td>\n",
       "      <td>MA0079.3</td>\n",
       "      <td>1</td>\n",
       "      <td>11</td>\n",
       "      <td>22</td>\n",
       "      <td>22</td>\n",
       "      <td>10.78850</td>\n",
       "      <td>10.78850</td>\n",
       "      <td>0.000072</td>\n",
       "      <td>0.000072</td>\n",
       "      <td>SP1,EGR1,EGR2,EGR3,EGR4,KLF1,KLF10,KLF11,KLF12...</td>\n",
       "    </tr>\n",
       "    <tr>\n",
       "      <th>2</th>\n",
       "      <td>chr6</td>\n",
       "      <td>41158291</td>\n",
       "      <td>41158301</td>\n",
       "      <td>MA0147.2</td>\n",
       "      <td>1</td>\n",
       "      <td>10</td>\n",
       "      <td>13</td>\n",
       "      <td>13</td>\n",
       "      <td>11.29090</td>\n",
       "      <td>11.29090</td>\n",
       "      <td>0.000091</td>\n",
       "      <td>0.000091</td>\n",
       "      <td>MYC</td>\n",
       "    </tr>\n",
       "    <tr>\n",
       "      <th>3</th>\n",
       "      <td>chr6</td>\n",
       "      <td>41158689</td>\n",
       "      <td>41158698</td>\n",
       "      <td>MA0163.1</td>\n",
       "      <td>1</td>\n",
       "      <td>14</td>\n",
       "      <td>22</td>\n",
       "      <td>22</td>\n",
       "      <td>7.30612</td>\n",
       "      <td>7.30612</td>\n",
       "      <td>0.000039</td>\n",
       "      <td>0.000039</td>\n",
       "      <td>PLAG1</td>\n",
       "    </tr>\n",
       "    <tr>\n",
       "      <th>4</th>\n",
       "      <td>chr6</td>\n",
       "      <td>41158804</td>\n",
       "      <td>41158816</td>\n",
       "      <td>MA0597.1</td>\n",
       "      <td>1</td>\n",
       "      <td>9</td>\n",
       "      <td>6</td>\n",
       "      <td>6</td>\n",
       "      <td>9.82895</td>\n",
       "      <td>9.82895</td>\n",
       "      <td>0.000092</td>\n",
       "      <td>0.000092</td>\n",
       "      <td>THAP1,THAP10,THAP11,PRKRIR,THAP2,THAP3,THAP4,T...</td>\n",
       "    </tr>\n",
       "    <tr>\n",
       "      <th>5</th>\n",
       "      <td>chr6</td>\n",
       "      <td>41158807</td>\n",
       "      <td>41158820</td>\n",
       "      <td>MA0672.1</td>\n",
       "      <td>1</td>\n",
       "      <td>10</td>\n",
       "      <td>8</td>\n",
       "      <td>8</td>\n",
       "      <td>11.55770</td>\n",
       "      <td>11.55770</td>\n",
       "      <td>0.000075</td>\n",
       "      <td>0.000075</td>\n",
       "      <td>NKX2-3</td>\n",
       "    </tr>\n",
       "    <tr>\n",
       "      <th>6</th>\n",
       "      <td>chr6</td>\n",
       "      <td>41158814</td>\n",
       "      <td>41158826</td>\n",
       "      <td>MA0747.1</td>\n",
       "      <td>1</td>\n",
       "      <td>12</td>\n",
       "      <td>22</td>\n",
       "      <td>22</td>\n",
       "      <td>10.17110</td>\n",
       "      <td>10.17110</td>\n",
       "      <td>0.000098</td>\n",
       "      <td>0.000098</td>\n",
       "      <td>SP8,EGR1,EGR2,EGR3,EGR4,KLF1,KLF10,KLF11,KLF12...</td>\n",
       "    </tr>\n",
       "    <tr>\n",
       "      <th>7</th>\n",
       "      <td>chr6</td>\n",
       "      <td>41158816</td>\n",
       "      <td>41158826</td>\n",
       "      <td>PATZ1.p2</td>\n",
       "      <td>1</td>\n",
       "      <td>13</td>\n",
       "      <td>22</td>\n",
       "      <td>22</td>\n",
       "      <td>9.59016</td>\n",
       "      <td>9.59016</td>\n",
       "      <td>0.000054</td>\n",
       "      <td>0.000054</td>\n",
       "      <td>PATZ1</td>\n",
       "    </tr>\n",
       "    <tr>\n",
       "      <th>8</th>\n",
       "      <td>chr6</td>\n",
       "      <td>41158816</td>\n",
       "      <td>41158827</td>\n",
       "      <td>sci09.v2_Osr1_3033</td>\n",
       "      <td>1</td>\n",
       "      <td>10</td>\n",
       "      <td>4</td>\n",
       "      <td>4</td>\n",
       "      <td>9.72000</td>\n",
       "      <td>9.72000</td>\n",
       "      <td>0.000072</td>\n",
       "      <td>0.000072</td>\n",
       "      <td>NaN</td>\n",
       "    </tr>\n",
       "    <tr>\n",
       "      <th>9</th>\n",
       "      <td>chr6</td>\n",
       "      <td>41158940</td>\n",
       "      <td>41158949</td>\n",
       "      <td>ZBTB6.p2</td>\n",
       "      <td>1</td>\n",
       "      <td>13</td>\n",
       "      <td>22</td>\n",
       "      <td>22</td>\n",
       "      <td>9.00000</td>\n",
       "      <td>9.00000</td>\n",
       "      <td>0.000074</td>\n",
       "      <td>0.000074</td>\n",
       "      <td>ZBTB6</td>\n",
       "    </tr>\n",
       "  </tbody>\n",
       "</table>\n",
       "</div>"
      ],
      "text/plain": [
       "  chrom     start       end             motif.h  samplecount.h  length.h  \\\n",
       "0  chr6  41157513  41157522            MA0002.2              1        11   \n",
       "1  chr6  41158152  41158160            MA0079.3              1        11   \n",
       "2  chr6  41158291  41158301            MA0147.2              1        10   \n",
       "3  chr6  41158689  41158698            MA0163.1              1        14   \n",
       "4  chr6  41158804  41158816            MA0597.1              1         9   \n",
       "5  chr6  41158807  41158820            MA0672.1              1        10   \n",
       "6  chr6  41158814  41158826            MA0747.1              1        12   \n",
       "7  chr6  41158816  41158826            PATZ1.p2              1        13   \n",
       "8  chr6  41158816  41158827  sci09.v2_Osr1_3033              1        10   \n",
       "9  chr6  41158940  41158949            ZBTB6.p2              1        13   \n",
       "\n",
       "   score1.h.median  score1.h.best  score2.h.median  score2.h.best  \\\n",
       "0               11             11         10.79310       10.79310   \n",
       "1               22             22         10.78850       10.78850   \n",
       "2               13             13         11.29090       11.29090   \n",
       "3               22             22          7.30612        7.30612   \n",
       "4                6              6          9.82895        9.82895   \n",
       "5                8              8         11.55770       11.55770   \n",
       "6               22             22         10.17110       10.17110   \n",
       "7               22             22          9.59016        9.59016   \n",
       "8                4              4          9.72000        9.72000   \n",
       "9               22             22          9.00000        9.00000   \n",
       "\n",
       "   score3.h.median  score3.h.best  \\\n",
       "0         0.000096       0.000096   \n",
       "1         0.000072       0.000072   \n",
       "2         0.000091       0.000091   \n",
       "3         0.000039       0.000039   \n",
       "4         0.000092       0.000092   \n",
       "5         0.000075       0.000075   \n",
       "6         0.000098       0.000098   \n",
       "7         0.000054       0.000054   \n",
       "8         0.000072       0.000072   \n",
       "9         0.000074       0.000074   \n",
       "\n",
       "                                               genes  \n",
       "0                                        RUNX2,RUNX3  \n",
       "1  SP1,EGR1,EGR2,EGR3,EGR4,KLF1,KLF10,KLF11,KLF12...  \n",
       "2                                                MYC  \n",
       "3                                              PLAG1  \n",
       "4  THAP1,THAP10,THAP11,PRKRIR,THAP2,THAP3,THAP4,T...  \n",
       "5                                             NKX2-3  \n",
       "6  SP8,EGR1,EGR2,EGR3,EGR4,KLF1,KLF10,KLF11,KLF12...  \n",
       "7                                              PATZ1  \n",
       "8                                                NaN  \n",
       "9                                              ZBTB6  "
      ]
     },
     "execution_count": 4,
     "metadata": {},
     "output_type": "execute_result"
    }
   ],
   "source": [
    "tbl"
   ]
  },
  {
   "cell_type": "code",
   "execution_count": 8,
   "metadata": {
    "collapsed": false
   },
   "outputs": [
    {
     "data": {
      "text/html": [
       "\n",
       "            <div id=\"igv_7694382\" class=\"igv-js\"></div>\n",
       "            <script type=\"text/javascript\">\n",
       "                require([location.origin + Jupyter.contents.base_url + \"nbextensions/igv/igv-jupyter.js\"], function() {\n",
       "                    var div = $(\"#igv_7694382.igv-js\")[0], options = {\"showCursorTrackingGuide\": true, \"showRuler\": true, \"flanking\": 1000, \"tracks\": [{\"url\": \"//s3.amazonaws.com/igv.broadinstitute.org/annotations/hg38/genes/gencode.v24.annotation.sorted.gtf.gz\", \"displayMode\": \"EXPANDED\", \"indexURL\": \"//s3.amazonaws.com/igv.broadinstitute.org/annotations/hg38/genes/gencode.v24.annotation.sorted.gtf.gz.tbi\", \"name\": \"Genes\"}], \"locus\": \"chr6:41157000-41158000\", \"showCenterGuide\": true, \"showNavigation\": true, \"doubleClickDelay\": 500, \"reference\": {\"id\": \"hg38\"}, \"hideIdeogram\": false, \"showKaryo\": false};\n",
       "                    igv.createBrowser(div, options);\n",
       "                });\n",
       "            </script>\n",
       "            "
      ],
      "text/plain": [
       "<igv.IGV at 0x111b82278>"
      ]
     },
     "execution_count": 8,
     "metadata": {},
     "output_type": "execute_result"
    }
   ],
   "source": [
    "region = \"chr6:41157000-41158000\"\n",
    "igv = IGV(locus=region, reference=Reference(id=\"hg38\"), \n",
    "          tracks=[Track(\n",
    "                 name=\"Genes\", \n",
    "                 url=\"//s3.amazonaws.com/igv.broadinstitute.org/annotations/hg38/genes/gencode.v24.annotation.sorted.gtf.gz\",\n",
    "                 indexURL=\"//s3.amazonaws.com/igv.broadinstitute.org/annotations/hg38/genes/gencode.v24.annotation.sorted.gtf.gz.tbi\",\n",
    "                 display_mode=\"EXPANDED\")])\n",
    "igv"
   ]
  },
  {
   "cell_type": "code",
   "execution_count": 9,
   "metadata": {
    "collapsed": true
   },
   "outputs": [],
   "source": [
    "track = tbl.loc[:, (\"chrom\", \"start\", \"end\", \"motif.h\", \"score2.h.best\")]\n",
    "\n",
    "track.to_csv(\"trem2Footprints.bed\", sep=\"\\t\", header=False, index=False)\n",
    "newTrack = Track(name=\"hint\", format=\"bed\", indexed=False, \n",
    "                 url=\"http://localhost:10005/files/shared/trem2Footprints.bed\", \n",
    "                 display_mode='EXPANDED');"
   ]
  },
  {
   "cell_type": "code",
   "execution_count": 10,
   "metadata": {
    "collapsed": false
   },
   "outputs": [
    {
     "name": "stdout",
     "output_type": "stream",
     "text": [
      "Loading track into IGV.js\n"
     ]
    },
    {
     "data": {
      "text/html": [
       "\n",
       "            <script type=\"text/javascript\">\n",
       "                require([location.origin + Jupyter.contents.base_url + \"nbextensions/igv/igv-jupyter.js\"], function() {\n",
       "                    igv.browser.loadTrack({\"indexed\": false, \"url\": \"http://localhost:10005/files/shared/trem2Footprints.bed\", \"displayMode\": \"EXPANDED\", \"name\": \"hint\", \"format\": \"bed\"});\n",
       "                });\n",
       "            </script>\n",
       "            "
      ],
      "text/plain": [
       "<IPython.core.display.HTML object>"
      ]
     },
     "execution_count": 10,
     "metadata": {},
     "output_type": "execute_result"
    }
   ],
   "source": [
    "igv.load_track(newTrack)"
   ]
  },
  {
   "cell_type": "code",
   "execution_count": null,
   "metadata": {
    "collapsed": true
   },
   "outputs": [],
   "source": []
  }
 ],
 "metadata": {
  "kernelspec": {
   "display_name": "Python 3",
   "language": "python",
   "name": "python3"
  },
  "language_info": {
   "codemirror_mode": {
    "name": "ipython",
    "version": 3
   },
   "file_extension": ".py",
   "mimetype": "text/x-python",
   "name": "python",
   "nbconvert_exporter": "python",
   "pygments_lexer": "ipython3",
   "version": "3.5.2"
  }
 },
 "nbformat": 4,
 "nbformat_minor": 0
}
