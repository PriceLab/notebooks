{
 "cells": [
  {
   "cell_type": "markdown",
   "metadata": {},
   "source": [
    "## Ten seconds is too long for an inner join between regions & hits tables -- R version\n",
    "\n",
    "- here we discover that doing the join (merge) in R takes ~0.2 seconds"
   ]
  },
  {
   "cell_type": "code",
   "execution_count": 1,
   "metadata": {
    "collapsed": false
   },
   "outputs": [
    {
     "name": "stderr",
     "output_type": "stream",
     "text": [
      "Loading required package: DBI\n"
     ]
    }
   ],
   "source": [
    " library(RPostgreSQL)"
   ]
  },
  {
   "cell_type": "code",
   "execution_count": 2,
   "metadata": {
    "collapsed": false
   },
   "outputs": [],
   "source": [
    "dbpiq = dbConnect(PostgreSQL(), user=\"pshannon\", dbname=\"piqTest\")"
   ]
  },
  {
   "cell_type": "code",
   "execution_count": 3,
   "metadata": {
    "collapsed": false
   },
   "outputs": [
    {
     "data": {
      "text/html": [
       "<ol class=list-inline>\n",
       "\t<li>'regions'</li>\n",
       "\t<li>'hits'</li>\n",
       "</ol>\n"
      ],
      "text/latex": [
       "\\begin{enumerate*}\n",
       "\\item 'regions'\n",
       "\\item 'hits'\n",
       "\\end{enumerate*}\n"
      ],
      "text/markdown": [
       "1. 'regions'\n",
       "2. 'hits'\n",
       "\n",
       "\n"
      ],
      "text/plain": [
       "[1] \"regions\" \"hits\"   "
      ]
     },
     "metadata": {},
     "output_type": "display_data"
    }
   ],
   "source": [
    "dbListTables(dbpiq)"
   ]
  },
  {
   "cell_type": "markdown",
   "metadata": {},
   "source": [
    "### what do the tables look like?"
   ]
  },
  {
   "cell_type": "code",
   "execution_count": 4,
   "metadata": {
    "collapsed": false
   },
   "outputs": [
    {
     "data": {
      "text/html": [
       "<table>\n",
       "<thead><tr><th scope=col>count</th></tr></thead>\n",
       "<tbody>\n",
       "\t<tr><td> 1158121</td></tr>\n",
       "\t<tr><td>30072096</td></tr>\n",
       "</tbody>\n",
       "</table>\n"
      ],
      "text/latex": [
       "\\begin{tabular}{r|l}\n",
       " count\\\\\n",
       "\\hline\n",
       "\t  1158121\\\\\n",
       "\t 30072096\\\\\n",
       "\\end{tabular}\n"
      ],
      "text/plain": [
       "  count   \n",
       "1  1158121\n",
       "2 30072096"
      ]
     },
     "metadata": {},
     "output_type": "display_data"
    }
   ],
   "source": [
    "rbind(dbGetQuery(dbpiq, \"select count(*) from regions\"), dbGetQuery(dbpiq, \"select count(*) from hits\"))"
   ]
  },
  {
   "cell_type": "code",
   "execution_count": 5,
   "metadata": {
    "collapsed": false
   },
   "outputs": [
    {
     "data": {
      "text/html": [
       "<table>\n",
       "<thead><tr><th scope=col>loc</th><th scope=col>chrom</th><th scope=col>start</th><th scope=col>stop</th></tr></thead>\n",
       "<tbody>\n",
       "\t<tr><td>chr21:5011471-5011482</td><td>chr21                </td><td>5011471              </td><td>5011482              </td></tr>\n",
       "\t<tr><td>chr21:5018173-5018184</td><td>chr21                </td><td>5018173              </td><td>5018184              </td></tr>\n",
       "\t<tr><td>chr21:5057475-5057486</td><td>chr21                </td><td>5057475              </td><td>5057486              </td></tr>\n",
       "</tbody>\n",
       "</table>\n"
      ],
      "text/latex": [
       "\\begin{tabular}{r|llll}\n",
       " loc & chrom & start & stop\\\\\n",
       "\\hline\n",
       "\t chr21:5011471-5011482 & chr21                 & 5011471               & 5011482              \\\\\n",
       "\t chr21:5018173-5018184 & chr21                 & 5018173               & 5018184              \\\\\n",
       "\t chr21:5057475-5057486 & chr21                 & 5057475               & 5057486              \\\\\n",
       "\\end{tabular}\n"
      ],
      "text/plain": [
       "  loc                   chrom start   stop   \n",
       "1 chr21:5011471-5011482 chr21 5011471 5011482\n",
       "2 chr21:5018173-5018184 chr21 5018173 5018184\n",
       "3 chr21:5057475-5057486 chr21 5057475 5057486"
      ]
     },
     "metadata": {},
     "output_type": "display_data"
    }
   ],
   "source": [
    " dbGetQuery(dbpiq, \"select * from regions limit 3\")"
   ]
  },
  {
   "cell_type": "code",
   "execution_count": 6,
   "metadata": {
    "collapsed": false
   },
   "outputs": [
    {
     "data": {
      "text/html": [
       "<table>\n",
       "<thead><tr><th scope=col>loc</th><th scope=col>type</th><th scope=col>name</th><th scope=col>strand</th><th scope=col>sample_id</th><th scope=col>method</th><th scope=col>provenance</th><th scope=col>score1</th><th scope=col>score2</th><th scope=col>score3</th><th scope=col>score4</th><th scope=col>score5</th><th scope=col>score6</th></tr></thead>\n",
       "<tbody>\n",
       "\t<tr><td>chr21:9650860-9650871</td><td>motif.in.footprint   </td><td>MA0032.2             </td><td>+                    </td><td>ENCSR000EJJ          </td><td>piq                  </td><td>piq.minid.tbd        </td><td>10.1972              </td><td>-0.905663            </td><td>  3.06436            </td><td>0.548674             </td><td>NA                   </td><td>NA                   </td></tr>\n",
       "\t<tr><td>chr21:9651991-9652002</td><td>motif.in.footprint   </td><td>MA0032.2             </td><td>+                    </td><td>ENCSR000EJJ          </td><td>piq                  </td><td>piq.minid.tbd        </td><td>10.2452              </td><td>-0.987957            </td><td>  2.46424            </td><td>0.539790             </td><td>NA                   </td><td>NA                   </td></tr>\n",
       "\t<tr><td>chr21:9653310-9653321</td><td>motif.in.footprint   </td><td>MA0032.2             </td><td>-                    </td><td>ENCSR000EJJ          </td><td>piq                  </td><td>piq.minid.tbd        </td><td>10.8088              </td><td>-0.999619            </td><td>-18.29330            </td><td>0.549584             </td><td>NA                   </td><td>NA                   </td></tr>\n",
       "</tbody>\n",
       "</table>\n"
      ],
      "text/latex": [
       "\\begin{tabular}{r|lllllllllllll}\n",
       " loc & type & name & strand & sample\\_id & method & provenance & score1 & score2 & score3 & score4 & score5 & score6\\\\\n",
       "\\hline\n",
       "\t chr21:9650860-9650871 & motif.in.footprint    & MA0032.2              & +                     & ENCSR000EJJ           & piq                   & piq.minid.tbd         & 10.1972               & -0.905663             &   3.06436             & 0.548674              & NA                    & NA                   \\\\\n",
       "\t chr21:9651991-9652002 & motif.in.footprint    & MA0032.2              & +                     & ENCSR000EJJ           & piq                   & piq.minid.tbd         & 10.2452               & -0.987957             &   2.46424             & 0.539790              & NA                    & NA                   \\\\\n",
       "\t chr21:9653310-9653321 & motif.in.footprint    & MA0032.2              & -                     & ENCSR000EJJ           & piq                   & piq.minid.tbd         & 10.8088               & -0.999619             & -18.29330             & 0.549584              & NA                    & NA                   \\\\\n",
       "\\end{tabular}\n"
      ],
      "text/plain": [
       "  loc                   type               name     strand sample_id   method\n",
       "1 chr21:9650860-9650871 motif.in.footprint MA0032.2 +      ENCSR000EJJ piq   \n",
       "2 chr21:9651991-9652002 motif.in.footprint MA0032.2 +      ENCSR000EJJ piq   \n",
       "3 chr21:9653310-9653321 motif.in.footprint MA0032.2 -      ENCSR000EJJ piq   \n",
       "  provenance    score1  score2    score3    score4   score5 score6\n",
       "1 piq.minid.tbd 10.1972 -0.905663   3.06436 0.548674 NA     NA    \n",
       "2 piq.minid.tbd 10.2452 -0.987957   2.46424 0.539790 NA     NA    \n",
       "3 piq.minid.tbd 10.8088 -0.999619 -18.29330 0.549584 NA     NA    "
      ]
     },
     "metadata": {},
     "output_type": "display_data"
    }
   ],
   "source": [
    "dbGetQuery(dbpiq, \"select * from hits limit 3\")"
   ]
  },
  {
   "cell_type": "code",
   "execution_count": 7,
   "metadata": {
    "collapsed": false
   },
   "outputs": [
    {
     "data": {
      "text/plain": [
       "   user  system elapsed \n",
       "  0.004   0.000   0.209 "
      ]
     },
     "metadata": {},
     "output_type": "display_data"
    },
    {
     "name": "stdout",
     "output_type": "stream",
     "text": [
      "  count\n",
      "1    18\n"
     ]
    }
   ],
   "source": [
    "system.time(tbl <- dbGetQuery(dbpiq, \"select count(*) from regions where chrom='chr21' and start > 5010000 and stop < 5010500\"))\n",
    "print(tbl)"
   ]
  },
  {
   "cell_type": "code",
   "execution_count": 8,
   "metadata": {
    "collapsed": false
   },
   "outputs": [],
   "source": [
    "getHits <- function(chrom, start, stop){\n",
    "   query.p0 <- \"select * from regions r inner join hits h on r.loc = h.loc \"\n",
    "   query.p1 <- sprintf(\"where r.chrom='%s' and r.start > %d and r.stop < %d\", chrom, start, stop)\n",
    "   query <- paste(query.p0, query.p1)\n",
    "   dbGetQuery(dbpiq, query)[, -1]  # remove the leading 'loc' column\n",
    "   }"
   ]
  },
  {
   "cell_type": "markdown",
   "metadata": {},
   "source": [
    "### before indexing the hits table:\n",
    "<pre>\n",
    " user  system elapsed \n",
    "0.005   0.000  11.009 \n",
    " dim: 36 16   \n",
    "<pre>"
   ]
  },
  {
   "cell_type": "code",
   "execution_count": 9,
   "metadata": {
    "collapsed": false
   },
   "outputs": [
    {
     "name": "stdout",
     "output_type": "stream",
     "text": [
      "   user  system elapsed \n",
      "  0.004   0.000   8.859 \n"
     ]
    },
    {
     "data": {
      "text/html": [
       "<ol class=list-inline>\n",
       "\t<li>18</li>\n",
       "\t<li>16</li>\n",
       "</ol>\n"
      ],
      "text/latex": [
       "\\begin{enumerate*}\n",
       "\\item 18\n",
       "\\item 16\n",
       "\\end{enumerate*}\n"
      ],
      "text/markdown": [
       "1. 18\n",
       "2. 16\n",
       "\n",
       "\n"
      ],
      "text/plain": [
       "[1] 18 16"
      ]
     },
     "metadata": {},
     "output_type": "display_data"
    }
   ],
   "source": [
    "print(system.time(tbl <- getHits(\"chr21\", 15010000, 15010030)))\n",
    "dim(tbl)"
   ]
  },
  {
   "cell_type": "code",
   "execution_count": 10,
   "metadata": {
    "collapsed": false
   },
   "outputs": [
    {
     "data": {
      "text/html": [
       "'chr21:15010014-15010020'"
      ],
      "text/latex": [
       "'chr21:15010014-15010020'"
      ],
      "text/markdown": [
       "'chr21:15010014-15010020'"
      ],
      "text/plain": [
       "[1] \"chr21:15010014-15010020\""
      ]
     },
     "metadata": {},
     "output_type": "display_data"
    }
   ],
   "source": [
    "unique(tbl$loc)"
   ]
  },
  {
   "cell_type": "markdown",
   "metadata": {},
   "source": [
    "### ~ 10secs on the join seems too long\n",
    "Break the join up into two queries, time them each"
   ]
  },
  {
   "cell_type": "code",
   "execution_count": 11,
   "metadata": {
    "collapsed": false
   },
   "outputs": [
    {
     "data": {
      "text/plain": [
       "   user  system elapsed \n",
       "  2.404   0.059   2.819 "
      ]
     },
     "metadata": {},
     "output_type": "display_data"
    }
   ],
   "source": [
    "system.time(tbl <- dbGetQuery(dbpiq, \"select loc from regions where chrom='chr21' and start > 15010014 and stop < 150100100\"))"
   ]
  },
  {
   "cell_type": "code",
   "execution_count": 12,
   "metadata": {
    "collapsed": false
   },
   "outputs": [
    {
     "data": {
      "text/plain": [
       "   user  system elapsed \n",
       "  0.004   0.000   0.006 "
      ]
     },
     "metadata": {},
     "output_type": "display_data"
    }
   ],
   "source": [
    "system.time(tbl<-dbGetQuery(dbpiq, \"select * from hits where loc='chr21:15010014-15010020'\"))"
   ]
  },
  {
   "cell_type": "code",
   "execution_count": 13,
   "metadata": {
    "collapsed": false
   },
   "outputs": [
    {
     "data": {
      "text/html": [
       "<ol class=list-inline>\n",
       "\t<li>18</li>\n",
       "\t<li>13</li>\n",
       "</ol>\n"
      ],
      "text/latex": [
       "\\begin{enumerate*}\n",
       "\\item 18\n",
       "\\item 13\n",
       "\\end{enumerate*}\n"
      ],
      "text/markdown": [
       "1. 18\n",
       "2. 13\n",
       "\n",
       "\n"
      ],
      "text/plain": [
       "[1] 18 13"
      ]
     },
     "metadata": {},
     "output_type": "display_data"
    }
   ],
   "source": [
    "dim(tbl)"
   ]
  },
  {
   "cell_type": "markdown",
   "metadata": {},
   "source": [
    "### Do the 'join' (aka 'merge') in R:  50x faster"
   ]
  },
  {
   "cell_type": "code",
   "execution_count": 14,
   "metadata": {
    "collapsed": true
   },
   "outputs": [],
   "source": [
    "getHits2 <- function(chrom, start, stop)\n",
    "{\n",
    "   query.p0 <- \"select loc, chrom, start, stop from regions\"\n",
    "   query.p1 <- sprintf(\"where chrom='%s' and start > %d and stop < %d\", chrom, start, stop)\n",
    "   query.regions <- paste(query.p0, query.p1)\n",
    "   tbl.regions <- dbGetQuery(dbpiq, query.regions)\n",
    "   if(nrow(tbl.regions) == 0)\n",
    "      return(data.frame())\n",
    "   loc.set <- sprintf(\"('%s')\", paste(tbl.regions$loc, collapse=\"','\"))\n",
    "   query.hits <- sprintf(\"select * from hits where loc in %s\", loc.set)\n",
    "   tbl.hits <- dbGetQuery(dbpiq, query.hits)\n",
    "   merge(tbl.regions, tbl.hits, on=\"loc\")\n",
    "}"
   ]
  },
  {
   "cell_type": "code",
   "execution_count": 15,
   "metadata": {
    "collapsed": false
   },
   "outputs": [
    {
     "name": "stdout",
     "output_type": "stream",
     "text": [
      "   user  system elapsed \n",
      "  0.010   0.000   0.195 \n"
     ]
    },
    {
     "data": {
      "text/html": [
       "<ol class=list-inline>\n",
       "\t<li>18</li>\n",
       "\t<li>16</li>\n",
       "</ol>\n"
      ],
      "text/latex": [
       "\\begin{enumerate*}\n",
       "\\item 18\n",
       "\\item 16\n",
       "\\end{enumerate*}\n"
      ],
      "text/markdown": [
       "1. 18\n",
       "2. 16\n",
       "\n",
       "\n"
      ],
      "text/plain": [
       "[1] 18 16"
      ]
     },
     "metadata": {},
     "output_type": "display_data"
    }
   ],
   "source": [
    "print(system.time(tbl <- getHits2(\"chr21\", 15010000, 15010030)))\n",
    "dim(tbl)"
   ]
  },
  {
   "cell_type": "code",
   "execution_count": null,
   "metadata": {
    "collapsed": true
   },
   "outputs": [],
   "source": []
  }
 ],
 "metadata": {
  "kernelspec": {
   "display_name": "R",
   "language": "R",
   "name": "ir"
  },
  "language_info": {
   "codemirror_mode": "r",
   "file_extension": ".r",
   "mimetype": "text/x-r-source",
   "name": "R",
   "pygments_lexer": "r",
   "version": "3.3.1"
  }
 },
 "nbformat": 4,
 "nbformat_minor": 0
}
