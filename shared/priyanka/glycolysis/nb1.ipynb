{
 "cells": [
  {
   "cell_type": "code",
   "execution_count": 41,
   "metadata": {
    "collapsed": true
   },
   "outputs": [],
   "source": [
    "from cyjs import *\n",
    "from IPython.display import display, HTML\n",
    "from igraph import *\n",
    "from pandas import *"
   ]
  },
  {
   "cell_type": "code",
   "execution_count": 42,
   "metadata": {},
   "outputs": [
    {
     "data": {
      "text/html": [
       "\n",
       "<style>\n",
       "    div#notebook-container    { width: 95%; }\n",
       "    div#menubar-container     { width: 65%; }\n",
       "    div#maintoolbar-container { width: 99%; }\n",
       "</style>\n"
      ],
      "text/plain": [
       "<IPython.core.display.HTML object>"
      ]
     },
     "metadata": {},
     "output_type": "display_data"
    }
   ],
   "source": [
    "display(HTML(data=\"\"\"\n",
    "<style>\n",
    "    div#notebook-container    { width: 95%; }\n",
    "    div#menubar-container     { width: 65%; }\n",
    "    div#maintoolbar-container { width: 99%; }\n",
    "</style>\n",
    "\"\"\"))"
   ]
  },
  {
   "cell_type": "code",
   "execution_count": 55,
   "metadata": {
    "collapsed": true
   },
   "outputs": [],
   "source": [
    "nodeFile = \"nodes.tsv\"\n",
    "edgeFile = \"glycolysis.tsv\"\n",
    "nodeAttributesFile = \"Genes_glycolysis_file_values.tsv\"\n",
    "edgeAttributesFile = \"edgeFlux.tsv\""
   ]
  },
  {
   "cell_type": "code",
   "execution_count": 71,
   "metadata": {
    "collapsed": true
   },
   "outputs": [],
   "source": [
    "tblNodes = read_csv(nodeFile, sep=\"\\t\")\n",
    "tblEdges = read_csv(edgeFile, sep=\"\\t\")\n",
    "tblGeneExpression = read_csv(nodeAttributesFile, sep=\"\\t\")\n",
    "tblEdgeFlux = read_csv(edgeAttributesFile, sep=\"\\t\")"
   ]
  },
  {
   "cell_type": "code",
   "execution_count": 57,
   "metadata": {
    "collapsed": true
   },
   "outputs": [],
   "source": [
    "nodeNames = tblNodes['name'].tolist()\n",
    "nodeTypes = tblNodes['type'].tolist()\n",
    "g = Graph(directed=True)\n",
    "g.add_vertices(nodeNames)\n",
    "g.vs['type'] = nodeTypes\n",
    "sources = tblEdges['source'].tolist()\n",
    "targets = tblEdges['target'].tolist()\n",
    "edgeTypes = tblEdges['edgeType'].tolist()"
   ]
  },
  {
   "cell_type": "code",
   "execution_count": 58,
   "metadata": {
    "collapsed": true
   },
   "outputs": [],
   "source": [
    "g.add_edges(zip(tblEdges['source'].tolist(), tblEdges['target'].tolist()))\n",
    "g.es['edgeType'] = edgeTypes"
   ]
  },
  {
   "cell_type": "code",
   "execution_count": 59,
   "metadata": {},
   "outputs": [
    {
     "data": {
      "application/vnd.jupyter.widget-view+json": {
       "model_id": "bf651a69f34a48f59d75e3a2e1923db7"
      }
     },
     "metadata": {},
     "output_type": "display_data"
    }
   ],
   "source": [
    "cy = cyjs()\n",
    "display(cy)"
   ]
  },
  {
   "cell_type": "code",
   "execution_count": 62,
   "metadata": {
    "collapsed": true
   },
   "outputs": [],
   "source": [
    "cy.deleteGraph()\n",
    "cy.addGraph(g)\n",
    "kkLayout = g.layout(\"kk\")\n",
    "cy.setPosition(kkLayout)\n",
    "cy.setHeight(800)\n",
    "cy.fit(100)"
   ]
  },
  {
   "cell_type": "code",
   "execution_count": 73,
   "metadata": {
    "collapsed": true
   },
   "outputs": [],
   "source": [
    "cy.loadStyleFile(\"style.js\")"
   ]
  },
  {
   "cell_type": "code",
   "execution_count": 64,
   "metadata": {
    "collapsed": true
   },
   "outputs": [],
   "source": [
    "sourceNodes = tblEdgeFlux[\"source\"].tolist()\n",
    "targetNodes = tblEdgeFlux[\"target\"].tolist()\n",
    "edgeTypes = tblEdgeFlux[\"edgeType\"].tolist()"
   ]
  },
  {
   "cell_type": "code",
   "execution_count": 78,
   "metadata": {
    "collapsed": true
   },
   "outputs": [],
   "source": [
    "for condition in [\"Cond1\", \"Cond2\", \"Cond3\", \"Cond4\"]:\n",
    "   cy.setEdgeAttributes(g, \"flux\", sourceNodes, targetNodes, edgeTypes, tblEdgeFlux[condition].tolist())\n",
    "   cy.setNodeAttributes(g, \"expression\", tblGeneExpression[\"name\"].tolist(), tblGeneExpression[condition].tolist())\n",
    "   time.sleep(1)"
   ]
  },
  {
   "cell_type": "code",
   "execution_count": 74,
   "metadata": {},
   "outputs": [
    {
     "data": {
      "text/html": [
       "<div>\n",
       "<table border=\"1\" class=\"dataframe\">\n",
       "  <thead>\n",
       "    <tr style=\"text-align: right;\">\n",
       "      <th></th>\n",
       "      <th>name</th>\n",
       "      <th>Cond1</th>\n",
       "      <th>Cond2</th>\n",
       "      <th>Cond3</th>\n",
       "      <th>Cond4</th>\n",
       "    </tr>\n",
       "  </thead>\n",
       "  <tbody>\n",
       "    <tr>\n",
       "      <th>0</th>\n",
       "      <td>Bpgm</td>\n",
       "      <td>8.40</td>\n",
       "      <td>8.00</td>\n",
       "      <td>8.48</td>\n",
       "      <td>7.82</td>\n",
       "    </tr>\n",
       "    <tr>\n",
       "      <th>1</th>\n",
       "      <td>Gck</td>\n",
       "      <td>9.73</td>\n",
       "      <td>5.25</td>\n",
       "      <td>6.76</td>\n",
       "      <td>6.43</td>\n",
       "    </tr>\n",
       "    <tr>\n",
       "      <th>2</th>\n",
       "      <td>Gpi</td>\n",
       "      <td>10.24</td>\n",
       "      <td>10.37</td>\n",
       "      <td>10.19</td>\n",
       "      <td>10.57</td>\n",
       "    </tr>\n",
       "    <tr>\n",
       "      <th>3</th>\n",
       "      <td>Hk1</td>\n",
       "      <td>6.61</td>\n",
       "      <td>6.45</td>\n",
       "      <td>0.00</td>\n",
       "      <td>0.00</td>\n",
       "    </tr>\n",
       "    <tr>\n",
       "      <th>4</th>\n",
       "      <td>Hk2</td>\n",
       "      <td>0.00</td>\n",
       "      <td>0.00</td>\n",
       "      <td>0.00</td>\n",
       "      <td>0.00</td>\n",
       "    </tr>\n",
       "    <tr>\n",
       "      <th>5</th>\n",
       "      <td>Pfkl</td>\n",
       "      <td>7.31</td>\n",
       "      <td>7.21</td>\n",
       "      <td>7.29</td>\n",
       "      <td>7.20</td>\n",
       "    </tr>\n",
       "    <tr>\n",
       "      <th>6</th>\n",
       "      <td>Pfkm</td>\n",
       "      <td>6.13</td>\n",
       "      <td>6.06</td>\n",
       "      <td>5.70</td>\n",
       "      <td>6.04</td>\n",
       "    </tr>\n",
       "    <tr>\n",
       "      <th>7</th>\n",
       "      <td>Pfkp</td>\n",
       "      <td>6.17</td>\n",
       "      <td>5.76</td>\n",
       "      <td>5.81</td>\n",
       "      <td>5.89</td>\n",
       "    </tr>\n",
       "    <tr>\n",
       "      <th>8</th>\n",
       "      <td>Pgam1</td>\n",
       "      <td>12.12</td>\n",
       "      <td>11.95</td>\n",
       "      <td>11.78</td>\n",
       "      <td>11.66</td>\n",
       "    </tr>\n",
       "    <tr>\n",
       "      <th>9</th>\n",
       "      <td>Pgam2</td>\n",
       "      <td>0.00</td>\n",
       "      <td>0.00</td>\n",
       "      <td>0.00</td>\n",
       "      <td>0.00</td>\n",
       "    </tr>\n",
       "    <tr>\n",
       "      <th>10</th>\n",
       "      <td>Pgk1</td>\n",
       "      <td>11.83</td>\n",
       "      <td>11.42</td>\n",
       "      <td>11.27</td>\n",
       "      <td>10.93</td>\n",
       "    </tr>\n",
       "    <tr>\n",
       "      <th>11</th>\n",
       "      <td>Pgm1</td>\n",
       "      <td>11.57</td>\n",
       "      <td>11.36</td>\n",
       "      <td>11.38</td>\n",
       "      <td>11.39</td>\n",
       "    </tr>\n",
       "    <tr>\n",
       "      <th>12</th>\n",
       "      <td>Pgm2</td>\n",
       "      <td>7.28</td>\n",
       "      <td>7.50</td>\n",
       "      <td>7.55</td>\n",
       "      <td>7.35</td>\n",
       "    </tr>\n",
       "    <tr>\n",
       "      <th>13</th>\n",
       "      <td>Pklr</td>\n",
       "      <td>11.66</td>\n",
       "      <td>9.52</td>\n",
       "      <td>9.78</td>\n",
       "      <td>9.68</td>\n",
       "    </tr>\n",
       "    <tr>\n",
       "      <th>14</th>\n",
       "      <td>Tpi1</td>\n",
       "      <td>12.09</td>\n",
       "      <td>11.89</td>\n",
       "      <td>11.85</td>\n",
       "      <td>11.57</td>\n",
       "    </tr>\n",
       "  </tbody>\n",
       "</table>\n",
       "</div>"
      ],
      "text/plain": [
       "     name  Cond1  Cond2  Cond3  Cond4\n",
       "0    Bpgm   8.40   8.00   8.48   7.82\n",
       "1     Gck   9.73   5.25   6.76   6.43\n",
       "2     Gpi  10.24  10.37  10.19  10.57\n",
       "3     Hk1   6.61   6.45   0.00   0.00\n",
       "4     Hk2   0.00   0.00   0.00   0.00\n",
       "5    Pfkl   7.31   7.21   7.29   7.20\n",
       "6    Pfkm   6.13   6.06   5.70   6.04\n",
       "7    Pfkp   6.17   5.76   5.81   5.89\n",
       "8   Pgam1  12.12  11.95  11.78  11.66\n",
       "9   Pgam2   0.00   0.00   0.00   0.00\n",
       "10   Pgk1  11.83  11.42  11.27  10.93\n",
       "11   Pgm1  11.57  11.36  11.38  11.39\n",
       "12   Pgm2   7.28   7.50   7.55   7.35\n",
       "13   Pklr  11.66   9.52   9.78   9.68\n",
       "14   Tpi1  12.09  11.89  11.85  11.57"
      ]
     },
     "execution_count": 74,
     "metadata": {},
     "output_type": "execute_result"
    }
   ],
   "source": [
    "tblGeneExpression"
   ]
  },
  {
   "cell_type": "code",
   "execution_count": 72,
   "metadata": {},
   "outputs": [],
   "source": [
    "cy.setNodeAttributes(g, \"expression\", tblGeneExpression[\"name\"].tolist(), tblGeneExpression[\"Cond1\"].tolist())"
   ]
  },
  {
   "cell_type": "code",
   "execution_count": null,
   "metadata": {
    "collapsed": true
   },
   "outputs": [],
   "source": []
  }
 ],
 "metadata": {
  "anaconda-cloud": {},
  "kernelspec": {
   "display_name": "Python [default]",
   "language": "python",
   "name": "python3"
  },
  "language_info": {
   "codemirror_mode": {
    "name": "ipython",
    "version": 3
   },
   "file_extension": ".py",
   "mimetype": "text/x-python",
   "name": "python",
   "nbconvert_exporter": "python",
   "pygments_lexer": "ipython3",
   "version": "3.5.2"
  }
 },
 "nbformat": 4,
 "nbformat_minor": 2
}
