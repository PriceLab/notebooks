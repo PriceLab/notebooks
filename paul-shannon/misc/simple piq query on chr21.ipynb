{
 "cells": [
  {
   "cell_type": "code",
   "execution_count": 3,
   "metadata": {
    "collapsed": false
   },
   "outputs": [],
   "source": [
    "library(RPostgreSQL)\n",
    "library(RUnit)\n",
    "db <- dbConnect(PostgreSQL(), user= \"trena\", password=\"trena\", dbname=\"fptest\", host=\"whovian\")"
   ]
  },
  {
   "cell_type": "code",
   "execution_count": null,
   "metadata": {
    "collapsed": true
   },
   "outputs": [],
   "source": []
  },
  {
   "cell_type": "code",
   "execution_count": 4,
   "metadata": {
    "collapsed": false
   },
   "outputs": [
    {
     "data": {
      "text/html": [
       "TRUE"
      ],
      "text/latex": [
       "TRUE"
      ],
      "text/markdown": [
       "TRUE"
      ],
      "text/plain": [
       "[1] TRUE"
      ]
     },
     "metadata": {},
     "output_type": "display_data"
    },
    {
     "data": {
      "text/html": [
       "TRUE"
      ],
      "text/latex": [
       "TRUE"
      ],
      "text/markdown": [
       "TRUE"
      ],
      "text/plain": [
       "[1] TRUE"
      ]
     },
     "metadata": {},
     "output_type": "display_data"
    }
   ],
   "source": [
    "checkTrue(dbExistsTable(db, \"footprints\"))\n",
    "checkTrue(dbExistsTable(db, \"motifhits\"))"
   ]
  },
  {
   "cell_type": "code",
   "execution_count": 14,
   "metadata": {
    "collapsed": true
   },
   "outputs": [],
   "source": [
    "query <- paste(\"select * from footprints fp\",\n",
    "              \"inner join motifhits mh\",\n",
    "              \"on fp.loc = mh.loc\",\n",
    "              \"where fp.chrom = 'chr21' and fp.motif_start < 5010300\")"
   ]
  },
  {
   "cell_type": "code",
   "execution_count": 15,
   "metadata": {
    "collapsed": false
   },
   "outputs": [
    {
     "data": {
      "text/html": [
       "<table>\n",
       "<thead><tr><th scope=col>loc</th><th scope=col>chrom</th><th scope=col>motif_start</th><th scope=col>motif_end</th><th scope=col>motif_name</th><th scope=col>strand</th><th scope=col>loc</th><th scope=col>sample_id</th><th scope=col>method</th><th scope=col>provenance</th><th scope=col>score1</th><th scope=col>score2</th><th scope=col>score3</th><th scope=col>score4</th><th scope=col>score5</th><th scope=col>score6</th></tr></thead>\n",
       "<tbody>\n",
       "\t<tr><td>chr21:5010250-5010264</td><td>chr21                </td><td>5010250              </td><td>5010264              </td><td>MA0154.3             </td><td>+                    </td><td>chr21:5010250-5010264</td><td>ENCSR000DBY          </td><td>piq                  </td><td>ark:/57799/b94s3c    </td><td> 9.40707             </td><td>-1.001770            </td><td>-40.42820            </td><td>0.505164             </td><td>NA                   </td><td>NA                   </td></tr>\n",
       "\t<tr><td>chr21:5010250-5010264</td><td>chr21                </td><td>5010250              </td><td>5010264              </td><td>MA0154.3             </td><td>+                    </td><td>chr21:5010250-5010264</td><td>ENCSR000DBY          </td><td>piq                  </td><td>ark:/57799/b94s3c    </td><td> 9.59730             </td><td>-1.032330            </td><td>-30.54910            </td><td>0.501581             </td><td>NA                   </td><td>NA                   </td></tr>\n",
       "\t<tr><td>chr21:5010055-5010066</td><td>chr21                </td><td>5010055              </td><td>5010066              </td><td>MA0521.1             </td><td>-                    </td><td>chr21:5010055-5010066</td><td>ENCSR000DBY          </td><td>piq                  </td><td>ark:/57799/b94s3c    </td><td>10.08810             </td><td>-0.988884            </td><td>-15.12840            </td><td>0.502115             </td><td>NA                   </td><td>NA                   </td></tr>\n",
       "\t<tr><td>chr21:5010036-5010046</td><td>chr21                </td><td>5010036              </td><td>5010046              </td><td>MA0522.2             </td><td>-                    </td><td>chr21:5010036-5010046</td><td>ENCSR000DBY          </td><td>piq                  </td><td>ark:/57799/b94s3c    </td><td> 9.31676             </td><td>-0.985703            </td><td>  3.00831            </td><td>0.499064             </td><td>NA                   </td><td>NA                   </td></tr>\n",
       "\t<tr><td>chr21:5010250-5010264</td><td>chr21                </td><td>5010250              </td><td>5010264              </td><td>MA0154.3             </td><td>+                    </td><td>chr21:5010250-5010264</td><td>ENCSR000DBZ          </td><td>piq                  </td><td>ark:/57799/b94s3c    </td><td> 9.40707             </td><td>-0.964433            </td><td>-29.84530            </td><td>0.517810             </td><td>NA                   </td><td>NA                   </td></tr>\n",
       "\t<tr><td>chr21:5010250-5010264</td><td>chr21                </td><td>5010250              </td><td>5010264              </td><td>MA0154.3             </td><td>+                    </td><td>chr21:5010250-5010264</td><td>ENCSR000DBZ          </td><td>piq                  </td><td>ark:/57799/b94s3c    </td><td> 9.59730             </td><td>-0.927953            </td><td>-25.03730            </td><td>0.525442             </td><td>NA                   </td><td>NA                   </td></tr>\n",
       "\t<tr><td>chr21:5010055-5010066</td><td>chr21                </td><td>5010055              </td><td>5010066              </td><td>MA0521.1             </td><td>-                    </td><td>chr21:5010055-5010066</td><td>ENCSR000DBZ          </td><td>piq                  </td><td>ark:/57799/b94s3c    </td><td>10.08810             </td><td>-0.981330            </td><td> -6.86581            </td><td>0.509039             </td><td>NA                   </td><td>NA                   </td></tr>\n",
       "\t<tr><td>chr21:5010036-5010046</td><td>chr21                </td><td>5010036              </td><td>5010046              </td><td>MA0522.2             </td><td>-                    </td><td>chr21:5010036-5010046</td><td>ENCSR000DBZ          </td><td>piq                  </td><td>ark:/57799/b94s3c    </td><td> 9.31676             </td><td>-1.017100            </td><td>-21.90810            </td><td>0.512333             </td><td>NA                   </td><td>NA                   </td></tr>\n",
       "\t<tr><td>chr21:5010250-5010264</td><td>chr21                </td><td>5010250              </td><td>5010264              </td><td>MA0154.3             </td><td>+                    </td><td>chr21:5010250-5010264</td><td>ENCSR000DCA          </td><td>piq                  </td><td>ark:/57799/b94s3c    </td><td> 9.40707             </td><td>-0.992677            </td><td>-23.35120            </td><td>0.506884             </td><td>NA                   </td><td>NA                   </td></tr>\n",
       "\t<tr><td>chr21:5010250-5010264</td><td>chr21                </td><td>5010250              </td><td>5010264              </td><td>MA0154.3             </td><td>+                    </td><td>chr21:5010250-5010264</td><td>ENCSR000DCA          </td><td>piq                  </td><td>ark:/57799/b94s3c    </td><td> 9.59730             </td><td>-0.968508            </td><td> -5.29493            </td><td>0.512201             </td><td>NA                   </td><td>NA                   </td></tr>\n",
       "\t<tr><td>chr21:5010055-5010066</td><td>chr21                </td><td>5010055              </td><td>5010066              </td><td>MA0521.1             </td><td>-                    </td><td>chr21:5010055-5010066</td><td>ENCSR000DCA          </td><td>piq                  </td><td>ark:/57799/b94s3c    </td><td>10.08810             </td><td>-0.868144            </td><td>  1.47292            </td><td>0.527559             </td><td>NA                   </td><td>NA                   </td></tr>\n",
       "\t<tr><td>chr21:5010036-5010046</td><td>chr21                </td><td>5010036              </td><td>5010046              </td><td>MA0522.2             </td><td>-                    </td><td>chr21:5010036-5010046</td><td>ENCSR000DCA          </td><td>piq                  </td><td>ark:/57799/b94s3c    </td><td> 9.31676             </td><td>-0.971749            </td><td>  1.25129            </td><td>0.513624             </td><td>NA                   </td><td>NA                   </td></tr>\n",
       "\t<tr><td>chr21:5010250-5010264</td><td>chr21                </td><td>5010250              </td><td>5010264              </td><td>MA0154.3             </td><td>+                    </td><td>chr21:5010250-5010264</td><td>ENCSR000DCB          </td><td>piq                  </td><td>ark:/57799/b94s3c    </td><td> 9.40707             </td><td>-1.034300            </td><td>-39.64340            </td><td>0.511955             </td><td>NA                   </td><td>NA                   </td></tr>\n",
       "\t<tr><td>chr21:5010250-5010264</td><td>chr21                </td><td>5010250              </td><td>5010264              </td><td>MA0154.3             </td><td>+                    </td><td>chr21:5010250-5010264</td><td>ENCSR000DCB          </td><td>piq                  </td><td>ark:/57799/b94s3c    </td><td> 9.59730             </td><td>-0.922438            </td><td>-16.43730            </td><td>0.537766             </td><td>NA                   </td><td>NA                   </td></tr>\n",
       "\t<tr><td>chr21:5010055-5010066</td><td>chr21                </td><td>5010055              </td><td>5010066              </td><td>MA0521.1             </td><td>-                    </td><td>chr21:5010055-5010066</td><td>ENCSR000DCB          </td><td>piq                  </td><td>ark:/57799/b94s3c    </td><td>10.08810             </td><td>-1.033570            </td><td>-34.97540            </td><td>0.518800             </td><td>NA                   </td><td>NA                   </td></tr>\n",
       "\t<tr><td>chr21:5010036-5010046</td><td>chr21                </td><td>5010036              </td><td>5010046              </td><td>MA0522.2             </td><td>-                    </td><td>chr21:5010036-5010046</td><td>ENCSR000DCB          </td><td>piq                  </td><td>ark:/57799/b94s3c    </td><td> 9.31676             </td><td>-1.024770            </td><td>-22.24610            </td><td>0.529737             </td><td>NA                   </td><td>NA                   </td></tr>\n",
       "\t<tr><td>chr21:5010250-5010264</td><td>chr21                </td><td>5010250              </td><td>5010264              </td><td>MA0154.3             </td><td>+                    </td><td>chr21:5010250-5010264</td><td>ENCSR000DCC          </td><td>piq                  </td><td>ark:/57799/b94s3c    </td><td> 9.40707             </td><td>-0.982875            </td><td>-34.52740            </td><td>0.505680             </td><td>NA                   </td><td>NA                   </td></tr>\n",
       "\t<tr><td>chr21:5010250-5010264</td><td>chr21                </td><td>5010250              </td><td>5010264              </td><td>MA0154.3             </td><td>+                    </td><td>chr21:5010250-5010264</td><td>ENCSR000DCC          </td><td>piq                  </td><td>ark:/57799/b94s3c    </td><td> 9.59730             </td><td>-1.001520            </td><td>-37.99850            </td><td>0.504132             </td><td>NA                   </td><td>NA                   </td></tr>\n",
       "\t<tr><td>chr21:5010055-5010066</td><td>chr21                </td><td>5010055              </td><td>5010066              </td><td>MA0521.1             </td><td>-                    </td><td>chr21:5010055-5010066</td><td>ENCSR000DCC          </td><td>piq                  </td><td>ark:/57799/b94s3c    </td><td>10.08810             </td><td>-0.932074            </td><td>-24.11900            </td><td>0.519346             </td><td>NA                   </td><td>NA                   </td></tr>\n",
       "\t<tr><td>chr21:5010036-5010046</td><td>chr21                </td><td>5010036              </td><td>5010046              </td><td>MA0522.2             </td><td>-                    </td><td>chr21:5010036-5010046</td><td>ENCSR000DCC          </td><td>piq                  </td><td>ark:/57799/b94s3c    </td><td> 9.31676             </td><td>-0.998987            </td><td>-23.25020            </td><td>0.509688             </td><td>NA                   </td><td>NA                   </td></tr>\n",
       "\t<tr><td>chr21:5010250-5010264</td><td>chr21                </td><td>5010250              </td><td>5010264              </td><td>MA0154.3             </td><td>+                    </td><td>chr21:5010250-5010264</td><td>ENCSR000EJB          </td><td>piq                  </td><td>ark:/57799/b94s3c    </td><td> 9.40707             </td><td>-0.956425            </td><td>-30.21160            </td><td>0.559882             </td><td>NA                   </td><td>NA                   </td></tr>\n",
       "\t<tr><td>chr21:5010250-5010264</td><td>chr21                </td><td>5010250              </td><td>5010264              </td><td>MA0154.3             </td><td>+                    </td><td>chr21:5010250-5010264</td><td>ENCSR000EJB          </td><td>piq                  </td><td>ark:/57799/b94s3c    </td><td> 9.59730             </td><td>-1.012990            </td><td>-28.18720            </td><td>0.544159             </td><td>NA                   </td><td>NA                   </td></tr>\n",
       "\t<tr><td>chr21:5010055-5010066</td><td>chr21                </td><td>5010055              </td><td>5010066              </td><td>MA0521.1             </td><td>-                    </td><td>chr21:5010055-5010066</td><td>ENCSR000EJB          </td><td>piq                  </td><td>ark:/57799/b94s3c    </td><td>10.08810             </td><td>-0.920473            </td><td>  8.04582            </td><td>0.590620             </td><td>NA                   </td><td>NA                   </td></tr>\n",
       "\t<tr><td>chr21:5010036-5010046</td><td>chr21                </td><td>5010036              </td><td>5010046              </td><td>MA0522.2             </td><td>-                    </td><td>chr21:5010036-5010046</td><td>ENCSR000EJB          </td><td>piq                  </td><td>ark:/57799/b94s3c    </td><td> 9.31676             </td><td>-0.996712            </td><td>  7.17653            </td><td>0.566952             </td><td>NA                   </td><td>NA                   </td></tr>\n",
       "\t<tr><td>chr21:5010250-5010264</td><td>chr21                </td><td>5010250              </td><td>5010264              </td><td>MA0154.3             </td><td>+                    </td><td>chr21:5010250-5010264</td><td>ENCSR000EJD          </td><td>piq                  </td><td>ark:/57799/b94s3c    </td><td> 9.40707             </td><td>-0.670294            </td><td>  6.77767            </td><td>0.625177             </td><td>NA                   </td><td>NA                   </td></tr>\n",
       "\t<tr><td>chr21:5010250-5010264</td><td>chr21                </td><td>5010250              </td><td>5010264              </td><td>MA0154.3             </td><td>+                    </td><td>chr21:5010250-5010264</td><td>ENCSR000EJD          </td><td>piq                  </td><td>ark:/57799/b94s3c    </td><td> 9.59730             </td><td>-0.741597            </td><td>-21.86400            </td><td>0.656484             </td><td>NA                   </td><td>NA                   </td></tr>\n",
       "\t<tr><td>chr21:5010055-5010066</td><td>chr21                </td><td>5010055              </td><td>5010066              </td><td>MA0521.1             </td><td>-                    </td><td>chr21:5010055-5010066</td><td>ENCSR000EJD          </td><td>piq                  </td><td>ark:/57799/b94s3c    </td><td>10.08810             </td><td>-1.094130            </td><td>  7.31082            </td><td>0.565086             </td><td>NA                   </td><td>NA                   </td></tr>\n",
       "\t<tr><td>chr21:5010036-5010046</td><td>chr21                </td><td>5010036              </td><td>5010046              </td><td>MA0522.2             </td><td>-                    </td><td>chr21:5010036-5010046</td><td>ENCSR000EJD          </td><td>piq                  </td><td>ark:/57799/b94s3c    </td><td> 9.31676             </td><td>-0.973017            </td><td>  6.90711            </td><td>0.607823             </td><td>NA                   </td><td>NA                   </td></tr>\n",
       "\t<tr><td>chr21:5010250-5010264</td><td>chr21                </td><td>5010250              </td><td>5010264              </td><td>MA0154.3             </td><td>+                    </td><td>chr21:5010250-5010264</td><td>ENCSR000EJE          </td><td>piq                  </td><td>ark:/57799/b94s3c    </td><td> 9.40707             </td><td>-0.926622            </td><td>-36.92400            </td><td>0.608861             </td><td>NA                   </td><td>NA                   </td></tr>\n",
       "\t<tr><td>chr21:5010250-5010264</td><td>chr21                </td><td>5010250              </td><td>5010264              </td><td>MA0154.3             </td><td>+                    </td><td>chr21:5010250-5010264</td><td>ENCSR000EJE          </td><td>piq                  </td><td>ark:/57799/b94s3c    </td><td> 9.59730             </td><td>-0.847783            </td><td>-21.36690            </td><td>0.655254             </td><td>NA                   </td><td>NA                   </td></tr>\n",
       "\t<tr><td>⋮</td><td>⋮</td><td>⋮</td><td>⋮</td><td>⋮</td><td>⋮</td><td>⋮</td><td>⋮</td><td>⋮</td><td>⋮</td><td>⋮</td><td>⋮</td><td>⋮</td><td>⋮</td><td>⋮</td><td>⋮</td></tr>\n",
       "\t<tr><td>chr21:5010055-5010066</td><td>chr21                </td><td>5010055              </td><td>5010066              </td><td>MA0521.1             </td><td>-                    </td><td>chr21:5010055-5010066</td><td>ENCSR000EJI          </td><td>piq                  </td><td>ark:/57799/b94s3c    </td><td>10.08810             </td><td>-0.980365            </td><td>-10.205400           </td><td>0.517853             </td><td>NA                   </td><td>NA                   </td></tr>\n",
       "\t<tr><td>chr21:5010036-5010046</td><td>chr21                </td><td>5010036              </td><td>5010046              </td><td>MA0522.2             </td><td>-                    </td><td>chr21:5010036-5010046</td><td>ENCSR000EJI          </td><td>piq                  </td><td>ark:/57799/b94s3c    </td><td> 9.31676             </td><td>-0.989242            </td><td>  7.409310           </td><td>0.510103             </td><td>NA                   </td><td>NA                   </td></tr>\n",
       "\t<tr><td>chr21:5010250-5010264</td><td>chr21                </td><td>5010250              </td><td>5010264              </td><td>MA0154.3             </td><td>+                    </td><td>chr21:5010250-5010264</td><td>ENCSR000EJJ          </td><td>piq                  </td><td>ark:/57799/b94s3c    </td><td> 9.40707             </td><td>-0.916004            </td><td>  0.136020           </td><td>0.579854             </td><td>NA                   </td><td>NA                   </td></tr>\n",
       "\t<tr><td>chr21:5010250-5010264</td><td>chr21                </td><td>5010250              </td><td>5010264              </td><td>MA0154.3             </td><td>+                    </td><td>chr21:5010250-5010264</td><td>ENCSR000EJJ          </td><td>piq                  </td><td>ark:/57799/b94s3c    </td><td> 9.59730             </td><td>-0.963278            </td><td> -2.200250           </td><td>0.572453             </td><td>NA                   </td><td>NA                   </td></tr>\n",
       "\t<tr><td>chr21:5010055-5010066</td><td>chr21                </td><td>5010055              </td><td>5010066              </td><td>MA0521.1             </td><td>-                    </td><td>chr21:5010055-5010066</td><td>ENCSR000EJJ          </td><td>piq                  </td><td>ark:/57799/b94s3c    </td><td>10.08810             </td><td>-1.010230            </td><td> -1.024360           </td><td>0.534512             </td><td>NA                   </td><td>NA                   </td></tr>\n",
       "\t<tr><td>chr21:5010036-5010046</td><td>chr21                </td><td>5010036              </td><td>5010046              </td><td>MA0522.2             </td><td>-                    </td><td>chr21:5010036-5010046</td><td>ENCSR000EJJ          </td><td>piq                  </td><td>ark:/57799/b94s3c    </td><td> 9.31676             </td><td>-0.940788            </td><td>  5.104830           </td><td>0.571768             </td><td>NA                   </td><td>NA                   </td></tr>\n",
       "\t<tr><td>chr21:5010250-5010264</td><td>chr21                </td><td>5010250              </td><td>5010264              </td><td>MA0154.3             </td><td>+                    </td><td>chr21:5010250-5010264</td><td>ENCSR000EJK          </td><td>piq                  </td><td>ark:/57799/b94s3c    </td><td> 9.40707             </td><td>-1.056420            </td><td>  6.009870           </td><td>0.544279             </td><td>NA                   </td><td>NA                   </td></tr>\n",
       "\t<tr><td>chr21:5010250-5010264</td><td>chr21                </td><td>5010250              </td><td>5010264              </td><td>MA0154.3             </td><td>+                    </td><td>chr21:5010250-5010264</td><td>ENCSR000EJK          </td><td>piq                  </td><td>ark:/57799/b94s3c    </td><td> 9.59730             </td><td>-0.902003            </td><td>-28.647600           </td><td>0.610119             </td><td>NA                   </td><td>NA                   </td></tr>\n",
       "\t<tr><td>chr21:5010055-5010066</td><td>chr21                </td><td>5010055              </td><td>5010066              </td><td>MA0521.1             </td><td>-                    </td><td>chr21:5010055-5010066</td><td>ENCSR000EJK          </td><td>piq                  </td><td>ark:/57799/b94s3c    </td><td>10.08810             </td><td>-0.980274            </td><td>  3.693110           </td><td>0.558498             </td><td>NA                   </td><td>NA                   </td></tr>\n",
       "\t<tr><td>chr21:5010036-5010046</td><td>chr21                </td><td>5010036              </td><td>5010046              </td><td>MA0522.2             </td><td>-                    </td><td>chr21:5010036-5010046</td><td>ENCSR000EJK          </td><td>piq                  </td><td>ark:/57799/b94s3c    </td><td> 9.31676             </td><td>-0.957459            </td><td>  3.716900           </td><td>0.555803             </td><td>NA                   </td><td>NA                   </td></tr>\n",
       "\t<tr><td>chr21:5010250-5010264</td><td>chr21                </td><td>5010250              </td><td>5010264              </td><td>MA0154.3             </td><td>+                    </td><td>chr21:5010250-5010264</td><td>ENCSR000EJL          </td><td>piq                  </td><td>ark:/57799/b94s3c    </td><td> 9.40707             </td><td>-0.874145            </td><td>  1.084990           </td><td>0.578060             </td><td>NA                   </td><td>NA                   </td></tr>\n",
       "\t<tr><td>chr21:5010250-5010264</td><td>chr21                </td><td>5010250              </td><td>5010264              </td><td>MA0154.3             </td><td>+                    </td><td>chr21:5010250-5010264</td><td>ENCSR000EJL          </td><td>piq                  </td><td>ark:/57799/b94s3c    </td><td> 9.59730             </td><td>-0.876261            </td><td> -4.639570           </td><td>0.591431             </td><td>NA                   </td><td>NA                   </td></tr>\n",
       "\t<tr><td>chr21:5010055-5010066</td><td>chr21                </td><td>5010055              </td><td>5010066              </td><td>MA0521.1             </td><td>-                    </td><td>chr21:5010055-5010066</td><td>ENCSR000EJL          </td><td>piq                  </td><td>ark:/57799/b94s3c    </td><td>10.08810             </td><td>-0.950900            </td><td>  1.032030           </td><td>0.558161             </td><td>NA                   </td><td>NA                   </td></tr>\n",
       "\t<tr><td>chr21:5010036-5010046</td><td>chr21                </td><td>5010036              </td><td>5010046              </td><td>MA0522.2             </td><td>-                    </td><td>chr21:5010036-5010046</td><td>ENCSR000EJL          </td><td>piq                  </td><td>ark:/57799/b94s3c    </td><td> 9.31676             </td><td>-0.964308            </td><td>  7.399620           </td><td>0.536423             </td><td>NA                   </td><td>NA                   </td></tr>\n",
       "\t<tr><td>chr21:5010250-5010264</td><td>chr21                </td><td>5010250              </td><td>5010264              </td><td>MA0154.3             </td><td>+                    </td><td>chr21:5010250-5010264</td><td>ENCSR000EMQ          </td><td>piq                  </td><td>ark:/57799/b94s3c    </td><td> 9.40707             </td><td>-0.992447            </td><td> -0.243171           </td><td>0.546926             </td><td>NA                   </td><td>NA                   </td></tr>\n",
       "\t<tr><td>chr21:5010250-5010264</td><td>chr21                </td><td>5010250              </td><td>5010264              </td><td>MA0154.3             </td><td>+                    </td><td>chr21:5010250-5010264</td><td>ENCSR000EMQ          </td><td>piq                  </td><td>ark:/57799/b94s3c    </td><td> 9.59730             </td><td>-0.990747            </td><td>  3.034930           </td><td>0.556763             </td><td>NA                   </td><td>NA                   </td></tr>\n",
       "\t<tr><td>chr21:5010055-5010066</td><td>chr21                </td><td>5010055              </td><td>5010066              </td><td>MA0521.1             </td><td>-                    </td><td>chr21:5010055-5010066</td><td>ENCSR000EMQ          </td><td>piq                  </td><td>ark:/57799/b94s3c    </td><td>10.08810             </td><td>-0.944616            </td><td>  3.759220           </td><td>0.596916             </td><td>NA                   </td><td>NA                   </td></tr>\n",
       "\t<tr><td>chr21:5010036-5010046</td><td>chr21                </td><td>5010036              </td><td>5010046              </td><td>MA0522.2             </td><td>-                    </td><td>chr21:5010036-5010046</td><td>ENCSR000EMQ          </td><td>piq                  </td><td>ark:/57799/b94s3c    </td><td> 9.31676             </td><td>-1.039350            </td><td> -4.194680           </td><td>0.560156             </td><td>NA                   </td><td>NA                   </td></tr>\n",
       "\t<tr><td>chr21:5010250-5010264</td><td>chr21                </td><td>5010250              </td><td>5010264              </td><td>MA0154.3             </td><td>+                    </td><td>chr21:5010250-5010264</td><td>ENCSR000EMR          </td><td>piq                  </td><td>ark:/57799/b94s3c    </td><td> 9.40707             </td><td>-0.997144            </td><td>-35.264900           </td><td>0.512742             </td><td>NA                   </td><td>NA                   </td></tr>\n",
       "\t<tr><td>chr21:5010250-5010264</td><td>chr21                </td><td>5010250              </td><td>5010264              </td><td>MA0154.3             </td><td>+                    </td><td>chr21:5010250-5010264</td><td>ENCSR000EMR          </td><td>piq                  </td><td>ark:/57799/b94s3c    </td><td> 9.59730             </td><td>-0.941780            </td><td>-33.912900           </td><td>0.544905             </td><td>NA                   </td><td>NA                   </td></tr>\n",
       "\t<tr><td>chr21:5010055-5010066</td><td>chr21                </td><td>5010055              </td><td>5010066              </td><td>MA0521.1             </td><td>-                    </td><td>chr21:5010055-5010066</td><td>ENCSR000EMR          </td><td>piq                  </td><td>ark:/57799/b94s3c    </td><td>10.08810             </td><td>-0.939771            </td><td>  0.905721           </td><td>0.553065             </td><td>NA                   </td><td>NA                   </td></tr>\n",
       "\t<tr><td>chr21:5010036-5010046</td><td>chr21                </td><td>5010036              </td><td>5010046              </td><td>MA0522.2             </td><td>-                    </td><td>chr21:5010036-5010046</td><td>ENCSR000EMR          </td><td>piq                  </td><td>ark:/57799/b94s3c    </td><td> 9.31676             </td><td>-0.917129            </td><td>  7.164010           </td><td>0.551950             </td><td>NA                   </td><td>NA                   </td></tr>\n",
       "\t<tr><td>chr21:5010250-5010264</td><td>chr21                </td><td>5010250              </td><td>5010264              </td><td>MA0154.3             </td><td>+                    </td><td>chr21:5010250-5010264</td><td>ENCSR000EMS          </td><td>piq                  </td><td>ark:/57799/b94s3c    </td><td> 9.40707             </td><td>-1.149460            </td><td>-11.040600           </td><td>0.546858             </td><td>NA                   </td><td>NA                   </td></tr>\n",
       "\t<tr><td>chr21:5010250-5010264</td><td>chr21                </td><td>5010250              </td><td>5010264              </td><td>MA0154.3             </td><td>+                    </td><td>chr21:5010250-5010264</td><td>ENCSR000EMS          </td><td>piq                  </td><td>ark:/57799/b94s3c    </td><td> 9.59730             </td><td>-1.172480            </td><td>-10.887000           </td><td>0.543562             </td><td>NA                   </td><td>NA                   </td></tr>\n",
       "\t<tr><td>chr21:5010055-5010066</td><td>chr21                </td><td>5010055              </td><td>5010066              </td><td>MA0521.1             </td><td>-                    </td><td>chr21:5010055-5010066</td><td>ENCSR000EMS          </td><td>piq                  </td><td>ark:/57799/b94s3c    </td><td>10.08810             </td><td>-1.067870            </td><td>-42.237300           </td><td>0.551495             </td><td>NA                   </td><td>NA                   </td></tr>\n",
       "\t<tr><td>chr21:5010036-5010046</td><td>chr21                </td><td>5010036              </td><td>5010046              </td><td>MA0522.2             </td><td>-                    </td><td>chr21:5010036-5010046</td><td>ENCSR000EMS          </td><td>piq                  </td><td>ark:/57799/b94s3c    </td><td> 9.31676             </td><td>-0.926119            </td><td>  6.773890           </td><td>0.653772             </td><td>NA                   </td><td>NA                   </td></tr>\n",
       "\t<tr><td>chr21:5010250-5010264</td><td>chr21                </td><td>5010250              </td><td>5010264              </td><td>MA0154.3             </td><td>+                    </td><td>chr21:5010250-5010264</td><td>ENCSR000EMT          </td><td>piq                  </td><td>ark:/57799/b94s3c    </td><td> 9.40707             </td><td>-0.866128            </td><td>-32.620700           </td><td>0.612460             </td><td>NA                   </td><td>NA                   </td></tr>\n",
       "\t<tr><td>chr21:5010250-5010264</td><td>chr21                </td><td>5010250              </td><td>5010264              </td><td>MA0154.3             </td><td>+                    </td><td>chr21:5010250-5010264</td><td>ENCSR000EMT          </td><td>piq                  </td><td>ark:/57799/b94s3c    </td><td> 9.59730             </td><td>-0.933730            </td><td>  1.407650           </td><td>0.559408             </td><td>NA                   </td><td>NA                   </td></tr>\n",
       "\t<tr><td>chr21:5010055-5010066</td><td>chr21                </td><td>5010055              </td><td>5010066              </td><td>MA0521.1             </td><td>-                    </td><td>chr21:5010055-5010066</td><td>ENCSR000EMT          </td><td>piq                  </td><td>ark:/57799/b94s3c    </td><td>10.08810             </td><td>-1.011610            </td><td>-40.289900           </td><td>0.523645             </td><td>NA                   </td><td>NA                   </td></tr>\n",
       "\t<tr><td>chr21:5010036-5010046</td><td>chr21                </td><td>5010036              </td><td>5010046              </td><td>MA0522.2             </td><td>-                    </td><td>chr21:5010036-5010046</td><td>ENCSR000EMT          </td><td>piq                  </td><td>ark:/57799/b94s3c    </td><td> 9.31676             </td><td>-1.021250            </td><td>  7.328100           </td><td>0.557278             </td><td>NA                   </td><td>NA                   </td></tr>\n",
       "</tbody>\n",
       "</table>\n"
      ],
      "text/latex": [
       "\\begin{tabular}{r|llllllllllllllll}\n",
       " loc & chrom & motif\\_start & motif\\_end & motif\\_name & strand & loc & sample\\_id & method & provenance & score1 & score2 & score3 & score4 & score5 & score6\\\\\n",
       "\\hline\n",
       "\t chr21:5010250-5010264 & chr21                 & 5010250               & 5010264               & MA0154.3              & +                     & chr21:5010250-5010264 & ENCSR000DBY           & piq                   & ark:/57799/b94s3c     &  9.40707              & -1.001770             & -40.42820             & 0.505164              & NA                    & NA                   \\\\\n",
       "\t chr21:5010250-5010264 & chr21                 & 5010250               & 5010264               & MA0154.3              & +                     & chr21:5010250-5010264 & ENCSR000DBY           & piq                   & ark:/57799/b94s3c     &  9.59730              & -1.032330             & -30.54910             & 0.501581              & NA                    & NA                   \\\\\n",
       "\t chr21:5010055-5010066 & chr21                 & 5010055               & 5010066               & MA0521.1              & -                     & chr21:5010055-5010066 & ENCSR000DBY           & piq                   & ark:/57799/b94s3c     & 10.08810              & -0.988884             & -15.12840             & 0.502115              & NA                    & NA                   \\\\\n",
       "\t chr21:5010036-5010046 & chr21                 & 5010036               & 5010046               & MA0522.2              & -                     & chr21:5010036-5010046 & ENCSR000DBY           & piq                   & ark:/57799/b94s3c     &  9.31676              & -0.985703             &   3.00831             & 0.499064              & NA                    & NA                   \\\\\n",
       "\t chr21:5010250-5010264 & chr21                 & 5010250               & 5010264               & MA0154.3              & +                     & chr21:5010250-5010264 & ENCSR000DBZ           & piq                   & ark:/57799/b94s3c     &  9.40707              & -0.964433             & -29.84530             & 0.517810              & NA                    & NA                   \\\\\n",
       "\t chr21:5010250-5010264 & chr21                 & 5010250               & 5010264               & MA0154.3              & +                     & chr21:5010250-5010264 & ENCSR000DBZ           & piq                   & ark:/57799/b94s3c     &  9.59730              & -0.927953             & -25.03730             & 0.525442              & NA                    & NA                   \\\\\n",
       "\t chr21:5010055-5010066 & chr21                 & 5010055               & 5010066               & MA0521.1              & -                     & chr21:5010055-5010066 & ENCSR000DBZ           & piq                   & ark:/57799/b94s3c     & 10.08810              & -0.981330             &  -6.86581             & 0.509039              & NA                    & NA                   \\\\\n",
       "\t chr21:5010036-5010046 & chr21                 & 5010036               & 5010046               & MA0522.2              & -                     & chr21:5010036-5010046 & ENCSR000DBZ           & piq                   & ark:/57799/b94s3c     &  9.31676              & -1.017100             & -21.90810             & 0.512333              & NA                    & NA                   \\\\\n",
       "\t chr21:5010250-5010264 & chr21                 & 5010250               & 5010264               & MA0154.3              & +                     & chr21:5010250-5010264 & ENCSR000DCA           & piq                   & ark:/57799/b94s3c     &  9.40707              & -0.992677             & -23.35120             & 0.506884              & NA                    & NA                   \\\\\n",
       "\t chr21:5010250-5010264 & chr21                 & 5010250               & 5010264               & MA0154.3              & +                     & chr21:5010250-5010264 & ENCSR000DCA           & piq                   & ark:/57799/b94s3c     &  9.59730              & -0.968508             &  -5.29493             & 0.512201              & NA                    & NA                   \\\\\n",
       "\t chr21:5010055-5010066 & chr21                 & 5010055               & 5010066               & MA0521.1              & -                     & chr21:5010055-5010066 & ENCSR000DCA           & piq                   & ark:/57799/b94s3c     & 10.08810              & -0.868144             &   1.47292             & 0.527559              & NA                    & NA                   \\\\\n",
       "\t chr21:5010036-5010046 & chr21                 & 5010036               & 5010046               & MA0522.2              & -                     & chr21:5010036-5010046 & ENCSR000DCA           & piq                   & ark:/57799/b94s3c     &  9.31676              & -0.971749             &   1.25129             & 0.513624              & NA                    & NA                   \\\\\n",
       "\t chr21:5010250-5010264 & chr21                 & 5010250               & 5010264               & MA0154.3              & +                     & chr21:5010250-5010264 & ENCSR000DCB           & piq                   & ark:/57799/b94s3c     &  9.40707              & -1.034300             & -39.64340             & 0.511955              & NA                    & NA                   \\\\\n",
       "\t chr21:5010250-5010264 & chr21                 & 5010250               & 5010264               & MA0154.3              & +                     & chr21:5010250-5010264 & ENCSR000DCB           & piq                   & ark:/57799/b94s3c     &  9.59730              & -0.922438             & -16.43730             & 0.537766              & NA                    & NA                   \\\\\n",
       "\t chr21:5010055-5010066 & chr21                 & 5010055               & 5010066               & MA0521.1              & -                     & chr21:5010055-5010066 & ENCSR000DCB           & piq                   & ark:/57799/b94s3c     & 10.08810              & -1.033570             & -34.97540             & 0.518800              & NA                    & NA                   \\\\\n",
       "\t chr21:5010036-5010046 & chr21                 & 5010036               & 5010046               & MA0522.2              & -                     & chr21:5010036-5010046 & ENCSR000DCB           & piq                   & ark:/57799/b94s3c     &  9.31676              & -1.024770             & -22.24610             & 0.529737              & NA                    & NA                   \\\\\n",
       "\t chr21:5010250-5010264 & chr21                 & 5010250               & 5010264               & MA0154.3              & +                     & chr21:5010250-5010264 & ENCSR000DCC           & piq                   & ark:/57799/b94s3c     &  9.40707              & -0.982875             & -34.52740             & 0.505680              & NA                    & NA                   \\\\\n",
       "\t chr21:5010250-5010264 & chr21                 & 5010250               & 5010264               & MA0154.3              & +                     & chr21:5010250-5010264 & ENCSR000DCC           & piq                   & ark:/57799/b94s3c     &  9.59730              & -1.001520             & -37.99850             & 0.504132              & NA                    & NA                   \\\\\n",
       "\t chr21:5010055-5010066 & chr21                 & 5010055               & 5010066               & MA0521.1              & -                     & chr21:5010055-5010066 & ENCSR000DCC           & piq                   & ark:/57799/b94s3c     & 10.08810              & -0.932074             & -24.11900             & 0.519346              & NA                    & NA                   \\\\\n",
       "\t chr21:5010036-5010046 & chr21                 & 5010036               & 5010046               & MA0522.2              & -                     & chr21:5010036-5010046 & ENCSR000DCC           & piq                   & ark:/57799/b94s3c     &  9.31676              & -0.998987             & -23.25020             & 0.509688              & NA                    & NA                   \\\\\n",
       "\t chr21:5010250-5010264 & chr21                 & 5010250               & 5010264               & MA0154.3              & +                     & chr21:5010250-5010264 & ENCSR000EJB           & piq                   & ark:/57799/b94s3c     &  9.40707              & -0.956425             & -30.21160             & 0.559882              & NA                    & NA                   \\\\\n",
       "\t chr21:5010250-5010264 & chr21                 & 5010250               & 5010264               & MA0154.3              & +                     & chr21:5010250-5010264 & ENCSR000EJB           & piq                   & ark:/57799/b94s3c     &  9.59730              & -1.012990             & -28.18720             & 0.544159              & NA                    & NA                   \\\\\n",
       "\t chr21:5010055-5010066 & chr21                 & 5010055               & 5010066               & MA0521.1              & -                     & chr21:5010055-5010066 & ENCSR000EJB           & piq                   & ark:/57799/b94s3c     & 10.08810              & -0.920473             &   8.04582             & 0.590620              & NA                    & NA                   \\\\\n",
       "\t chr21:5010036-5010046 & chr21                 & 5010036               & 5010046               & MA0522.2              & -                     & chr21:5010036-5010046 & ENCSR000EJB           & piq                   & ark:/57799/b94s3c     &  9.31676              & -0.996712             &   7.17653             & 0.566952              & NA                    & NA                   \\\\\n",
       "\t chr21:5010250-5010264 & chr21                 & 5010250               & 5010264               & MA0154.3              & +                     & chr21:5010250-5010264 & ENCSR000EJD           & piq                   & ark:/57799/b94s3c     &  9.40707              & -0.670294             &   6.77767             & 0.625177              & NA                    & NA                   \\\\\n",
       "\t chr21:5010250-5010264 & chr21                 & 5010250               & 5010264               & MA0154.3              & +                     & chr21:5010250-5010264 & ENCSR000EJD           & piq                   & ark:/57799/b94s3c     &  9.59730              & -0.741597             & -21.86400             & 0.656484              & NA                    & NA                   \\\\\n",
       "\t chr21:5010055-5010066 & chr21                 & 5010055               & 5010066               & MA0521.1              & -                     & chr21:5010055-5010066 & ENCSR000EJD           & piq                   & ark:/57799/b94s3c     & 10.08810              & -1.094130             &   7.31082             & 0.565086              & NA                    & NA                   \\\\\n",
       "\t chr21:5010036-5010046 & chr21                 & 5010036               & 5010046               & MA0522.2              & -                     & chr21:5010036-5010046 & ENCSR000EJD           & piq                   & ark:/57799/b94s3c     &  9.31676              & -0.973017             &   6.90711             & 0.607823              & NA                    & NA                   \\\\\n",
       "\t chr21:5010250-5010264 & chr21                 & 5010250               & 5010264               & MA0154.3              & +                     & chr21:5010250-5010264 & ENCSR000EJE           & piq                   & ark:/57799/b94s3c     &  9.40707              & -0.926622             & -36.92400             & 0.608861              & NA                    & NA                   \\\\\n",
       "\t chr21:5010250-5010264 & chr21                 & 5010250               & 5010264               & MA0154.3              & +                     & chr21:5010250-5010264 & ENCSR000EJE           & piq                   & ark:/57799/b94s3c     &  9.59730              & -0.847783             & -21.36690             & 0.655254              & NA                    & NA                   \\\\\n",
       "\t ⋮ & ⋮ & ⋮ & ⋮ & ⋮ & ⋮ & ⋮ & ⋮ & ⋮ & ⋮ & ⋮ & ⋮ & ⋮ & ⋮ & ⋮ & ⋮\\\\\n",
       "\t chr21:5010055-5010066 & chr21                 & 5010055               & 5010066               & MA0521.1              & -                     & chr21:5010055-5010066 & ENCSR000EJI           & piq                   & ark:/57799/b94s3c     & 10.08810              & -0.980365             & -10.205400            & 0.517853              & NA                    & NA                   \\\\\n",
       "\t chr21:5010036-5010046 & chr21                 & 5010036               & 5010046               & MA0522.2              & -                     & chr21:5010036-5010046 & ENCSR000EJI           & piq                   & ark:/57799/b94s3c     &  9.31676              & -0.989242             &   7.409310            & 0.510103              & NA                    & NA                   \\\\\n",
       "\t chr21:5010250-5010264 & chr21                 & 5010250               & 5010264               & MA0154.3              & +                     & chr21:5010250-5010264 & ENCSR000EJJ           & piq                   & ark:/57799/b94s3c     &  9.40707              & -0.916004             &   0.136020            & 0.579854              & NA                    & NA                   \\\\\n",
       "\t chr21:5010250-5010264 & chr21                 & 5010250               & 5010264               & MA0154.3              & +                     & chr21:5010250-5010264 & ENCSR000EJJ           & piq                   & ark:/57799/b94s3c     &  9.59730              & -0.963278             &  -2.200250            & 0.572453              & NA                    & NA                   \\\\\n",
       "\t chr21:5010055-5010066 & chr21                 & 5010055               & 5010066               & MA0521.1              & -                     & chr21:5010055-5010066 & ENCSR000EJJ           & piq                   & ark:/57799/b94s3c     & 10.08810              & -1.010230             &  -1.024360            & 0.534512              & NA                    & NA                   \\\\\n",
       "\t chr21:5010036-5010046 & chr21                 & 5010036               & 5010046               & MA0522.2              & -                     & chr21:5010036-5010046 & ENCSR000EJJ           & piq                   & ark:/57799/b94s3c     &  9.31676              & -0.940788             &   5.104830            & 0.571768              & NA                    & NA                   \\\\\n",
       "\t chr21:5010250-5010264 & chr21                 & 5010250               & 5010264               & MA0154.3              & +                     & chr21:5010250-5010264 & ENCSR000EJK           & piq                   & ark:/57799/b94s3c     &  9.40707              & -1.056420             &   6.009870            & 0.544279              & NA                    & NA                   \\\\\n",
       "\t chr21:5010250-5010264 & chr21                 & 5010250               & 5010264               & MA0154.3              & +                     & chr21:5010250-5010264 & ENCSR000EJK           & piq                   & ark:/57799/b94s3c     &  9.59730              & -0.902003             & -28.647600            & 0.610119              & NA                    & NA                   \\\\\n",
       "\t chr21:5010055-5010066 & chr21                 & 5010055               & 5010066               & MA0521.1              & -                     & chr21:5010055-5010066 & ENCSR000EJK           & piq                   & ark:/57799/b94s3c     & 10.08810              & -0.980274             &   3.693110            & 0.558498              & NA                    & NA                   \\\\\n",
       "\t chr21:5010036-5010046 & chr21                 & 5010036               & 5010046               & MA0522.2              & -                     & chr21:5010036-5010046 & ENCSR000EJK           & piq                   & ark:/57799/b94s3c     &  9.31676              & -0.957459             &   3.716900            & 0.555803              & NA                    & NA                   \\\\\n",
       "\t chr21:5010250-5010264 & chr21                 & 5010250               & 5010264               & MA0154.3              & +                     & chr21:5010250-5010264 & ENCSR000EJL           & piq                   & ark:/57799/b94s3c     &  9.40707              & -0.874145             &   1.084990            & 0.578060              & NA                    & NA                   \\\\\n",
       "\t chr21:5010250-5010264 & chr21                 & 5010250               & 5010264               & MA0154.3              & +                     & chr21:5010250-5010264 & ENCSR000EJL           & piq                   & ark:/57799/b94s3c     &  9.59730              & -0.876261             &  -4.639570            & 0.591431              & NA                    & NA                   \\\\\n",
       "\t chr21:5010055-5010066 & chr21                 & 5010055               & 5010066               & MA0521.1              & -                     & chr21:5010055-5010066 & ENCSR000EJL           & piq                   & ark:/57799/b94s3c     & 10.08810              & -0.950900             &   1.032030            & 0.558161              & NA                    & NA                   \\\\\n",
       "\t chr21:5010036-5010046 & chr21                 & 5010036               & 5010046               & MA0522.2              & -                     & chr21:5010036-5010046 & ENCSR000EJL           & piq                   & ark:/57799/b94s3c     &  9.31676              & -0.964308             &   7.399620            & 0.536423              & NA                    & NA                   \\\\\n",
       "\t chr21:5010250-5010264 & chr21                 & 5010250               & 5010264               & MA0154.3              & +                     & chr21:5010250-5010264 & ENCSR000EMQ           & piq                   & ark:/57799/b94s3c     &  9.40707              & -0.992447             &  -0.243171            & 0.546926              & NA                    & NA                   \\\\\n",
       "\t chr21:5010250-5010264 & chr21                 & 5010250               & 5010264               & MA0154.3              & +                     & chr21:5010250-5010264 & ENCSR000EMQ           & piq                   & ark:/57799/b94s3c     &  9.59730              & -0.990747             &   3.034930            & 0.556763              & NA                    & NA                   \\\\\n",
       "\t chr21:5010055-5010066 & chr21                 & 5010055               & 5010066               & MA0521.1              & -                     & chr21:5010055-5010066 & ENCSR000EMQ           & piq                   & ark:/57799/b94s3c     & 10.08810              & -0.944616             &   3.759220            & 0.596916              & NA                    & NA                   \\\\\n",
       "\t chr21:5010036-5010046 & chr21                 & 5010036               & 5010046               & MA0522.2              & -                     & chr21:5010036-5010046 & ENCSR000EMQ           & piq                   & ark:/57799/b94s3c     &  9.31676              & -1.039350             &  -4.194680            & 0.560156              & NA                    & NA                   \\\\\n",
       "\t chr21:5010250-5010264 & chr21                 & 5010250               & 5010264               & MA0154.3              & +                     & chr21:5010250-5010264 & ENCSR000EMR           & piq                   & ark:/57799/b94s3c     &  9.40707              & -0.997144             & -35.264900            & 0.512742              & NA                    & NA                   \\\\\n",
       "\t chr21:5010250-5010264 & chr21                 & 5010250               & 5010264               & MA0154.3              & +                     & chr21:5010250-5010264 & ENCSR000EMR           & piq                   & ark:/57799/b94s3c     &  9.59730              & -0.941780             & -33.912900            & 0.544905              & NA                    & NA                   \\\\\n",
       "\t chr21:5010055-5010066 & chr21                 & 5010055               & 5010066               & MA0521.1              & -                     & chr21:5010055-5010066 & ENCSR000EMR           & piq                   & ark:/57799/b94s3c     & 10.08810              & -0.939771             &   0.905721            & 0.553065              & NA                    & NA                   \\\\\n",
       "\t chr21:5010036-5010046 & chr21                 & 5010036               & 5010046               & MA0522.2              & -                     & chr21:5010036-5010046 & ENCSR000EMR           & piq                   & ark:/57799/b94s3c     &  9.31676              & -0.917129             &   7.164010            & 0.551950              & NA                    & NA                   \\\\\n",
       "\t chr21:5010250-5010264 & chr21                 & 5010250               & 5010264               & MA0154.3              & +                     & chr21:5010250-5010264 & ENCSR000EMS           & piq                   & ark:/57799/b94s3c     &  9.40707              & -1.149460             & -11.040600            & 0.546858              & NA                    & NA                   \\\\\n",
       "\t chr21:5010250-5010264 & chr21                 & 5010250               & 5010264               & MA0154.3              & +                     & chr21:5010250-5010264 & ENCSR000EMS           & piq                   & ark:/57799/b94s3c     &  9.59730              & -1.172480             & -10.887000            & 0.543562              & NA                    & NA                   \\\\\n",
       "\t chr21:5010055-5010066 & chr21                 & 5010055               & 5010066               & MA0521.1              & -                     & chr21:5010055-5010066 & ENCSR000EMS           & piq                   & ark:/57799/b94s3c     & 10.08810              & -1.067870             & -42.237300            & 0.551495              & NA                    & NA                   \\\\\n",
       "\t chr21:5010036-5010046 & chr21                 & 5010036               & 5010046               & MA0522.2              & -                     & chr21:5010036-5010046 & ENCSR000EMS           & piq                   & ark:/57799/b94s3c     &  9.31676              & -0.926119             &   6.773890            & 0.653772              & NA                    & NA                   \\\\\n",
       "\t chr21:5010250-5010264 & chr21                 & 5010250               & 5010264               & MA0154.3              & +                     & chr21:5010250-5010264 & ENCSR000EMT           & piq                   & ark:/57799/b94s3c     &  9.40707              & -0.866128             & -32.620700            & 0.612460              & NA                    & NA                   \\\\\n",
       "\t chr21:5010250-5010264 & chr21                 & 5010250               & 5010264               & MA0154.3              & +                     & chr21:5010250-5010264 & ENCSR000EMT           & piq                   & ark:/57799/b94s3c     &  9.59730              & -0.933730             &   1.407650            & 0.559408              & NA                    & NA                   \\\\\n",
       "\t chr21:5010055-5010066 & chr21                 & 5010055               & 5010066               & MA0521.1              & -                     & chr21:5010055-5010066 & ENCSR000EMT           & piq                   & ark:/57799/b94s3c     & 10.08810              & -1.011610             & -40.289900            & 0.523645              & NA                    & NA                   \\\\\n",
       "\t chr21:5010036-5010046 & chr21                 & 5010036               & 5010046               & MA0522.2              & -                     & chr21:5010036-5010046 & ENCSR000EMT           & piq                   & ark:/57799/b94s3c     &  9.31676              & -1.021250             &   7.328100            & 0.557278              & NA                    & NA                   \\\\\n",
       "\\end{tabular}\n"
      ],
      "text/plain": [
       "   loc                   chrom motif_start motif_end motif_name strand\n",
       "1  chr21:5010250-5010264 chr21 5010250     5010264   MA0154.3   +     \n",
       "2  chr21:5010250-5010264 chr21 5010250     5010264   MA0154.3   +     \n",
       "3  chr21:5010055-5010066 chr21 5010055     5010066   MA0521.1   -     \n",
       "4  chr21:5010036-5010046 chr21 5010036     5010046   MA0522.2   -     \n",
       "5  chr21:5010250-5010264 chr21 5010250     5010264   MA0154.3   +     \n",
       "6  chr21:5010250-5010264 chr21 5010250     5010264   MA0154.3   +     \n",
       "7  chr21:5010055-5010066 chr21 5010055     5010066   MA0521.1   -     \n",
       "8  chr21:5010036-5010046 chr21 5010036     5010046   MA0522.2   -     \n",
       "9  chr21:5010250-5010264 chr21 5010250     5010264   MA0154.3   +     \n",
       "10 chr21:5010250-5010264 chr21 5010250     5010264   MA0154.3   +     \n",
       "11 chr21:5010055-5010066 chr21 5010055     5010066   MA0521.1   -     \n",
       "12 chr21:5010036-5010046 chr21 5010036     5010046   MA0522.2   -     \n",
       "13 chr21:5010250-5010264 chr21 5010250     5010264   MA0154.3   +     \n",
       "14 chr21:5010250-5010264 chr21 5010250     5010264   MA0154.3   +     \n",
       "15 chr21:5010055-5010066 chr21 5010055     5010066   MA0521.1   -     \n",
       "16 chr21:5010036-5010046 chr21 5010036     5010046   MA0522.2   -     \n",
       "17 chr21:5010250-5010264 chr21 5010250     5010264   MA0154.3   +     \n",
       "18 chr21:5010250-5010264 chr21 5010250     5010264   MA0154.3   +     \n",
       "19 chr21:5010055-5010066 chr21 5010055     5010066   MA0521.1   -     \n",
       "20 chr21:5010036-5010046 chr21 5010036     5010046   MA0522.2   -     \n",
       "21 chr21:5010250-5010264 chr21 5010250     5010264   MA0154.3   +     \n",
       "22 chr21:5010250-5010264 chr21 5010250     5010264   MA0154.3   +     \n",
       "23 chr21:5010055-5010066 chr21 5010055     5010066   MA0521.1   -     \n",
       "24 chr21:5010036-5010046 chr21 5010036     5010046   MA0522.2   -     \n",
       "25 chr21:5010250-5010264 chr21 5010250     5010264   MA0154.3   +     \n",
       "26 chr21:5010250-5010264 chr21 5010250     5010264   MA0154.3   +     \n",
       "27 chr21:5010055-5010066 chr21 5010055     5010066   MA0521.1   -     \n",
       "28 chr21:5010036-5010046 chr21 5010036     5010046   MA0522.2   -     \n",
       "29 chr21:5010250-5010264 chr21 5010250     5010264   MA0154.3   +     \n",
       "30 chr21:5010250-5010264 chr21 5010250     5010264   MA0154.3   +     \n",
       "⋮  ⋮                     ⋮     ⋮           ⋮         ⋮          ⋮     \n",
       "43 chr21:5010055-5010066 chr21 5010055     5010066   MA0521.1   -     \n",
       "44 chr21:5010036-5010046 chr21 5010036     5010046   MA0522.2   -     \n",
       "45 chr21:5010250-5010264 chr21 5010250     5010264   MA0154.3   +     \n",
       "46 chr21:5010250-5010264 chr21 5010250     5010264   MA0154.3   +     \n",
       "47 chr21:5010055-5010066 chr21 5010055     5010066   MA0521.1   -     \n",
       "48 chr21:5010036-5010046 chr21 5010036     5010046   MA0522.2   -     \n",
       "49 chr21:5010250-5010264 chr21 5010250     5010264   MA0154.3   +     \n",
       "50 chr21:5010250-5010264 chr21 5010250     5010264   MA0154.3   +     \n",
       "51 chr21:5010055-5010066 chr21 5010055     5010066   MA0521.1   -     \n",
       "52 chr21:5010036-5010046 chr21 5010036     5010046   MA0522.2   -     \n",
       "53 chr21:5010250-5010264 chr21 5010250     5010264   MA0154.3   +     \n",
       "54 chr21:5010250-5010264 chr21 5010250     5010264   MA0154.3   +     \n",
       "55 chr21:5010055-5010066 chr21 5010055     5010066   MA0521.1   -     \n",
       "56 chr21:5010036-5010046 chr21 5010036     5010046   MA0522.2   -     \n",
       "57 chr21:5010250-5010264 chr21 5010250     5010264   MA0154.3   +     \n",
       "58 chr21:5010250-5010264 chr21 5010250     5010264   MA0154.3   +     \n",
       "59 chr21:5010055-5010066 chr21 5010055     5010066   MA0521.1   -     \n",
       "60 chr21:5010036-5010046 chr21 5010036     5010046   MA0522.2   -     \n",
       "61 chr21:5010250-5010264 chr21 5010250     5010264   MA0154.3   +     \n",
       "62 chr21:5010250-5010264 chr21 5010250     5010264   MA0154.3   +     \n",
       "63 chr21:5010055-5010066 chr21 5010055     5010066   MA0521.1   -     \n",
       "64 chr21:5010036-5010046 chr21 5010036     5010046   MA0522.2   -     \n",
       "65 chr21:5010250-5010264 chr21 5010250     5010264   MA0154.3   +     \n",
       "66 chr21:5010250-5010264 chr21 5010250     5010264   MA0154.3   +     \n",
       "67 chr21:5010055-5010066 chr21 5010055     5010066   MA0521.1   -     \n",
       "68 chr21:5010036-5010046 chr21 5010036     5010046   MA0522.2   -     \n",
       "69 chr21:5010250-5010264 chr21 5010250     5010264   MA0154.3   +     \n",
       "70 chr21:5010250-5010264 chr21 5010250     5010264   MA0154.3   +     \n",
       "71 chr21:5010055-5010066 chr21 5010055     5010066   MA0521.1   -     \n",
       "72 chr21:5010036-5010046 chr21 5010036     5010046   MA0522.2   -     \n",
       "   loc                   sample_id   method provenance        score1  \n",
       "1  chr21:5010250-5010264 ENCSR000DBY piq    ark:/57799/b94s3c  9.40707\n",
       "2  chr21:5010250-5010264 ENCSR000DBY piq    ark:/57799/b94s3c  9.59730\n",
       "3  chr21:5010055-5010066 ENCSR000DBY piq    ark:/57799/b94s3c 10.08810\n",
       "4  chr21:5010036-5010046 ENCSR000DBY piq    ark:/57799/b94s3c  9.31676\n",
       "5  chr21:5010250-5010264 ENCSR000DBZ piq    ark:/57799/b94s3c  9.40707\n",
       "6  chr21:5010250-5010264 ENCSR000DBZ piq    ark:/57799/b94s3c  9.59730\n",
       "7  chr21:5010055-5010066 ENCSR000DBZ piq    ark:/57799/b94s3c 10.08810\n",
       "8  chr21:5010036-5010046 ENCSR000DBZ piq    ark:/57799/b94s3c  9.31676\n",
       "9  chr21:5010250-5010264 ENCSR000DCA piq    ark:/57799/b94s3c  9.40707\n",
       "10 chr21:5010250-5010264 ENCSR000DCA piq    ark:/57799/b94s3c  9.59730\n",
       "11 chr21:5010055-5010066 ENCSR000DCA piq    ark:/57799/b94s3c 10.08810\n",
       "12 chr21:5010036-5010046 ENCSR000DCA piq    ark:/57799/b94s3c  9.31676\n",
       "13 chr21:5010250-5010264 ENCSR000DCB piq    ark:/57799/b94s3c  9.40707\n",
       "14 chr21:5010250-5010264 ENCSR000DCB piq    ark:/57799/b94s3c  9.59730\n",
       "15 chr21:5010055-5010066 ENCSR000DCB piq    ark:/57799/b94s3c 10.08810\n",
       "16 chr21:5010036-5010046 ENCSR000DCB piq    ark:/57799/b94s3c  9.31676\n",
       "17 chr21:5010250-5010264 ENCSR000DCC piq    ark:/57799/b94s3c  9.40707\n",
       "18 chr21:5010250-5010264 ENCSR000DCC piq    ark:/57799/b94s3c  9.59730\n",
       "19 chr21:5010055-5010066 ENCSR000DCC piq    ark:/57799/b94s3c 10.08810\n",
       "20 chr21:5010036-5010046 ENCSR000DCC piq    ark:/57799/b94s3c  9.31676\n",
       "21 chr21:5010250-5010264 ENCSR000EJB piq    ark:/57799/b94s3c  9.40707\n",
       "22 chr21:5010250-5010264 ENCSR000EJB piq    ark:/57799/b94s3c  9.59730\n",
       "23 chr21:5010055-5010066 ENCSR000EJB piq    ark:/57799/b94s3c 10.08810\n",
       "24 chr21:5010036-5010046 ENCSR000EJB piq    ark:/57799/b94s3c  9.31676\n",
       "25 chr21:5010250-5010264 ENCSR000EJD piq    ark:/57799/b94s3c  9.40707\n",
       "26 chr21:5010250-5010264 ENCSR000EJD piq    ark:/57799/b94s3c  9.59730\n",
       "27 chr21:5010055-5010066 ENCSR000EJD piq    ark:/57799/b94s3c 10.08810\n",
       "28 chr21:5010036-5010046 ENCSR000EJD piq    ark:/57799/b94s3c  9.31676\n",
       "29 chr21:5010250-5010264 ENCSR000EJE piq    ark:/57799/b94s3c  9.40707\n",
       "30 chr21:5010250-5010264 ENCSR000EJE piq    ark:/57799/b94s3c  9.59730\n",
       "⋮  ⋮                     ⋮           ⋮      ⋮                 ⋮       \n",
       "43 chr21:5010055-5010066 ENCSR000EJI piq    ark:/57799/b94s3c 10.08810\n",
       "44 chr21:5010036-5010046 ENCSR000EJI piq    ark:/57799/b94s3c  9.31676\n",
       "45 chr21:5010250-5010264 ENCSR000EJJ piq    ark:/57799/b94s3c  9.40707\n",
       "46 chr21:5010250-5010264 ENCSR000EJJ piq    ark:/57799/b94s3c  9.59730\n",
       "47 chr21:5010055-5010066 ENCSR000EJJ piq    ark:/57799/b94s3c 10.08810\n",
       "48 chr21:5010036-5010046 ENCSR000EJJ piq    ark:/57799/b94s3c  9.31676\n",
       "49 chr21:5010250-5010264 ENCSR000EJK piq    ark:/57799/b94s3c  9.40707\n",
       "50 chr21:5010250-5010264 ENCSR000EJK piq    ark:/57799/b94s3c  9.59730\n",
       "51 chr21:5010055-5010066 ENCSR000EJK piq    ark:/57799/b94s3c 10.08810\n",
       "52 chr21:5010036-5010046 ENCSR000EJK piq    ark:/57799/b94s3c  9.31676\n",
       "53 chr21:5010250-5010264 ENCSR000EJL piq    ark:/57799/b94s3c  9.40707\n",
       "54 chr21:5010250-5010264 ENCSR000EJL piq    ark:/57799/b94s3c  9.59730\n",
       "55 chr21:5010055-5010066 ENCSR000EJL piq    ark:/57799/b94s3c 10.08810\n",
       "56 chr21:5010036-5010046 ENCSR000EJL piq    ark:/57799/b94s3c  9.31676\n",
       "57 chr21:5010250-5010264 ENCSR000EMQ piq    ark:/57799/b94s3c  9.40707\n",
       "58 chr21:5010250-5010264 ENCSR000EMQ piq    ark:/57799/b94s3c  9.59730\n",
       "59 chr21:5010055-5010066 ENCSR000EMQ piq    ark:/57799/b94s3c 10.08810\n",
       "60 chr21:5010036-5010046 ENCSR000EMQ piq    ark:/57799/b94s3c  9.31676\n",
       "61 chr21:5010250-5010264 ENCSR000EMR piq    ark:/57799/b94s3c  9.40707\n",
       "62 chr21:5010250-5010264 ENCSR000EMR piq    ark:/57799/b94s3c  9.59730\n",
       "63 chr21:5010055-5010066 ENCSR000EMR piq    ark:/57799/b94s3c 10.08810\n",
       "64 chr21:5010036-5010046 ENCSR000EMR piq    ark:/57799/b94s3c  9.31676\n",
       "65 chr21:5010250-5010264 ENCSR000EMS piq    ark:/57799/b94s3c  9.40707\n",
       "66 chr21:5010250-5010264 ENCSR000EMS piq    ark:/57799/b94s3c  9.59730\n",
       "67 chr21:5010055-5010066 ENCSR000EMS piq    ark:/57799/b94s3c 10.08810\n",
       "68 chr21:5010036-5010046 ENCSR000EMS piq    ark:/57799/b94s3c  9.31676\n",
       "69 chr21:5010250-5010264 ENCSR000EMT piq    ark:/57799/b94s3c  9.40707\n",
       "70 chr21:5010250-5010264 ENCSR000EMT piq    ark:/57799/b94s3c  9.59730\n",
       "71 chr21:5010055-5010066 ENCSR000EMT piq    ark:/57799/b94s3c 10.08810\n",
       "72 chr21:5010036-5010046 ENCSR000EMT piq    ark:/57799/b94s3c  9.31676\n",
       "   score2    score3     score4   score5 score6\n",
       "1  -1.001770 -40.42820  0.505164 NA     NA    \n",
       "2  -1.032330 -30.54910  0.501581 NA     NA    \n",
       "3  -0.988884 -15.12840  0.502115 NA     NA    \n",
       "4  -0.985703   3.00831  0.499064 NA     NA    \n",
       "5  -0.964433 -29.84530  0.517810 NA     NA    \n",
       "6  -0.927953 -25.03730  0.525442 NA     NA    \n",
       "7  -0.981330  -6.86581  0.509039 NA     NA    \n",
       "8  -1.017100 -21.90810  0.512333 NA     NA    \n",
       "9  -0.992677 -23.35120  0.506884 NA     NA    \n",
       "10 -0.968508  -5.29493  0.512201 NA     NA    \n",
       "11 -0.868144   1.47292  0.527559 NA     NA    \n",
       "12 -0.971749   1.25129  0.513624 NA     NA    \n",
       "13 -1.034300 -39.64340  0.511955 NA     NA    \n",
       "14 -0.922438 -16.43730  0.537766 NA     NA    \n",
       "15 -1.033570 -34.97540  0.518800 NA     NA    \n",
       "16 -1.024770 -22.24610  0.529737 NA     NA    \n",
       "17 -0.982875 -34.52740  0.505680 NA     NA    \n",
       "18 -1.001520 -37.99850  0.504132 NA     NA    \n",
       "19 -0.932074 -24.11900  0.519346 NA     NA    \n",
       "20 -0.998987 -23.25020  0.509688 NA     NA    \n",
       "21 -0.956425 -30.21160  0.559882 NA     NA    \n",
       "22 -1.012990 -28.18720  0.544159 NA     NA    \n",
       "23 -0.920473   8.04582  0.590620 NA     NA    \n",
       "24 -0.996712   7.17653  0.566952 NA     NA    \n",
       "25 -0.670294   6.77767  0.625177 NA     NA    \n",
       "26 -0.741597 -21.86400  0.656484 NA     NA    \n",
       "27 -1.094130   7.31082  0.565086 NA     NA    \n",
       "28 -0.973017   6.90711  0.607823 NA     NA    \n",
       "29 -0.926622 -36.92400  0.608861 NA     NA    \n",
       "30 -0.847783 -21.36690  0.655254 NA     NA    \n",
       "⋮  ⋮         ⋮          ⋮        ⋮      ⋮     \n",
       "43 -0.980365 -10.205400 0.517853 NA     NA    \n",
       "44 -0.989242   7.409310 0.510103 NA     NA    \n",
       "45 -0.916004   0.136020 0.579854 NA     NA    \n",
       "46 -0.963278  -2.200250 0.572453 NA     NA    \n",
       "47 -1.010230  -1.024360 0.534512 NA     NA    \n",
       "48 -0.940788   5.104830 0.571768 NA     NA    \n",
       "49 -1.056420   6.009870 0.544279 NA     NA    \n",
       "50 -0.902003 -28.647600 0.610119 NA     NA    \n",
       "51 -0.980274   3.693110 0.558498 NA     NA    \n",
       "52 -0.957459   3.716900 0.555803 NA     NA    \n",
       "53 -0.874145   1.084990 0.578060 NA     NA    \n",
       "54 -0.876261  -4.639570 0.591431 NA     NA    \n",
       "55 -0.950900   1.032030 0.558161 NA     NA    \n",
       "56 -0.964308   7.399620 0.536423 NA     NA    \n",
       "57 -0.992447  -0.243171 0.546926 NA     NA    \n",
       "58 -0.990747   3.034930 0.556763 NA     NA    \n",
       "59 -0.944616   3.759220 0.596916 NA     NA    \n",
       "60 -1.039350  -4.194680 0.560156 NA     NA    \n",
       "61 -0.997144 -35.264900 0.512742 NA     NA    \n",
       "62 -0.941780 -33.912900 0.544905 NA     NA    \n",
       "63 -0.939771   0.905721 0.553065 NA     NA    \n",
       "64 -0.917129   7.164010 0.551950 NA     NA    \n",
       "65 -1.149460 -11.040600 0.546858 NA     NA    \n",
       "66 -1.172480 -10.887000 0.543562 NA     NA    \n",
       "67 -1.067870 -42.237300 0.551495 NA     NA    \n",
       "68 -0.926119   6.773890 0.653772 NA     NA    \n",
       "69 -0.866128 -32.620700 0.612460 NA     NA    \n",
       "70 -0.933730   1.407650 0.559408 NA     NA    \n",
       "71 -1.011610 -40.289900 0.523645 NA     NA    \n",
       "72 -1.021250   7.328100 0.557278 NA     NA    "
      ]
     },
     "metadata": {},
     "output_type": "display_data"
    }
   ],
   "source": [
    "dbGetQuery(db, query)"
   ]
  },
  {
   "cell_type": "code",
   "execution_count": 12,
   "metadata": {
    "collapsed": false
   },
   "outputs": [
    {
     "data": {
      "text/html": [
       "'select * from footprints fp inner join motifhits mh on fp.loc = mh.loc where fp.chrom = \\'chr21' and fp.motif_start &lt; 501030'"
      ],
      "text/latex": [
       "'select * from footprints fp inner join motifhits mh on fp.loc = mh.loc where fp.chrom = \\textbackslash{}'chr21' and fp.motif\\_start < 501030'"
      ],
      "text/markdown": [
       "'select * from footprints fp inner join motifhits mh on fp.loc = mh.loc where fp.chrom = \\'chr21' and fp.motif_start &lt; 501030'"
      ],
      "text/plain": [
       "[1] \"select * from footprints fp inner join motifhits mh on fp.loc = mh.loc where fp.chrom = 'chr21' and fp.motif_start < 501030\""
      ]
     },
     "metadata": {},
     "output_type": "display_data"
    }
   ],
   "source": [
    "query"
   ]
  },
  {
   "cell_type": "code",
   "execution_count": 13,
   "metadata": {
    "collapsed": false
   },
   "outputs": [
    {
     "data": {
      "text/html": [],
      "text/latex": [],
      "text/plain": [
       "<0 x 0 matrix>"
      ]
     },
     "metadata": {},
     "output_type": "display_data"
    }
   ],
   "source": [
    "dbGetQuery(db, query)"
   ]
  },
  {
   "cell_type": "code",
   "execution_count": null,
   "metadata": {
    "collapsed": true
   },
   "outputs": [],
   "source": []
  }
 ],
 "metadata": {
  "anaconda-cloud": {},
  "kernelspec": {
   "display_name": "R",
   "language": "R",
   "name": "ir"
  },
  "language_info": {
   "codemirror_mode": "r",
   "file_extension": ".r",
   "mimetype": "text/x-r-source",
   "name": "R",
   "pygments_lexer": "r",
   "version": "3.3.1"
  }
 },
 "nbformat": 4,
 "nbformat_minor": 0
}
