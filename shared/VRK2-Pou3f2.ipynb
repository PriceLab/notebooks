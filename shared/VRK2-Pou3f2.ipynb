{
 "cells": [
  {
   "cell_type": "code",
   "execution_count": 1,
   "metadata": {
    "collapsed": true
   },
   "outputs": [],
   "source": [
    "from igv import IGV, Reference, Track\n",
    "import pandas as pd"
   ]
  },
  {
   "cell_type": "code",
   "execution_count": 2,
   "metadata": {
    "collapsed": false
   },
   "outputs": [],
   "source": [
    "import sys, time\n",
    "sys.path.append(\"/users/pshannon/github/fimoService/client-python\")\n",
    "from FimoClient import *\n",
    "sys.path.append(\"/users/pshannon/github/getDNAService/client-python\")\n",
    "from GetDNAClient import *"
   ]
  },
  {
   "cell_type": "code",
   "execution_count": 3,
   "metadata": {
    "collapsed": true
   },
   "outputs": [],
   "source": [
    "fimo = FimoClient(\"whovian\", 5558)\n",
    "assert(fimo.getHost() == 'whovian:5558')\n",
    "dnaService = GetDNAClient(\"hg38\")\n",
    "assert(dnaService.getSequence(\"chr1\", 1, 5) == 'NNNNN')"
   ]
  },
  {
   "cell_type": "markdown",
   "metadata": {},
   "source": [
    "## The VRK2-associated [SNP](https://www.ncbi.nlm.nih.gov/projects/SNP/snp_ref.cgi?searchType=adhoc_search&type=rs&rs=rs13384219)\n",
    "\n",
    "hg38:  chr2:57907323"
   ]
  },
  {
   "cell_type": "code",
   "execution_count": 28,
   "metadata": {
    "collapsed": true
   },
   "outputs": [],
   "source": [
    "chrom = \"chr2\"\n",
    "loc = 57907323\n",
    "shoulder = 7\n",
    "snpLocus = \"%s:%d-%d\" % (chrom, loc-shoulder, loc+shoulder)\n",
    "viewRange = \"chr2:57,907,026-57,907,985\""
   ]
  },
  {
   "cell_type": "code",
   "execution_count": 29,
   "metadata": {
    "collapsed": false
   },
   "outputs": [
    {
     "data": {
      "text/html": [
       "\n",
       "            <div id=\"igv_8545224\" class=\"igv-js\"></div>\n",
       "            <script type=\"text/javascript\">\n",
       "                require([location.origin + Jupyter.contents.base_url + \"nbextensions/igv/igv-jupyter.js\"], function() {\n",
       "                    var div = $(\"#igv_8545224.igv-js\")[0], options = {\"tracks\": [{\"url\": \"//s3.amazonaws.com/igv.broadinstitute.org/annotations/hg38/genes/gencode.v24.annotation.sorted.gtf.gz\", \"displayMode\": \"EXPANDED\", \"indexURL\": \"//s3.amazonaws.com/igv.broadinstitute.org/annotations/hg38/genes/gencode.v24.annotation.sorted.gtf.gz.tbi\", \"name\": \"Genes\"}], \"flanking\": 1000, \"showNavigation\": true, \"showRuler\": true, \"showKaryo\": false, \"locus\": \"chr2:57,907,026-57,907,985\", \"double_click_delay\": 500, \"reference\": {\"id\": \"hg38\"}};\n",
       "                    igv.createBrowser(div, options);\n",
       "                });\n",
       "            </script>\n",
       "            "
      ],
      "text/plain": [
       "<igv.IGV at 0x7f609c172f28>"
      ]
     },
     "execution_count": 29,
     "metadata": {},
     "output_type": "execute_result"
    }
   ],
   "source": [
    "igv = IGV(locus=viewRange, reference=Reference(id=\"hg38\"), \n",
    "          tracks=[Track(\n",
    "                 name=\"Genes\", \n",
    "                 url=\"//s3.amazonaws.com/igv.broadinstitute.org/annotations/hg38/genes/gencode.v24.annotation.sorted.gtf.gz\",\n",
    "                 indexURL=\"//s3.amazonaws.com/igv.broadinstitute.org/annotations/hg38/genes/gencode.v24.annotation.sorted.gtf.gz.tbi\",\n",
    "                 display_mode=\"EXPANDED\")])\n",
    "igv"
   ]
  },
  {
   "cell_type": "code",
   "execution_count": 30,
   "metadata": {
    "collapsed": false
   },
   "outputs": [],
   "source": [
    "trackTbl = pd.DataFrame([[chrom, loc-shoulder, loc+shoulder, \"snp\"]])\n",
    "trackTbl.to_csv(\"vrk2Snp.bed\", sep=\"\\t\", header=False, index=False)\n",
    "newTrack = Track(name=\"rs13384219 \", format=\"bed\", indexed=False, \n",
    "                 url=\"http://whovian:10005/files/shared/vrk2Snp.bed\", \n",
    "                 display_mode='EXPANDED');"
   ]
  },
  {
   "cell_type": "code",
   "execution_count": 31,
   "metadata": {
    "collapsed": false
   },
   "outputs": [
    {
     "name": "stdout",
     "output_type": "stream",
     "text": [
      "Loading track into IGV.js\n"
     ]
    },
    {
     "data": {
      "text/html": [
       "\n",
       "            <script type=\"text/javascript\">\n",
       "                require([location.origin + Jupyter.contents.base_url + \"nbextensions/igv/igv-jupyter.js\"], function() {\n",
       "                    igv.browser.loadTrack({\"format\": \"bed\", \"url\": \"http://whovian:10005/files/shared/vrk2Snp.bed\", \"displayMode\": \"EXPANDED\", \"name\": \"rs13384219 \", \"indexed\": false});\n",
       "                });\n",
       "            </script>\n",
       "            "
      ],
      "text/plain": [
       "<IPython.core.display.HTML object>"
      ]
     },
     "execution_count": 31,
     "metadata": {},
     "output_type": "execute_result"
    }
   ],
   "source": [
    "igv.load_track(newTrack)"
   ]
  },
  {
   "cell_type": "code",
   "execution_count": 33,
   "metadata": {
    "collapsed": false
   },
   "outputs": [
    {
     "data": {
      "text/plain": [
       "'chr2:57907316-57907330'"
      ]
     },
     "execution_count": 33,
     "metadata": {},
     "output_type": "execute_result"
    }
   ],
   "source": [
    "snpLocus"
   ]
  },
  {
   "cell_type": "code",
   "execution_count": 34,
   "metadata": {
    "collapsed": false
   },
   "outputs": [
    {
     "name": "stdout",
     "output_type": "stream",
     "text": [
      "AGCATGCAAATTAGA\n"
     ]
    }
   ],
   "source": [
    "baseSequence = dnaService.getSequence(chrom, loc-shoulder, loc+shoulder)\n",
    "print(baseSequence)"
   ]
  },
  {
   "cell_type": "code",
   "execution_count": 35,
   "metadata": {
    "collapsed": true
   },
   "outputs": [],
   "source": [
    "end1 = shoulder\n",
    "start2 = shoulder + 1\n",
    "end2 = len(baseSequence)\n",
    "mutA = baseSequence[0:end1] + 'A' + baseSequence[start2:end2]\n",
    "mutG = baseSequence[0:end1] + 'G' + baseSequence[start2:end2]\n",
    "mutT = baseSequence[0:end1] + 'T' + baseSequence[start2:end2]"
   ]
  },
  {
   "cell_type": "code",
   "execution_count": 36,
   "metadata": {
    "collapsed": false
   },
   "outputs": [
    {
     "data": {
      "text/html": [
       "<div>\n",
       "<table border=\"1\" class=\"dataframe\">\n",
       "  <thead>\n",
       "    <tr style=\"text-align: right;\">\n",
       "      <th></th>\n",
       "      <th>0</th>\n",
       "    </tr>\n",
       "  </thead>\n",
       "  <tbody>\n",
       "    <tr>\n",
       "      <th>0</th>\n",
       "      <td>AGCATGCAAATTAGA</td>\n",
       "    </tr>\n",
       "    <tr>\n",
       "      <th>1</th>\n",
       "      <td>AGCATGCGAATTAGA</td>\n",
       "    </tr>\n",
       "  </tbody>\n",
       "</table>\n",
       "</div>"
      ],
      "text/plain": [
       "                 0\n",
       "0  AGCATGCAAATTAGA\n",
       "1  AGCATGCGAATTAGA"
      ]
     },
     "execution_count": 36,
     "metadata": {},
     "output_type": "execute_result"
    }
   ],
   "source": [
    "pd.DataFrame([[baseSequence], [mutG]])"
   ]
  },
  {
   "cell_type": "code",
   "execution_count": 37,
   "metadata": {
    "collapsed": true
   },
   "outputs": [],
   "source": [
    "tbl_fimo = fimo.request({\"wt\": baseSequence, \"mutG\": mutG})"
   ]
  },
  {
   "cell_type": "markdown",
   "metadata": {},
   "source": [
    "the highest-scoring motif on the + strand [MA0784.1](http://jaspar.genereg.net/cgi-bin/jaspar_db.pl?rm=present&collection=CORE&ID=MA0784.1)"
   ]
  },
  {
   "cell_type": "code",
   "execution_count": 38,
   "metadata": {
    "collapsed": false
   },
   "outputs": [
    {
     "data": {
      "text/html": [
       "<div>\n",
       "<table border=\"1\" class=\"dataframe\">\n",
       "  <thead>\n",
       "    <tr style=\"text-align: right;\">\n",
       "      <th></th>\n",
       "      <th>#pattern name</th>\n",
       "      <th>matched sequence</th>\n",
       "      <th>p-value</th>\n",
       "      <th>q-value</th>\n",
       "      <th>score</th>\n",
       "      <th>sequence name</th>\n",
       "      <th>start</th>\n",
       "      <th>stop</th>\n",
       "      <th>strand</th>\n",
       "    </tr>\n",
       "  </thead>\n",
       "  <tbody>\n",
       "    <tr>\n",
       "      <th>0</th>\n",
       "      <td>MA0507.1</td>\n",
       "      <td>CTAATTTGCATGC</td>\n",
       "      <td>0.000005</td>\n",
       "      <td>0.000062</td>\n",
       "      <td>15.3793</td>\n",
       "      <td>wt</td>\n",
       "      <td>2</td>\n",
       "      <td>14</td>\n",
       "      <td>-</td>\n",
       "    </tr>\n",
       "    <tr>\n",
       "      <th>1</th>\n",
       "      <td>MA0784.1</td>\n",
       "      <td>AGCATGCAAATTAG</td>\n",
       "      <td>0.000008</td>\n",
       "      <td>0.000062</td>\n",
       "      <td>14.0862</td>\n",
       "      <td>wt</td>\n",
       "      <td>1</td>\n",
       "      <td>14</td>\n",
       "      <td>+</td>\n",
       "    </tr>\n",
       "    <tr>\n",
       "      <th>2</th>\n",
       "      <td>MA0785.1</td>\n",
       "      <td>AGCATGCAAATT</td>\n",
       "      <td>0.000015</td>\n",
       "      <td>0.000242</td>\n",
       "      <td>13.0600</td>\n",
       "      <td>wt</td>\n",
       "      <td>1</td>\n",
       "      <td>12</td>\n",
       "      <td>+</td>\n",
       "    </tr>\n",
       "    <tr>\n",
       "      <th>3</th>\n",
       "      <td>MA0792.1</td>\n",
       "      <td>CATGCAAAT</td>\n",
       "      <td>0.000024</td>\n",
       "      <td>0.000676</td>\n",
       "      <td>12.3186</td>\n",
       "      <td>wt</td>\n",
       "      <td>3</td>\n",
       "      <td>11</td>\n",
       "      <td>+</td>\n",
       "    </tr>\n",
       "    <tr>\n",
       "      <th>4</th>\n",
       "      <td>MA0788.1</td>\n",
       "      <td>AGCATGCAAATTA</td>\n",
       "      <td>0.000025</td>\n",
       "      <td>0.000301</td>\n",
       "      <td>12.4400</td>\n",
       "      <td>wt</td>\n",
       "      <td>1</td>\n",
       "      <td>13</td>\n",
       "      <td>+</td>\n",
       "    </tr>\n",
       "    <tr>\n",
       "      <th>5</th>\n",
       "      <td>MA0787.1</td>\n",
       "      <td>GCATGCAAATTA</td>\n",
       "      <td>0.000033</td>\n",
       "      <td>0.000527</td>\n",
       "      <td>12.0323</td>\n",
       "      <td>wt</td>\n",
       "      <td>2</td>\n",
       "      <td>13</td>\n",
       "      <td>+</td>\n",
       "    </tr>\n",
       "    <tr>\n",
       "      <th>6</th>\n",
       "      <td>MA0068.2</td>\n",
       "      <td>CGAATTAG</td>\n",
       "      <td>0.000040</td>\n",
       "      <td>0.001270</td>\n",
       "      <td>11.4179</td>\n",
       "      <td>mutG</td>\n",
       "      <td>7</td>\n",
       "      <td>14</td>\n",
       "      <td>+</td>\n",
       "    </tr>\n",
       "    <tr>\n",
       "      <th>7</th>\n",
       "      <td>MA0786.1</td>\n",
       "      <td>GCATGCAAATTA</td>\n",
       "      <td>0.000051</td>\n",
       "      <td>0.000821</td>\n",
       "      <td>11.5181</td>\n",
       "      <td>wt</td>\n",
       "      <td>2</td>\n",
       "      <td>13</td>\n",
       "      <td>+</td>\n",
       "    </tr>\n",
       "    <tr>\n",
       "      <th>8</th>\n",
       "      <td>MA0789.1</td>\n",
       "      <td>CATGCAAAT</td>\n",
       "      <td>0.000079</td>\n",
       "      <td>0.002220</td>\n",
       "      <td>10.8571</td>\n",
       "      <td>wt</td>\n",
       "      <td>3</td>\n",
       "      <td>11</td>\n",
       "      <td>+</td>\n",
       "    </tr>\n",
       "    <tr>\n",
       "      <th>9</th>\n",
       "      <td>MA0068.2</td>\n",
       "      <td>CTAATTCG</td>\n",
       "      <td>0.000084</td>\n",
       "      <td>0.001340</td>\n",
       "      <td>10.9851</td>\n",
       "      <td>mutG</td>\n",
       "      <td>7</td>\n",
       "      <td>14</td>\n",
       "      <td>-</td>\n",
       "    </tr>\n",
       "  </tbody>\n",
       "</table>\n",
       "</div>"
      ],
      "text/plain": [
       "  #pattern name matched sequence   p-value   q-value    score sequence name  \\\n",
       "0      MA0507.1    CTAATTTGCATGC  0.000005  0.000062  15.3793            wt   \n",
       "1      MA0784.1   AGCATGCAAATTAG  0.000008  0.000062  14.0862            wt   \n",
       "2      MA0785.1     AGCATGCAAATT  0.000015  0.000242  13.0600            wt   \n",
       "3      MA0792.1        CATGCAAAT  0.000024  0.000676  12.3186            wt   \n",
       "4      MA0788.1    AGCATGCAAATTA  0.000025  0.000301  12.4400            wt   \n",
       "5      MA0787.1     GCATGCAAATTA  0.000033  0.000527  12.0323            wt   \n",
       "6      MA0068.2         CGAATTAG  0.000040  0.001270  11.4179          mutG   \n",
       "7      MA0786.1     GCATGCAAATTA  0.000051  0.000821  11.5181            wt   \n",
       "8      MA0789.1        CATGCAAAT  0.000079  0.002220  10.8571            wt   \n",
       "9      MA0068.2         CTAATTCG  0.000084  0.001340  10.9851          mutG   \n",
       "\n",
       "   start  stop strand  \n",
       "0      2    14      -  \n",
       "1      1    14      +  \n",
       "2      1    12      +  \n",
       "3      3    11      +  \n",
       "4      1    13      +  \n",
       "5      2    13      +  \n",
       "6      7    14      +  \n",
       "7      2    13      +  \n",
       "8      3    11      +  \n",
       "9      7    14      -  "
      ]
     },
     "execution_count": 38,
     "metadata": {},
     "output_type": "execute_result"
    }
   ],
   "source": [
    "tbl_fimo"
   ]
  },
  {
   "cell_type": "code",
   "execution_count": 16,
   "metadata": {
    "collapsed": false
   },
   "outputs": [],
   "source": [
    "import psycopg2 as psql"
   ]
  },
  {
   "cell_type": "code",
   "execution_count": 21,
   "metadata": {
    "collapsed": false
   },
   "outputs": [],
   "source": [
    "db  = psql.connect(\"dbname=hg38 user=pshannon\")"
   ]
  },
  {
   "cell_type": "code",
   "execution_count": 27,
   "metadata": {
    "collapsed": false
   },
   "outputs": [
    {
     "data": {
      "text/html": [
       "<div>\n",
       "<table border=\"1\" class=\"dataframe\">\n",
       "  <thead>\n",
       "    <tr style=\"text-align: right;\">\n",
       "      <th></th>\n",
       "      <th>motif</th>\n",
       "      <th>tf</th>\n",
       "    </tr>\n",
       "  </thead>\n",
       "  <tbody>\n",
       "    <tr>\n",
       "      <th>0</th>\n",
       "      <td>MA0068.2</td>\n",
       "      <td>PAX4</td>\n",
       "    </tr>\n",
       "    <tr>\n",
       "      <th>1</th>\n",
       "      <td>MA0068.2</td>\n",
       "      <td>PAX6</td>\n",
       "    </tr>\n",
       "    <tr>\n",
       "      <th>2</th>\n",
       "      <td>MA0068.2</td>\n",
       "      <td>PAX3</td>\n",
       "    </tr>\n",
       "    <tr>\n",
       "      <th>3</th>\n",
       "      <td>MA0068.2</td>\n",
       "      <td>PAX7</td>\n",
       "    </tr>\n",
       "  </tbody>\n",
       "</table>\n",
       "</div>"
      ],
      "text/plain": [
       "      motif    tf\n",
       "0  MA0068.2  PAX4\n",
       "1  MA0068.2  PAX6\n",
       "2  MA0068.2  PAX3\n",
       "3  MA0068.2  PAX7"
      ]
     },
     "execution_count": 27,
     "metadata": {},
     "output_type": "execute_result"
    }
   ],
   "source": [
    "pd.read_sql_query(\"select * from motifsgenes where motif in ('MA0068.2')\", db)"
   ]
  },
  {
   "cell_type": "code",
   "execution_count": 39,
   "metadata": {
    "collapsed": false
   },
   "outputs": [
    {
     "data": {
      "text/html": [
       "<div>\n",
       "<table border=\"1\" class=\"dataframe\">\n",
       "  <thead>\n",
       "    <tr style=\"text-align: right;\">\n",
       "      <th></th>\n",
       "      <th>motif</th>\n",
       "      <th>tf</th>\n",
       "    </tr>\n",
       "  </thead>\n",
       "  <tbody>\n",
       "    <tr>\n",
       "      <th>0</th>\n",
       "      <td>MA0507.1</td>\n",
       "      <td>POU2F2</td>\n",
       "    </tr>\n",
       "    <tr>\n",
       "      <th>1</th>\n",
       "      <td>MA0784.1</td>\n",
       "      <td>POU1F1</td>\n",
       "    </tr>\n",
       "    <tr>\n",
       "      <th>2</th>\n",
       "      <td>MA0785.1</td>\n",
       "      <td>POU2F1</td>\n",
       "    </tr>\n",
       "    <tr>\n",
       "      <th>3</th>\n",
       "      <td>MA0507.1</td>\n",
       "      <td>HDX</td>\n",
       "    </tr>\n",
       "    <tr>\n",
       "      <th>4</th>\n",
       "      <td>MA0507.1</td>\n",
       "      <td>HMBOX1</td>\n",
       "    </tr>\n",
       "    <tr>\n",
       "      <th>5</th>\n",
       "      <td>MA0507.1</td>\n",
       "      <td>POU6F1</td>\n",
       "    </tr>\n",
       "    <tr>\n",
       "      <th>6</th>\n",
       "      <td>MA0507.1</td>\n",
       "      <td>POU6F2</td>\n",
       "    </tr>\n",
       "    <tr>\n",
       "      <th>7</th>\n",
       "      <td>MA0507.1</td>\n",
       "      <td>POU5F1</td>\n",
       "    </tr>\n",
       "    <tr>\n",
       "      <th>8</th>\n",
       "      <td>MA0507.1</td>\n",
       "      <td>POU5F2</td>\n",
       "    </tr>\n",
       "    <tr>\n",
       "      <th>9</th>\n",
       "      <td>MA0507.1</td>\n",
       "      <td>POU4F1</td>\n",
       "    </tr>\n",
       "    <tr>\n",
       "      <th>10</th>\n",
       "      <td>MA0507.1</td>\n",
       "      <td>POU4F2</td>\n",
       "    </tr>\n",
       "    <tr>\n",
       "      <th>11</th>\n",
       "      <td>MA0507.1</td>\n",
       "      <td>POU4F3</td>\n",
       "    </tr>\n",
       "    <tr>\n",
       "      <th>12</th>\n",
       "      <td>MA0507.1</td>\n",
       "      <td>POU3F1</td>\n",
       "    </tr>\n",
       "    <tr>\n",
       "      <th>13</th>\n",
       "      <td>MA0507.1</td>\n",
       "      <td>POU3F2</td>\n",
       "    </tr>\n",
       "    <tr>\n",
       "      <th>14</th>\n",
       "      <td>MA0507.1</td>\n",
       "      <td>POU3F3</td>\n",
       "    </tr>\n",
       "    <tr>\n",
       "      <th>15</th>\n",
       "      <td>MA0507.1</td>\n",
       "      <td>POU3F4</td>\n",
       "    </tr>\n",
       "    <tr>\n",
       "      <th>16</th>\n",
       "      <td>MA0507.1</td>\n",
       "      <td>POU2F1</td>\n",
       "    </tr>\n",
       "    <tr>\n",
       "      <th>17</th>\n",
       "      <td>MA0507.1</td>\n",
       "      <td>POU2F3</td>\n",
       "    </tr>\n",
       "    <tr>\n",
       "      <th>18</th>\n",
       "      <td>MA0507.1</td>\n",
       "      <td>POU1F1</td>\n",
       "    </tr>\n",
       "    <tr>\n",
       "      <th>19</th>\n",
       "      <td>MA0784.1</td>\n",
       "      <td>HDX</td>\n",
       "    </tr>\n",
       "    <tr>\n",
       "      <th>20</th>\n",
       "      <td>MA0784.1</td>\n",
       "      <td>HMBOX1</td>\n",
       "    </tr>\n",
       "    <tr>\n",
       "      <th>21</th>\n",
       "      <td>MA0784.1</td>\n",
       "      <td>POU6F1</td>\n",
       "    </tr>\n",
       "    <tr>\n",
       "      <th>22</th>\n",
       "      <td>MA0784.1</td>\n",
       "      <td>POU6F2</td>\n",
       "    </tr>\n",
       "    <tr>\n",
       "      <th>23</th>\n",
       "      <td>MA0784.1</td>\n",
       "      <td>POU5F1</td>\n",
       "    </tr>\n",
       "    <tr>\n",
       "      <th>24</th>\n",
       "      <td>MA0784.1</td>\n",
       "      <td>POU5F2</td>\n",
       "    </tr>\n",
       "    <tr>\n",
       "      <th>25</th>\n",
       "      <td>MA0784.1</td>\n",
       "      <td>POU4F1</td>\n",
       "    </tr>\n",
       "    <tr>\n",
       "      <th>26</th>\n",
       "      <td>MA0784.1</td>\n",
       "      <td>POU4F2</td>\n",
       "    </tr>\n",
       "    <tr>\n",
       "      <th>27</th>\n",
       "      <td>MA0784.1</td>\n",
       "      <td>POU4F3</td>\n",
       "    </tr>\n",
       "    <tr>\n",
       "      <th>28</th>\n",
       "      <td>MA0784.1</td>\n",
       "      <td>POU3F1</td>\n",
       "    </tr>\n",
       "    <tr>\n",
       "      <th>29</th>\n",
       "      <td>MA0784.1</td>\n",
       "      <td>POU3F2</td>\n",
       "    </tr>\n",
       "    <tr>\n",
       "      <th>30</th>\n",
       "      <td>MA0784.1</td>\n",
       "      <td>POU3F3</td>\n",
       "    </tr>\n",
       "    <tr>\n",
       "      <th>31</th>\n",
       "      <td>MA0784.1</td>\n",
       "      <td>POU3F4</td>\n",
       "    </tr>\n",
       "    <tr>\n",
       "      <th>32</th>\n",
       "      <td>MA0784.1</td>\n",
       "      <td>POU2F1</td>\n",
       "    </tr>\n",
       "    <tr>\n",
       "      <th>33</th>\n",
       "      <td>MA0784.1</td>\n",
       "      <td>POU2F2</td>\n",
       "    </tr>\n",
       "    <tr>\n",
       "      <th>34</th>\n",
       "      <td>MA0784.1</td>\n",
       "      <td>POU2F3</td>\n",
       "    </tr>\n",
       "    <tr>\n",
       "      <th>35</th>\n",
       "      <td>MA0785.1</td>\n",
       "      <td>HDX</td>\n",
       "    </tr>\n",
       "    <tr>\n",
       "      <th>36</th>\n",
       "      <td>MA0785.1</td>\n",
       "      <td>HMBOX1</td>\n",
       "    </tr>\n",
       "    <tr>\n",
       "      <th>37</th>\n",
       "      <td>MA0785.1</td>\n",
       "      <td>POU6F1</td>\n",
       "    </tr>\n",
       "    <tr>\n",
       "      <th>38</th>\n",
       "      <td>MA0785.1</td>\n",
       "      <td>POU6F2</td>\n",
       "    </tr>\n",
       "    <tr>\n",
       "      <th>39</th>\n",
       "      <td>MA0785.1</td>\n",
       "      <td>POU5F1</td>\n",
       "    </tr>\n",
       "    <tr>\n",
       "      <th>40</th>\n",
       "      <td>MA0785.1</td>\n",
       "      <td>POU5F2</td>\n",
       "    </tr>\n",
       "    <tr>\n",
       "      <th>41</th>\n",
       "      <td>MA0785.1</td>\n",
       "      <td>POU4F1</td>\n",
       "    </tr>\n",
       "    <tr>\n",
       "      <th>42</th>\n",
       "      <td>MA0785.1</td>\n",
       "      <td>POU4F2</td>\n",
       "    </tr>\n",
       "    <tr>\n",
       "      <th>43</th>\n",
       "      <td>MA0785.1</td>\n",
       "      <td>POU4F3</td>\n",
       "    </tr>\n",
       "    <tr>\n",
       "      <th>44</th>\n",
       "      <td>MA0785.1</td>\n",
       "      <td>POU3F1</td>\n",
       "    </tr>\n",
       "    <tr>\n",
       "      <th>45</th>\n",
       "      <td>MA0785.1</td>\n",
       "      <td>POU3F2</td>\n",
       "    </tr>\n",
       "    <tr>\n",
       "      <th>46</th>\n",
       "      <td>MA0785.1</td>\n",
       "      <td>POU3F3</td>\n",
       "    </tr>\n",
       "    <tr>\n",
       "      <th>47</th>\n",
       "      <td>MA0785.1</td>\n",
       "      <td>POU3F4</td>\n",
       "    </tr>\n",
       "    <tr>\n",
       "      <th>48</th>\n",
       "      <td>MA0785.1</td>\n",
       "      <td>POU2F2</td>\n",
       "    </tr>\n",
       "    <tr>\n",
       "      <th>49</th>\n",
       "      <td>MA0785.1</td>\n",
       "      <td>POU2F3</td>\n",
       "    </tr>\n",
       "    <tr>\n",
       "      <th>50</th>\n",
       "      <td>MA0785.1</td>\n",
       "      <td>POU1F1</td>\n",
       "    </tr>\n",
       "  </tbody>\n",
       "</table>\n",
       "</div>"
      ],
      "text/plain": [
       "       motif      tf\n",
       "0   MA0507.1  POU2F2\n",
       "1   MA0784.1  POU1F1\n",
       "2   MA0785.1  POU2F1\n",
       "3   MA0507.1     HDX\n",
       "4   MA0507.1  HMBOX1\n",
       "5   MA0507.1  POU6F1\n",
       "6   MA0507.1  POU6F2\n",
       "7   MA0507.1  POU5F1\n",
       "8   MA0507.1  POU5F2\n",
       "9   MA0507.1  POU4F1\n",
       "10  MA0507.1  POU4F2\n",
       "11  MA0507.1  POU4F3\n",
       "12  MA0507.1  POU3F1\n",
       "13  MA0507.1  POU3F2\n",
       "14  MA0507.1  POU3F3\n",
       "15  MA0507.1  POU3F4\n",
       "16  MA0507.1  POU2F1\n",
       "17  MA0507.1  POU2F3\n",
       "18  MA0507.1  POU1F1\n",
       "19  MA0784.1     HDX\n",
       "20  MA0784.1  HMBOX1\n",
       "21  MA0784.1  POU6F1\n",
       "22  MA0784.1  POU6F2\n",
       "23  MA0784.1  POU5F1\n",
       "24  MA0784.1  POU5F2\n",
       "25  MA0784.1  POU4F1\n",
       "26  MA0784.1  POU4F2\n",
       "27  MA0784.1  POU4F3\n",
       "28  MA0784.1  POU3F1\n",
       "29  MA0784.1  POU3F2\n",
       "30  MA0784.1  POU3F3\n",
       "31  MA0784.1  POU3F4\n",
       "32  MA0784.1  POU2F1\n",
       "33  MA0784.1  POU2F2\n",
       "34  MA0784.1  POU2F3\n",
       "35  MA0785.1     HDX\n",
       "36  MA0785.1  HMBOX1\n",
       "37  MA0785.1  POU6F1\n",
       "38  MA0785.1  POU6F2\n",
       "39  MA0785.1  POU5F1\n",
       "40  MA0785.1  POU5F2\n",
       "41  MA0785.1  POU4F1\n",
       "42  MA0785.1  POU4F2\n",
       "43  MA0785.1  POU4F3\n",
       "44  MA0785.1  POU3F1\n",
       "45  MA0785.1  POU3F2\n",
       "46  MA0785.1  POU3F3\n",
       "47  MA0785.1  POU3F4\n",
       "48  MA0785.1  POU2F2\n",
       "49  MA0785.1  POU2F3\n",
       "50  MA0785.1  POU1F1"
      ]
     },
     "execution_count": 39,
     "metadata": {},
     "output_type": "execute_result"
    }
   ],
   "source": [
    "pd.read_sql_query(\"select * from motifsgenes where motif in ('MA0507.1', 'MA0784.1', 'MA0785.1')\", db)"
   ]
  },
  {
   "cell_type": "code",
   "execution_count": null,
   "metadata": {
    "collapsed": true
   },
   "outputs": [],
   "source": []
  }
 ],
 "metadata": {
  "anaconda-cloud": {},
  "kernelspec": {
   "display_name": "Python [Root]",
   "language": "python",
   "name": "Python [Root]"
  },
  "language_info": {
   "codemirror_mode": {
    "name": "ipython",
    "version": 3
   },
   "file_extension": ".py",
   "mimetype": "text/x-python",
   "name": "python",
   "nbconvert_exporter": "python",
   "pygments_lexer": "ipython3",
   "version": "3.5.2"
  }
 },
 "nbformat": 4,
 "nbformat_minor": 0
}
