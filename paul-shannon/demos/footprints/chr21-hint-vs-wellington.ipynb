{
 "cells": [
  {
   "cell_type": "code",
   "execution_count": 31,
   "metadata": {
    "collapsed": false
   },
   "outputs": [],
   "source": [
    "library(RPostgreSQL)\n",
    "library(igvR)\n",
    "printf <- function(...) print(noquote(sprintf(...)))"
   ]
  },
  {
   "cell_type": "code",
   "execution_count": 32,
   "metadata": {
    "collapsed": false
   },
   "outputs": [
    {
     "name": "stdout",
     "output_type": "stream",
     "text": [
      "[1] hint regions: 222660  hits: 504863  density: 2.267\n"
     ]
    }
   ],
   "source": [
    "db.hint <- dbConnect(PostgreSQL(), user= \"trena\", password=\"trena\", dbname=\"hintTest2\", host=\"whovian\")\n",
    "regions <- dbGetQuery(db.hint, \"select count(*) from regions\")[1,1]\n",
    "hits <-  dbGetQuery(db.hint, \"select count(*) from hits\")[1,1]\n",
    "printf(\"hint regions: %d  hits: %d  density: %2.3f\",  regions, hits, hits/regions)"
   ]
  },
  {
   "cell_type": "code",
   "execution_count": 33,
   "metadata": {
    "collapsed": false
   },
   "outputs": [
    {
     "name": "stdout",
     "output_type": "stream",
     "text": [
      "[1] wellington regions: 73685  hits: 187289  density: 2.542\n"
     ]
    }
   ],
   "source": [
    "db.wellington <- dbConnect(PostgreSQL(), user= \"trena\", password=\"trena\", dbname=\"wellington-test\", host=\"whovian\")\n",
    "regions <- dbGetQuery(db.wellington, \"select count(*) from regions\")[1,1]\n",
    "hits <-  dbGetQuery(db.wellington, \"select count(*) from hits\")[1,1]\n",
    "printf(\"wellington regions: %d  hits: %d  density: %2.3f\",  regions, hits, hits/regions)"
   ]
  },
  {
   "cell_type": "code",
   "execution_count": 34,
   "metadata": {
    "collapsed": true
   },
   "outputs": [],
   "source": [
    "APP.tss <- 25880550\n",
    "loc.chrom <- \"chr21\"\n",
    "loc.start <- APP.tss - 3000\n",
    "loc.stop  <- APP.tss + 1000"
   ]
  },
  {
   "cell_type": "code",
   "execution_count": 35,
   "metadata": {
    "collapsed": true
   },
   "outputs": [],
   "source": [
    "query <- paste(\"select * from regions r\",\n",
    "              \"inner join hits h\",\n",
    "              \"on r.loc = h.loc\",\n",
    "              sprintf(\"where r.chrom = '%s'\", loc.chrom),\n",
    "              sprintf(\"and r.start > %d and r.stop < %d\", loc.start, loc.stop))"
   ]
  },
  {
   "cell_type": "markdown",
   "metadata": {},
   "source": [
    "## find motif hits in footprints near APP tss in hint"
   ]
  },
  {
   "cell_type": "code",
   "execution_count": 36,
   "metadata": {
    "collapsed": true
   },
   "outputs": [],
   "source": [
    "tbl.hint <- dbGetQuery(db.hint, query)"
   ]
  },
  {
   "cell_type": "code",
   "execution_count": 37,
   "metadata": {
    "collapsed": false
   },
   "outputs": [
    {
     "name": "stdout",
     "output_type": "stream",
     "text": [
      "  chrom    start     stop     name strand   sample_id score1\n",
      "1 chr21 25879515 25879523 MA0597.1      - ENCSR000EJB     39\n",
      "2 chr21 25879510 25879519 MA0620.1      + ENCSR000EJB     39\n",
      "3 chr21 25879513 25879523 MA0646.1      + ENCSR000EJB     39\n",
      "4 chr21 25879839 25879847 MA0738.1      + ENCSR000EJB     13\n"
     ]
    }
   ],
   "source": [
    "columns.of.interest <- c(\"chrom\", \"start\", \"stop\", \"name\", \"strand\", \"sample_id\", \"score1\")\n",
    "print(tbl.hint[, columns.of.interest])"
   ]
  },
  {
   "cell_type": "markdown",
   "metadata": {},
   "source": [
    "## in wellington"
   ]
  },
  {
   "cell_type": "code",
   "execution_count": 38,
   "metadata": {
    "collapsed": true
   },
   "outputs": [],
   "source": [
    "tbl.welt <- dbGetQuery(db.wellington, query)"
   ]
  },
  {
   "cell_type": "code",
   "execution_count": 39,
   "metadata": {
    "collapsed": false
   },
   "outputs": [
    {
     "name": "stdout",
     "output_type": "stream",
     "text": [
      "  chrom    start     stop     name strand   sample_id  score1\n",
      "1 chr21 25879545 25879558 MA0518.1      + ENCSR000EJB -17.862\n"
     ]
    }
   ],
   "source": [
    "print(tbl.welt[, columns.of.interest])"
   ]
  },
  {
   "cell_type": "code",
   "execution_count": null,
   "metadata": {
    "collapsed": true
   },
   "outputs": [],
   "source": []
  },
  {
   "cell_type": "code",
   "execution_count": null,
   "metadata": {
    "collapsed": true
   },
   "outputs": [],
   "source": []
  }
 ],
 "metadata": {
  "kernelspec": {
   "display_name": "R",
   "language": "R",
   "name": "ir"
  },
  "language_info": {
   "codemirror_mode": "r",
   "file_extension": ".r",
   "mimetype": "text/x-r-source",
   "name": "R",
   "pygments_lexer": "r",
   "version": "3.3.1"
  }
 },
 "nbformat": 4,
 "nbformat_minor": 0
}
