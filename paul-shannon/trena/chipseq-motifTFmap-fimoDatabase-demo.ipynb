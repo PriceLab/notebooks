{
 "cells": [
  {
   "cell_type": "code",
   "execution_count": 1,
   "metadata": {
    "collapsed": false
   },
   "outputs": [
    {
     "name": "stderr",
     "output_type": "stream",
     "text": [
      "Loading required package: DBI\n"
     ]
    }
   ],
   "source": [
    "library(RPostgreSQL)\n",
    "printf <- function(...) print(noquote(sprintf(...)))   "
   ]
  },
  {
   "cell_type": "code",
   "execution_count": 2,
   "metadata": {
    "collapsed": true
   },
   "outputs": [],
   "source": [
    "chrom <- \"chr13\"\n",
    "loc.start <- 41019200\n",
    "loc.end   <- 41019360\n",
    "loc.string <- sprintf(\"%s:d-d\", chrom, loc.start, loc.end)"
   ]
  },
  {
   "cell_type": "code",
   "execution_count": 3,
   "metadata": {
    "collapsed": true
   },
   "outputs": [],
   "source": [
    "db.cs <- dbConnect(PostgreSQL(), user=\"trena\", password=\"trena\", \n",
    "                   dbname=\"chipseq\", host=\"whovian\")\n",
    "\n",
    "db.trena <- dbConnect(PostgreSQL(), user=\"trena\", password=\"trena\", \n",
    "                      dbname=\"trena\", host=\"whovian\")"
   ]
  },
  {
   "cell_type": "code",
   "execution_count": 4,
   "metadata": {
    "collapsed": false
   },
   "outputs": [
    {
     "data": {
      "text/html": [
       "<table>\n",
       "<thead><tr><th scope=col>loc</th><th scope=col>type</th><th scope=col>name</th><th scope=col>length</th><th scope=col>strand</th><th scope=col>sample_id</th><th scope=col>method</th><th scope=col>provenance</th><th scope=col>score1</th><th scope=col>score2</th><th scope=col>score3</th><th scope=col>score4</th><th scope=col>score5</th><th scope=col>score6</th></tr></thead>\n",
       "<tbody>\n",
       "\t<tr><td>chr1:1677841-1677991</td><td>chipseq.peak        </td><td>ATF2                </td><td>151                 </td><td>NA                  </td><td>pooled              </td><td>cusanovitch         </td><td>chipseq.minid.tbd   </td><td>155                 </td><td>NA                  </td><td>NA                  </td><td>NA                  </td><td>NA                  </td><td>NA                  </td></tr>\n",
       "\t<tr><td>chr1:1678101-1678251</td><td>chipseq.peak        </td><td>ATF2                </td><td>151                 </td><td>NA                  </td><td>pooled              </td><td>cusanovitch         </td><td>chipseq.minid.tbd   </td><td>131                 </td><td>NA                  </td><td>NA                  </td><td>NA                  </td><td>NA                  </td><td>NA                  </td></tr>\n",
       "\t<tr><td>chr1:1828321-1828471</td><td>chipseq.peak        </td><td>ATF2                </td><td>151                 </td><td>NA                  </td><td>pooled              </td><td>cusanovitch         </td><td>chipseq.minid.tbd   </td><td> 30                 </td><td>NA                  </td><td>NA                  </td><td>NA                  </td><td>NA                  </td><td>NA                  </td></tr>\n",
       "</tbody>\n",
       "</table>\n"
      ],
      "text/latex": [
       "\\begin{tabular}{r|llllllllllllll}\n",
       " loc & type & name & length & strand & sample\\_id & method & provenance & score1 & score2 & score3 & score4 & score5 & score6\\\\\n",
       "\\hline\n",
       "\t chr1:1677841-1677991 & chipseq.peak         & ATF2                 & 151                  & NA                   & pooled               & cusanovitch          & chipseq.minid.tbd    & 155                  & NA                   & NA                   & NA                   & NA                   & NA                  \\\\\n",
       "\t chr1:1678101-1678251 & chipseq.peak         & ATF2                 & 151                  & NA                   & pooled               & cusanovitch          & chipseq.minid.tbd    & 131                  & NA                   & NA                   & NA                   & NA                   & NA                  \\\\\n",
       "\t chr1:1828321-1828471 & chipseq.peak         & ATF2                 & 151                  & NA                   & pooled               & cusanovitch          & chipseq.minid.tbd    &  30                  & NA                   & NA                   & NA                   & NA                   & NA                  \\\\\n",
       "\\end{tabular}\n"
      ],
      "text/plain": [
       "  loc                  type         name length strand sample_id method     \n",
       "1 chr1:1677841-1677991 chipseq.peak ATF2 151    NA     pooled    cusanovitch\n",
       "2 chr1:1678101-1678251 chipseq.peak ATF2 151    NA     pooled    cusanovitch\n",
       "3 chr1:1828321-1828471 chipseq.peak ATF2 151    NA     pooled    cusanovitch\n",
       "  provenance        score1 score2 score3 score4 score5 score6\n",
       "1 chipseq.minid.tbd 155    NA     NA     NA     NA     NA    \n",
       "2 chipseq.minid.tbd 131    NA     NA     NA     NA     NA    \n",
       "3 chipseq.minid.tbd  30    NA     NA     NA     NA     NA    "
      ]
     },
     "metadata": {},
     "output_type": "display_data"
    }
   ],
   "source": [
    "# what does the hits table look like?\n",
    "dbGetQuery(db.cs, \"select * from hits limit 3\")"
   ]
  },
  {
   "cell_type": "code",
   "execution_count": 5,
   "metadata": {
    "collapsed": false
   },
   "outputs": [
    {
     "data": {
      "text/plain": [
       "   user  system elapsed \n",
       "  0.005   0.000   0.082 "
      ]
     },
     "metadata": {},
     "output_type": "display_data"
    },
    {
     "data": {
      "text/html": [
       "<table>\n",
       "<thead><tr><th scope=col>loc</th><th scope=col>chrom</th><th scope=col>start</th><th scope=col>endpos</th></tr></thead>\n",
       "<tbody>\n",
       "\t<tr><td>chr13:41019204-41019354</td><td>chr13                  </td><td>41019204               </td><td>41019354               </td></tr>\n",
       "</tbody>\n",
       "</table>\n"
      ],
      "text/latex": [
       "\\begin{tabular}{r|llll}\n",
       " loc & chrom & start & endpos\\\\\n",
       "\\hline\n",
       "\t chr13:41019204-41019354 & chr13                   & 41019204                & 41019354               \\\\\n",
       "\\end{tabular}\n"
      ],
      "text/plain": [
       "  loc                     chrom start    endpos  \n",
       "1 chr13:41019204-41019354 chr13 41019204 41019354"
      ]
     },
     "metadata": {},
     "output_type": "display_data"
    }
   ],
   "source": [
    "query.regions <- sprintf(\"select * from regions where chrom='%s' and start > %d and endpos < %d\", \n",
    "                          chrom, loc.start, loc.end)\n",
    "system.time(tbl.regions <- dbGetQuery(db.cs, query.regions))  # 0.064 seconds \n",
    "tbl.regions"
   ]
  },
  {
   "cell_type": "code",
   "execution_count": 6,
   "metadata": {
    "collapsed": false
   },
   "outputs": [
    {
     "data": {
      "text/plain": [
       "   user  system elapsed \n",
       "  0.005   0.000   0.007 "
      ]
     },
     "metadata": {},
     "output_type": "display_data"
    },
    {
     "data": {
      "text/html": [
       "<ol class=list-inline>\n",
       "\t<li>36</li>\n",
       "\t<li>14</li>\n",
       "</ol>\n"
      ],
      "text/latex": [
       "\\begin{enumerate*}\n",
       "\\item 36\n",
       "\\item 14\n",
       "\\end{enumerate*}\n"
      ],
      "text/markdown": [
       "1. 36\n",
       "2. 14\n",
       "\n",
       "\n"
      ],
      "text/plain": [
       "[1] 36 14"
      ]
     },
     "metadata": {},
     "output_type": "display_data"
    }
   ],
   "source": [
    "query.hits <- sprintf(\"select * from hits where loc='%s'\", tbl.regions[1, \"loc\"])\n",
    "system.time(tbl.hits <- dbGetQuery(db.cs, query.hits))     # 0.35 seconds\n",
    "dim(tbl.hits)"
   ]
  },
  {
   "cell_type": "code",
   "execution_count": 7,
   "metadata": {
    "collapsed": false
   },
   "outputs": [
    {
     "data": {
      "text/html": [
       "<table>\n",
       "<thead><tr><th scope=col>chrom</th><th scope=col>start</th><th scope=col>endpos</th><th scope=col>name</th><th scope=col>strand</th><th scope=col>score1</th><th scope=col>type</th><th scope=col>length</th><th scope=col>sample_id</th><th scope=col>method</th></tr></thead>\n",
       "<tbody>\n",
       "\t<tr><td>chr13       </td><td>41019204    </td><td>41019354    </td><td>ATF2        </td><td>NA          </td><td>332         </td><td>chipseq.peak</td><td>151         </td><td>pooled      </td><td>cusanovitch </td></tr>\n",
       "\t<tr><td>chr13       </td><td>41019204    </td><td>41019354    </td><td>BATF        </td><td>NA          </td><td>332         </td><td>chipseq.peak</td><td>151         </td><td>pooled      </td><td>cusanovitch </td></tr>\n",
       "\t<tr><td>chr13       </td><td>41019204    </td><td>41019354    </td><td>BCL11A      </td><td>NA          </td><td>332         </td><td>chipseq.peak</td><td>151         </td><td>pooled      </td><td>cusanovitch </td></tr>\n",
       "\t<tr><td>chr13       </td><td>41019204    </td><td>41019354    </td><td>BCL3        </td><td>NA          </td><td>332         </td><td>chipseq.peak</td><td>151         </td><td>pooled      </td><td>cusanovitch </td></tr>\n",
       "\t<tr><td>chr13       </td><td>41019204    </td><td>41019354    </td><td>BCLAF1      </td><td>NA          </td><td>332         </td><td>chipseq.peak</td><td>151         </td><td>pooled      </td><td>cusanovitch </td></tr>\n",
       "\t<tr><td>chr13       </td><td>41019204    </td><td>41019354    </td><td>BHLHE40     </td><td>NA          </td><td>332         </td><td>chipseq.peak</td><td>151         </td><td>pooled      </td><td>cusanovitch </td></tr>\n",
       "</tbody>\n",
       "</table>\n"
      ],
      "text/latex": [
       "\\begin{tabular}{r|llllllllll}\n",
       " chrom & start & endpos & name & strand & score1 & type & length & sample\\_id & method\\\\\n",
       "\\hline\n",
       "\t chr13        & 41019204     & 41019354     & ATF2         & NA           & 332          & chipseq.peak & 151          & pooled       & cusanovitch \\\\\n",
       "\t chr13        & 41019204     & 41019354     & BATF         & NA           & 332          & chipseq.peak & 151          & pooled       & cusanovitch \\\\\n",
       "\t chr13        & 41019204     & 41019354     & BCL11A       & NA           & 332          & chipseq.peak & 151          & pooled       & cusanovitch \\\\\n",
       "\t chr13        & 41019204     & 41019354     & BCL3         & NA           & 332          & chipseq.peak & 151          & pooled       & cusanovitch \\\\\n",
       "\t chr13        & 41019204     & 41019354     & BCLAF1       & NA           & 332          & chipseq.peak & 151          & pooled       & cusanovitch \\\\\n",
       "\t chr13        & 41019204     & 41019354     & BHLHE40      & NA           & 332          & chipseq.peak & 151          & pooled       & cusanovitch \\\\\n",
       "\\end{tabular}\n"
      ],
      "text/plain": [
       "  chrom start    endpos   name    strand score1 type         length sample_id\n",
       "1 chr13 41019204 41019354 ATF2    NA     332    chipseq.peak 151    pooled   \n",
       "2 chr13 41019204 41019354 BATF    NA     332    chipseq.peak 151    pooled   \n",
       "3 chr13 41019204 41019354 BCL11A  NA     332    chipseq.peak 151    pooled   \n",
       "4 chr13 41019204 41019354 BCL3    NA     332    chipseq.peak 151    pooled   \n",
       "5 chr13 41019204 41019354 BCLAF1  NA     332    chipseq.peak 151    pooled   \n",
       "6 chr13 41019204 41019354 BHLHE40 NA     332    chipseq.peak 151    pooled   \n",
       "  method     \n",
       "1 cusanovitch\n",
       "2 cusanovitch\n",
       "3 cusanovitch\n",
       "4 cusanovitch\n",
       "5 cusanovitch\n",
       "6 cusanovitch"
      ]
     },
     "metadata": {},
     "output_type": "display_data"
    }
   ],
   "source": [
    "tbl.out <- merge(tbl.regions, tbl.hits, on=\"loc\")\n",
    "preferred.column.order <- c(\"chrom\", \"start\", \"endpos\", \"name\", \"strand\", \"score1\",\n",
    "                            \"type\", \"length\", \"sample_id\", \"method\", \"provenance\",\n",
    "                            \"score2\", \"score3\", \"score4\", \"score5\", \"score6\")\n",
    "tbl.out <- tbl.out[, preferred.column.order]\n",
    "head(tbl.out[, 1:10])"
   ]
  },
  {
   "cell_type": "code",
   "execution_count": 8,
   "metadata": {
    "collapsed": false
   },
   "outputs": [
    {
     "data": {
      "text/html": [
       "<table>\n",
       "<thead><tr><th scope=col>motifname</th><th scope=col>chrom</th><th scope=col>start</th><th scope=col>endpos</th><th scope=col>strand</th><th scope=col>motifscore</th><th scope=col>pval</th><th scope=col>empty</th><th scope=col>sequence</th></tr></thead>\n",
       "<tbody>\n",
       "\t<tr><td>MA0002.2   </td><td>10         </td><td>18991      </td><td>19001      </td><td>-          </td><td>12.4655    </td><td>2.73e-05   </td><td>           </td><td>TTCTGTGGTTC</td></tr>\n",
       "\t<tr><td>MA0002.2   </td><td>10         </td><td>19478      </td><td>19488      </td><td>-          </td><td>13.3448    </td><td>1.17e-05   </td><td>           </td><td>TTCTGTGGTTG</td></tr>\n",
       "\t<tr><td>MA0002.2   </td><td>10         </td><td>20814      </td><td>20824      </td><td>-          </td><td>12.9483    </td><td>1.69e-05   </td><td>           </td><td>GGCTGTGGGTT</td></tr>\n",
       "</tbody>\n",
       "</table>\n"
      ],
      "text/latex": [
       "\\begin{tabular}{r|lllllllll}\n",
       " motifname & chrom & start & endpos & strand & motifscore & pval & empty & sequence\\\\\n",
       "\\hline\n",
       "\t MA0002.2    & 10          & 18991       & 19001       & -           & 12.4655     & 2.73e-05    &             & TTCTGTGGTTC\\\\\n",
       "\t MA0002.2    & 10          & 19478       & 19488       & -           & 13.3448     & 1.17e-05    &             & TTCTGTGGTTG\\\\\n",
       "\t MA0002.2    & 10          & 20814       & 20824       & -           & 12.9483     & 1.69e-05    &             & GGCTGTGGGTT\\\\\n",
       "\\end{tabular}\n"
      ],
      "text/plain": [
       "  motifname chrom start endpos strand motifscore pval     empty sequence   \n",
       "1 MA0002.2  10    18991 19001  -      12.4655    2.73e-05       TTCTGTGGTTC\n",
       "2 MA0002.2  10    19478 19488  -      13.3448    1.17e-05       TTCTGTGGTTG\n",
       "3 MA0002.2  10    20814 20824  -      12.9483    1.69e-05       GGCTGTGGGTT"
      ]
     },
     "metadata": {},
     "output_type": "display_data"
    }
   ],
   "source": [
    "# remind ourselves what the fimo table looks like\n",
    "dbGetQuery(db.trena, \"select * from fimo_hg38 limit 3\")"
   ]
  },
  {
   "cell_type": "code",
   "execution_count": 9,
   "metadata": {
    "collapsed": false
   },
   "outputs": [
    {
     "data": {
      "text/plain": [
       "   user  system elapsed \n",
       "  0.004   0.001   5.073 "
      ]
     },
     "metadata": {},
     "output_type": "display_data"
    },
    {
     "data": {
      "text/html": [
       "<ol class=list-inline>\n",
       "\t<li>28</li>\n",
       "\t<li>9</li>\n",
       "</ol>\n"
      ],
      "text/latex": [
       "\\begin{enumerate*}\n",
       "\\item 28\n",
       "\\item 9\n",
       "\\end{enumerate*}\n"
      ],
      "text/markdown": [
       "1. 28\n",
       "2. 9\n",
       "\n",
       "\n"
      ],
      "text/plain": [
       "[1] 28  9"
      ]
     },
     "metadata": {},
     "output_type": "display_data"
    }
   ],
   "source": [
    "# get all the fimo hits in the region of interest\n",
    "query.fimo <- sprintf(\"select * from fimo_hg38 where chrom='%s' and start >= %d and endpos <= %d\",\n",
    "                      \"13\", loc.start, loc.end)\n",
    "system.time(tbl.fimo <- dbGetQuery(db.trena, query.fimo))  # 5.17 seconds; indexing needed?\n",
    "dim(tbl.fimo)"
   ]
  },
  {
   "cell_type": "code",
   "execution_count": 18,
   "metadata": {
    "collapsed": false
   },
   "outputs": [
    {
     "name": "stdout",
     "output_type": "stream",
     "text": [
      "[1] 27/36 tfs with known motifs\n"
     ]
    }
   ],
   "source": [
    "# what genes (tfs) have been mapped into chr13:41019200-4109360 by cusanovich ChIPseq?\n",
    "# which have motifs? \n",
    "genes.tfs <- sort(unique(tbl.out$name))                                             # 36\n",
    "genes.allMapped <- dbGetQuery(db.trena, \"select distinct gene from tfMotifs\")[,1]   # 847\n",
    "genes.tfs.withMotifs <- intersect(genes.tfs, genes.allMapped)                       # 27/36\n",
    "printf(\"%d/%d tfs with known motifs\", length(genes.tfs.withMotifs), length(genes.tfs))"
   ]
  },
  {
   "cell_type": "code",
   "execution_count": 19,
   "metadata": {
    "collapsed": false
   },
   "outputs": [],
   "source": [
    "# what motifs are associated with each of these allegedly bound tfs? \n",
    "\n",
    "f <- function(gene){\n",
    "  dbGetQuery(db.trena, sprintf(\"select motif from tfmotifs where gene = '%s'\", gene))[,1]  \n",
    "  }\n",
    "\n",
    "motifs.csGenes <- lapply(genes.tfs.withMotifs, f)\n",
    "                         \n",
    "names(motifs.csGenes) <- genes.tfs.withMotifs\n",
    "# print(head(motifs.csGenes))"
   ]
  },
  {
   "cell_type": "code",
   "execution_count": 17,
   "metadata": {
    "collapsed": false
   },
   "outputs": [
    {
     "name": "stdout",
     "output_type": "stream",
     "text": [
      "[1]     ATF2: MA0490.1,MA0491.1\n",
      "[1]     BATF: MA0462.1\n",
      "[1]  BHLHE40: \n",
      "[1]    CEBPB: \n",
      "[1]    EP300: \n",
      "[1]    FOXM1: \n",
      "[1]     IRF4: MA0050.2,MA0652.1\n",
      "[1]     JUND: MA0491.1,MA0490.1\n",
      "[1]      MAX: \n",
      "[1]      MAZ: \n",
      "[1]    MEF2A: \n",
      "[1]    MEF2C: \n",
      "[1]     MTA3: \n",
      "[1]     MXI1: \n",
      "[1]   NFATC1: \n",
      "[1]     NFIC: \n",
      "[1]    NFKB1: \n",
      "[1]     PAX5: \n",
      "[1]   POU2F2: \n",
      "[1]    RUNX3: \n",
      "[1]      SP1: \n",
      "[1]     SPI1: MA0080.4\n",
      "[1]    STAT3: MA0517.1\n",
      "[1]     TAF1: \n",
      "[1]      TBP: \n",
      "[1]     TCF3: \n",
      "[1]      YY1: MA0095.2\n"
     ]
    }
   ],
   "source": [
    "# filter this list, keeping only motifs actually mapped by fimo in the target region                                                                                                                                                                       \n",
    "motifs.fimo <- sort(unique(tbl.fimo$motifname))\n",
    "for(tf in names(motifs.csGenes)){\n",
    "   found.by.fimo <- intersect(motifs.csGenes[[tf]], motifs.fimo)\n",
    "   printf(\"%8s: %s\", tf, paste(found.by.fimo, collapse=\",\"))\n",
    "   }\n"
   ]
  },
  {
   "cell_type": "code",
   "execution_count": null,
   "metadata": {
    "collapsed": true
   },
   "outputs": [],
   "source": []
  }
 ],
 "metadata": {
  "kernelspec": {
   "display_name": "R",
   "language": "R",
   "name": "ir"
  },
  "language_info": {
   "codemirror_mode": "r",
   "file_extension": ".r",
   "mimetype": "text/x-r-source",
   "name": "R",
   "pygments_lexer": "r",
   "version": "3.3.1"
  }
 },
 "nbformat": 4,
 "nbformat_minor": 0
}
