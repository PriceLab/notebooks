{
 "cells": [
  {
   "cell_type": "code",
   "execution_count": 18,
   "metadata": {
    "collapsed": false
   },
   "outputs": [],
   "source": [
    "library(RPostgreSQL)\n",
    "library(RUnit)\n",
    "db <- dbConnect(PostgreSQL(), user= \"trena\", password=\"trena\", dbname=\"hint-test\", host=\"whovian\")\n",
    "db.hg38 <- dbConnect(PostgreSQL(), user= \"trena\", password=\"trena\", dbname=\"hg38\", host=\"whovian\")"
   ]
  },
  {
   "cell_type": "code",
   "execution_count": 5,
   "metadata": {
    "collapsed": false
   },
   "outputs": [
    {
     "data": {
      "text/html": [
       "<ol class=list-inline>\n",
       "\t<li>'hits'</li>\n",
       "\t<li>'regions'</li>\n",
       "</ol>\n"
      ],
      "text/latex": [
       "\\begin{enumerate*}\n",
       "\\item 'hits'\n",
       "\\item 'regions'\n",
       "\\end{enumerate*}\n"
      ],
      "text/markdown": [
       "1. 'hits'\n",
       "2. 'regions'\n",
       "\n",
       "\n"
      ],
      "text/plain": [
       "[1] \"hits\"    \"regions\""
      ]
     },
     "metadata": {},
     "output_type": "display_data"
    }
   ],
   "source": [
    "dbListTables(db)"
   ]
  },
  {
   "cell_type": "code",
   "execution_count": 9,
   "metadata": {
    "collapsed": true
   },
   "outputs": [],
   "source": [
    "tbl.regions <- dbGetQuery(db, \"select * from regions\")\n",
    "tbl.hits <- dbGetQuery(db, \"select * from hits\")"
   ]
  },
  {
   "cell_type": "code",
   "execution_count": 10,
   "metadata": {
    "collapsed": false
   },
   "outputs": [
    {
     "data": {
      "text/html": [
       "<ol class=list-inline>\n",
       "\t<li>222660</li>\n",
       "\t<li>4</li>\n",
       "</ol>\n"
      ],
      "text/latex": [
       "\\begin{enumerate*}\n",
       "\\item 222660\n",
       "\\item 4\n",
       "\\end{enumerate*}\n"
      ],
      "text/markdown": [
       "1. 222660\n",
       "2. 4\n",
       "\n",
       "\n"
      ],
      "text/plain": [
       "[1] 222660      4"
      ]
     },
     "metadata": {},
     "output_type": "display_data"
    },
    {
     "data": {
      "text/html": [
       "<ol class=list-inline>\n",
       "\t<li>504863</li>\n",
       "\t<li>13</li>\n",
       "</ol>\n"
      ],
      "text/latex": [
       "\\begin{enumerate*}\n",
       "\\item 504863\n",
       "\\item 13\n",
       "\\end{enumerate*}\n"
      ],
      "text/markdown": [
       "1. 504863\n",
       "2. 13\n",
       "\n",
       "\n"
      ],
      "text/plain": [
       "[1] 504863     13"
      ]
     },
     "metadata": {},
     "output_type": "display_data"
    }
   ],
   "source": [
    "dim(tbl.regions)\n",
    "dim(tbl.hits)"
   ]
  },
  {
   "cell_type": "code",
   "execution_count": 11,
   "metadata": {
    "collapsed": false
   },
   "outputs": [
    {
     "data": {
      "text/html": [
       "TRUE"
      ],
      "text/latex": [
       "TRUE"
      ],
      "text/markdown": [
       "TRUE"
      ],
      "text/plain": [
       "[1] TRUE"
      ]
     },
     "metadata": {},
     "output_type": "display_data"
    }
   ],
   "source": [
    "all(tbl.hits$loc %in% tbl.regions$loc)"
   ]
  },
  {
   "cell_type": "code",
   "execution_count": 12,
   "metadata": {
    "collapsed": false
   },
   "outputs": [
    {
     "data": {
      "text/html": [
       "<table>\n",
       "<thead><tr><th scope=col>loc</th><th scope=col>chrom</th><th scope=col>start</th><th scope=col>stop</th></tr></thead>\n",
       "<tbody>\n",
       "\t<tr><td>chr21:7132959-7132969</td><td>chr21                </td><td>7132959              </td><td>7132969              </td></tr>\n",
       "\t<tr><td>chr21:7380432-7380442</td><td>chr21                </td><td>7380432              </td><td>7380442              </td></tr>\n",
       "\t<tr><td>chr21:7385696-7385706</td><td>chr21                </td><td>7385696              </td><td>7385706              </td></tr>\n",
       "\t<tr><td>chr21:8466591-8466601</td><td>chr21                </td><td>8466591              </td><td>8466601              </td></tr>\n",
       "\t<tr><td>chr21:8700966-8700976</td><td>chr21                </td><td>8700966              </td><td>8700976              </td></tr>\n",
       "\t<tr><td>chr21:8770790-8770800</td><td>chr21                </td><td>8770790              </td><td>8770800              </td></tr>\n",
       "</tbody>\n",
       "</table>\n"
      ],
      "text/latex": [
       "\\begin{tabular}{r|llll}\n",
       " loc & chrom & start & stop\\\\\n",
       "\\hline\n",
       "\t chr21:7132959-7132969 & chr21                 & 7132959               & 7132969              \\\\\n",
       "\t chr21:7380432-7380442 & chr21                 & 7380432               & 7380442              \\\\\n",
       "\t chr21:7385696-7385706 & chr21                 & 7385696               & 7385706              \\\\\n",
       "\t chr21:8466591-8466601 & chr21                 & 8466591               & 8466601              \\\\\n",
       "\t chr21:8700966-8700976 & chr21                 & 8700966               & 8700976              \\\\\n",
       "\t chr21:8770790-8770800 & chr21                 & 8770790               & 8770800              \\\\\n",
       "\\end{tabular}\n"
      ],
      "text/plain": [
       "  loc                   chrom start   stop   \n",
       "1 chr21:7132959-7132969 chr21 7132959 7132969\n",
       "2 chr21:7380432-7380442 chr21 7380432 7380442\n",
       "3 chr21:7385696-7385706 chr21 7385696 7385706\n",
       "4 chr21:8466591-8466601 chr21 8466591 8466601\n",
       "5 chr21:8700966-8700976 chr21 8700966 8700976\n",
       "6 chr21:8770790-8770800 chr21 8770790 8770800"
      ]
     },
     "metadata": {},
     "output_type": "display_data"
    }
   ],
   "source": [
    "head(tbl.regions)"
   ]
  },
  {
   "cell_type": "code",
   "execution_count": 13,
   "metadata": {
    "collapsed": false
   },
   "outputs": [
    {
     "data": {
      "text/html": [
       "<table>\n",
       "<thead><tr><th scope=col>loc</th><th scope=col>type</th><th scope=col>name</th><th scope=col>strand</th><th scope=col>sample_id</th><th scope=col>method</th><th scope=col>provenance</th><th scope=col>score1</th><th scope=col>score2</th><th scope=col>score3</th><th scope=col>score4</th><th scope=col>score5</th><th scope=col>score6</th></tr></thead>\n",
       "<tbody>\n",
       "\t<tr><td>chr21:7132959-7132969</td><td>motif.in.footprint   </td><td>MA0002.2             </td><td>-                    </td><td>ENCSR000DBY          </td><td>HINT                 </td><td>corys.hint.minid     </td><td> 10                  </td><td>12.5345              </td><td>2.54e-05             </td><td>NA                   </td><td>NA                   </td><td>NA                   </td></tr>\n",
       "\t<tr><td>chr21:7380432-7380442</td><td>motif.in.footprint   </td><td>MA0002.2             </td><td>+                    </td><td>ENCSR000DBY          </td><td>HINT                 </td><td>corys.hint.minid     </td><td>  7                  </td><td>12.3448              </td><td>3.04e-05             </td><td>NA                   </td><td>NA                   </td><td>NA                   </td></tr>\n",
       "\t<tr><td>chr21:7385696-7385706</td><td>motif.in.footprint   </td><td>MA0002.2             </td><td>-                    </td><td>ENCSR000DBY          </td><td>HINT                 </td><td>corys.hint.minid     </td><td> 12                  </td><td>10.8103              </td><td>9.42e-05             </td><td>NA                   </td><td>NA                   </td><td>NA                   </td></tr>\n",
       "\t<tr><td>chr21:8466591-8466601</td><td>motif.in.footprint   </td><td>MA0002.2             </td><td>-                    </td><td>ENCSR000DBY          </td><td>HINT                 </td><td>corys.hint.minid     </td><td>184                  </td><td>11.2241              </td><td>7.16e-05             </td><td>NA                   </td><td>NA                   </td><td>NA                   </td></tr>\n",
       "\t<tr><td>chr21:8700966-8700976</td><td>motif.in.footprint   </td><td>MA0002.2             </td><td>-                    </td><td>ENCSR000DBY          </td><td>HINT                 </td><td>corys.hint.minid     </td><td>  4                  </td><td>12.8621              </td><td>1.85e-05             </td><td>NA                   </td><td>NA                   </td><td>NA                   </td></tr>\n",
       "\t<tr><td>chr21:8770790-8770800</td><td>motif.in.footprint   </td><td>MA0002.2             </td><td>+                    </td><td>ENCSR000DBY          </td><td>HINT                 </td><td>corys.hint.minid     </td><td> 10                  </td><td>12.0862              </td><td>3.83e-05             </td><td>NA                   </td><td>NA                   </td><td>NA                   </td></tr>\n",
       "</tbody>\n",
       "</table>\n"
      ],
      "text/latex": [
       "\\begin{tabular}{r|lllllllllllll}\n",
       " loc & type & name & strand & sample\\_id & method & provenance & score1 & score2 & score3 & score4 & score5 & score6\\\\\n",
       "\\hline\n",
       "\t chr21:7132959-7132969 & motif.in.footprint    & MA0002.2              & -                     & ENCSR000DBY           & HINT                  & corys.hint.minid      &  10                   & 12.5345               & 2.54e-05              & NA                    & NA                    & NA                   \\\\\n",
       "\t chr21:7380432-7380442 & motif.in.footprint    & MA0002.2              & +                     & ENCSR000DBY           & HINT                  & corys.hint.minid      &   7                   & 12.3448               & 3.04e-05              & NA                    & NA                    & NA                   \\\\\n",
       "\t chr21:7385696-7385706 & motif.in.footprint    & MA0002.2              & -                     & ENCSR000DBY           & HINT                  & corys.hint.minid      &  12                   & 10.8103               & 9.42e-05              & NA                    & NA                    & NA                   \\\\\n",
       "\t chr21:8466591-8466601 & motif.in.footprint    & MA0002.2              & -                     & ENCSR000DBY           & HINT                  & corys.hint.minid      & 184                   & 11.2241               & 7.16e-05              & NA                    & NA                    & NA                   \\\\\n",
       "\t chr21:8700966-8700976 & motif.in.footprint    & MA0002.2              & -                     & ENCSR000DBY           & HINT                  & corys.hint.minid      &   4                   & 12.8621               & 1.85e-05              & NA                    & NA                    & NA                   \\\\\n",
       "\t chr21:8770790-8770800 & motif.in.footprint    & MA0002.2              & +                     & ENCSR000DBY           & HINT                  & corys.hint.minid      &  10                   & 12.0862               & 3.83e-05              & NA                    & NA                    & NA                   \\\\\n",
       "\\end{tabular}\n"
      ],
      "text/plain": [
       "  loc                   type               name     strand sample_id   method\n",
       "1 chr21:7132959-7132969 motif.in.footprint MA0002.2 -      ENCSR000DBY HINT  \n",
       "2 chr21:7380432-7380442 motif.in.footprint MA0002.2 +      ENCSR000DBY HINT  \n",
       "3 chr21:7385696-7385706 motif.in.footprint MA0002.2 -      ENCSR000DBY HINT  \n",
       "4 chr21:8466591-8466601 motif.in.footprint MA0002.2 -      ENCSR000DBY HINT  \n",
       "5 chr21:8700966-8700976 motif.in.footprint MA0002.2 -      ENCSR000DBY HINT  \n",
       "6 chr21:8770790-8770800 motif.in.footprint MA0002.2 +      ENCSR000DBY HINT  \n",
       "  provenance       score1 score2  score3   score4 score5 score6\n",
       "1 corys.hint.minid  10    12.5345 2.54e-05 NA     NA     NA    \n",
       "2 corys.hint.minid   7    12.3448 3.04e-05 NA     NA     NA    \n",
       "3 corys.hint.minid  12    10.8103 9.42e-05 NA     NA     NA    \n",
       "4 corys.hint.minid 184    11.2241 7.16e-05 NA     NA     NA    \n",
       "5 corys.hint.minid   4    12.8621 1.85e-05 NA     NA     NA    \n",
       "6 corys.hint.minid  10    12.0862 3.83e-05 NA     NA     NA    "
      ]
     },
     "metadata": {},
     "output_type": "display_data"
    }
   ],
   "source": [
    "head(tbl.hits)"
   ]
  },
  {
   "cell_type": "code",
   "execution_count": 17,
   "metadata": {
    "collapsed": false
   },
   "outputs": [
    {
     "data": {
      "text/html": [
       "<ol class=list-inline>\n",
       "\t<li>2</li>\n",
       "\t<li>12</li>\n",
       "\t<li>23</li>\n",
       "\t<li>57</li>\n",
       "\t<li>71318</li>\n",
       "</ol>\n"
      ],
      "text/latex": [
       "\\begin{enumerate*}\n",
       "\\item 2\n",
       "\\item 12\n",
       "\\item 23\n",
       "\\item 57\n",
       "\\item 71318\n",
       "\\end{enumerate*}\n"
      ],
      "text/markdown": [
       "1. 2\n",
       "2. 12\n",
       "3. 23\n",
       "4. 57\n",
       "5. 71318\n",
       "\n",
       "\n"
      ],
      "text/plain": [
       "[1]     2    12    23    57 71318"
      ]
     },
     "metadata": {},
     "output_type": "display_data"
    }
   ],
   "source": [
    "fivenum(tbl.hits$score1)"
   ]
  },
  {
   "cell_type": "code",
   "execution_count": 19,
   "metadata": {
    "collapsed": false
   },
   "outputs": [
    {
     "data": {
      "text/html": [
       "<ol class=list-inline>\n",
       "\t<li>'gtf'</li>\n",
       "\t<li>'motifsgenes'</li>\n",
       "\t<li>'footprints'</li>\n",
       "</ol>\n"
      ],
      "text/latex": [
       "\\begin{enumerate*}\n",
       "\\item 'gtf'\n",
       "\\item 'motifsgenes'\n",
       "\\item 'footprints'\n",
       "\\end{enumerate*}\n"
      ],
      "text/markdown": [
       "1. 'gtf'\n",
       "2. 'motifsgenes'\n",
       "3. 'footprints'\n",
       "\n",
       "\n"
      ],
      "text/plain": [
       "[1] \"gtf\"         \"motifsgenes\" \"footprints\" "
      ]
     },
     "metadata": {},
     "output_type": "display_data"
    }
   ],
   "source": [
    "dbListTables(db.hg38)"
   ]
  },
  {
   "cell_type": "markdown",
   "metadata": {},
   "source": [
    "### APP is an AD-related gene on chr21.  look for motifs in footprints very nearby "
   ]
  },
  {
   "cell_type": "code",
   "execution_count": 20,
   "metadata": {
    "collapsed": true
   },
   "outputs": [],
   "source": [
    "goi <- \"APP\"   "
   ]
  },
  {
   "cell_type": "code",
   "execution_count": 65,
   "metadata": {
    "collapsed": false
   },
   "outputs": [],
   "source": [
    "app.tss <- dbGetQuery(db.hg38, \"select start from gtf where gene_name='APP' and moleculetype='gene'\")[1,1]\n",
    "p0 <- app.tss - 1200\n",
    "p1 <- app.tss + 1200"
   ]
  },
  {
   "cell_type": "code",
   "execution_count": 66,
   "metadata": {
    "collapsed": false
   },
   "outputs": [],
   "source": [
    "query <- sprintf(\"select * from regions where start>=%d and start <= %d\", p0, p1)"
   ]
  },
  {
   "cell_type": "code",
   "execution_count": 67,
   "metadata": {
    "collapsed": false
   },
   "outputs": [
    {
     "data": {
      "text/html": [
       "'select * from regions where start&gt;=25879350 and start &lt;= 25881750'"
      ],
      "text/latex": [
       "'select * from regions where start>=25879350 and start <= 25881750'"
      ],
      "text/markdown": [
       "'select * from regions where start&gt;=25879350 and start &lt;= 25881750'"
      ],
      "text/plain": [
       "[1] \"select * from regions where start>=25879350 and start <= 25881750\""
      ]
     },
     "metadata": {},
     "output_type": "display_data"
    }
   ],
   "source": [
    "query"
   ]
  },
  {
   "cell_type": "code",
   "execution_count": 68,
   "metadata": {
    "collapsed": false
   },
   "outputs": [
    {
     "data": {
      "text/html": [
       "<table>\n",
       "<thead><tr><th scope=col>loc</th><th scope=col>chrom</th><th scope=col>start</th><th scope=col>stop</th></tr></thead>\n",
       "<tbody>\n",
       "\t<tr><td>chr21:25881624-25881638</td><td>chr21                  </td><td>25881624               </td><td>25881638               </td></tr>\n",
       "\t<tr><td>chr21:25879515-25879523</td><td>chr21                  </td><td>25879515               </td><td>25879523               </td></tr>\n",
       "\t<tr><td>chr21:25879510-25879519</td><td>chr21                  </td><td>25879510               </td><td>25879519               </td></tr>\n",
       "\t<tr><td>chr21:25879513-25879523</td><td>chr21                  </td><td>25879513               </td><td>25879523               </td></tr>\n",
       "\t<tr><td>chr21:25879839-25879847</td><td>chr21                  </td><td>25879839               </td><td>25879847               </td></tr>\n",
       "\t<tr><td>chr21:25881750-25881759</td><td>chr21                  </td><td>25881750               </td><td>25881759               </td></tr>\n",
       "</tbody>\n",
       "</table>\n"
      ],
      "text/latex": [
       "\\begin{tabular}{r|llll}\n",
       " loc & chrom & start & stop\\\\\n",
       "\\hline\n",
       "\t chr21:25881624-25881638 & chr21                   & 25881624                & 25881638               \\\\\n",
       "\t chr21:25879515-25879523 & chr21                   & 25879515                & 25879523               \\\\\n",
       "\t chr21:25879510-25879519 & chr21                   & 25879510                & 25879519               \\\\\n",
       "\t chr21:25879513-25879523 & chr21                   & 25879513                & 25879523               \\\\\n",
       "\t chr21:25879839-25879847 & chr21                   & 25879839                & 25879847               \\\\\n",
       "\t chr21:25881750-25881759 & chr21                   & 25881750                & 25881759               \\\\\n",
       "\\end{tabular}\n"
      ],
      "text/plain": [
       "  loc                     chrom start    stop    \n",
       "1 chr21:25881624-25881638 chr21 25881624 25881638\n",
       "2 chr21:25879515-25879523 chr21 25879515 25879523\n",
       "3 chr21:25879510-25879519 chr21 25879510 25879519\n",
       "4 chr21:25879513-25879523 chr21 25879513 25879523\n",
       "5 chr21:25879839-25879847 chr21 25879839 25879847\n",
       "6 chr21:25881750-25881759 chr21 25881750 25881759"
      ]
     },
     "metadata": {},
     "output_type": "display_data"
    }
   ],
   "source": [
    "dbGetQuery(db, query)"
   ]
  },
  {
   "cell_type": "code",
   "execution_count": 52,
   "metadata": {
    "collapsed": false
   },
   "outputs": [
    {
     "data": {
      "text/html": [
       "<table>\n",
       "<thead><tr><th scope=col>loc</th><th scope=col>type</th><th scope=col>name</th><th scope=col>strand</th><th scope=col>sample_id</th><th scope=col>method</th><th scope=col>provenance</th><th scope=col>score1</th><th scope=col>score2</th><th scope=col>score3</th><th scope=col>score4</th><th scope=col>score5</th><th scope=col>score6</th></tr></thead>\n",
       "<tbody>\n",
       "\t<tr><td>chr21:25879839-25879847</td><td>motif.in.footprint     </td><td>MA0738.1               </td><td>+                      </td><td>ENCSR000EJB            </td><td>HINT                   </td><td>corys.hint.minid       </td><td>13                     </td><td>11.5273                </td><td>2.99e-05               </td><td>NA                     </td><td>NA                     </td><td>NA                     </td></tr>\n",
       "</tbody>\n",
       "</table>\n"
      ],
      "text/latex": [
       "\\begin{tabular}{r|lllllllllllll}\n",
       " loc & type & name & strand & sample\\_id & method & provenance & score1 & score2 & score3 & score4 & score5 & score6\\\\\n",
       "\\hline\n",
       "\t chr21:25879839-25879847 & motif.in.footprint      & MA0738.1                & +                       & ENCSR000EJB             & HINT                    & corys.hint.minid        & 13                      & 11.5273                 & 2.99e-05                & NA                      & NA                      & NA                     \\\\\n",
       "\\end{tabular}\n"
      ],
      "text/plain": [
       "  loc                     type               name     strand sample_id   method\n",
       "1 chr21:25879839-25879847 motif.in.footprint MA0738.1 +      ENCSR000EJB HINT  \n",
       "  provenance       score1 score2  score3   score4 score5 score6\n",
       "1 corys.hint.minid 13     11.5273 2.99e-05 NA     NA     NA    "
      ]
     },
     "metadata": {},
     "output_type": "display_data"
    }
   ],
   "source": [
    "dbGetQuery(db, \"select * from hits where loc='chr21:25879839-25879847'\")"
   ]
  },
  {
   "cell_type": "code",
   "execution_count": null,
   "metadata": {
    "collapsed": true
   },
   "outputs": [],
   "source": []
  }
 ],
 "metadata": {
  "kernelspec": {
   "display_name": "R",
   "language": "R",
   "name": "ir"
  },
  "language_info": {
   "codemirror_mode": "r",
   "file_extension": ".r",
   "mimetype": "text/x-r-source",
   "name": "R",
   "pygments_lexer": "r",
   "version": "3.3.1"
  }
 },
 "nbformat": 4,
 "nbformat_minor": 0
}
