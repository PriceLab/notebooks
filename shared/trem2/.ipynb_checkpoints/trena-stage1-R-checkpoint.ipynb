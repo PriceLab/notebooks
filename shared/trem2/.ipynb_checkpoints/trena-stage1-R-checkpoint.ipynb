{
 "cells": [
  {
   "cell_type": "markdown",
   "metadata": {},
   "source": [
    "## TREM2  study for Cory"
   ]
  },
  {
   "cell_type": "code",
   "execution_count": 1,
   "metadata": {
    "collapsed": false
   },
   "outputs": [
    {
     "name": "stderr",
     "output_type": "stream",
     "text": [
      "Loading required package: DBI\n",
      "Loading required package: glmnet\n",
      "Loading required package: Matrix\n",
      "Loading required package: foreach\n",
      "Loaded glmnet 2.0-5\n",
      "\n",
      "Loading required package: randomForest\n",
      "randomForest 4.6-12\n",
      "Type rfNews() to see new features/changes/bug fixes.\n",
      "Loading required package: vbsr\n",
      "Loading required package: GenomicRanges\n",
      "Loading required package: stats4\n",
      "Loading required package: BiocGenerics\n",
      "Loading required package: parallel\n",
      "\n",
      "Attaching package: ‘BiocGenerics’\n",
      "\n",
      "The following objects are masked from ‘package:parallel’:\n",
      "\n",
      "    clusterApply, clusterApplyLB, clusterCall, clusterEvalQ, clusterExport, clusterMap, parApply, parCapply, parLapply,\n",
      "    parLapplyLB, parRapply, parSapply, parSapplyLB\n",
      "\n",
      "The following object is masked from ‘package:randomForest’:\n",
      "\n",
      "    combine\n",
      "\n",
      "The following object is masked from ‘package:Matrix’:\n",
      "\n",
      "    which\n",
      "\n",
      "The following objects are masked from ‘package:stats’:\n",
      "\n",
      "    IQR, mad, xtabs\n",
      "\n",
      "The following objects are masked from ‘package:base’:\n",
      "\n",
      "    anyDuplicated, append, as.data.frame, cbind, colnames, do.call, duplicated, eval, evalq, Filter, Find, get, grep, grepl,\n",
      "    intersect, is.unsorted, lapply, lengths, Map, mapply, match, mget, order, paste, pmax, pmax.int, pmin, pmin.int,\n",
      "    Position, rank, rbind, Reduce, rownames, sapply, setdiff, sort, table, tapply, union, unique, unsplit, which, which.max,\n",
      "    which.min\n",
      "\n",
      "Loading required package: S4Vectors\n",
      "\n",
      "Attaching package: ‘S4Vectors’\n",
      "\n",
      "The following objects are masked from ‘package:Matrix’:\n",
      "\n",
      "    colMeans, colSums, expand, rowMeans, rowSums\n",
      "\n",
      "The following objects are masked from ‘package:base’:\n",
      "\n",
      "    colMeans, colSums, expand.grid, rowMeans, rowSums\n",
      "\n",
      "Loading required package: IRanges\n",
      "Loading required package: GenomeInfoDb\n",
      "Loading required package: doParallel\n",
      "Loading required package: iterators\n",
      "\n",
      "Attaching package: ‘TReNA’\n",
      "\n",
      "The following object is masked _by_ ‘.GlobalEnv’:\n",
      "\n",
      "    printf\n",
      "\n",
      "The following object is masked from ‘package:Matrix’:\n",
      "\n",
      "    solve\n",
      "\n",
      "The following object is masked from ‘package:base’:\n",
      "\n",
      "    solve\n",
      "\n",
      "\n",
      "Attaching package: ‘gplots’\n",
      "\n",
      "The following object is masked from ‘package:IRanges’:\n",
      "\n",
      "    space\n",
      "\n",
      "The following object is masked from ‘package:S4Vectors’:\n",
      "\n",
      "    space\n",
      "\n",
      "The following object is masked from ‘package:stats’:\n",
      "\n",
      "    lowess\n",
      "\n"
     ]
    }
   ],
   "source": [
    "library(RPostgreSQL)\n",
    "library(TReNA)\n",
    "library(gplots)\n",
    "library (RColorBrewer)"
   ]
  },
  {
   "cell_type": "code",
   "execution_count": 2,
   "metadata": {
    "collapsed": false
   },
   "outputs": [],
   "source": [
    "source(\"../trenadb-utils.R\")  # symlink to ~/github/BDDS/trenadb/src/utils.R"
   ]
  },
  {
   "cell_type": "code",
   "execution_count": 3,
   "metadata": {
    "collapsed": false
   },
   "outputs": [],
   "source": [
    "db.trena <- dbConnect(PostgreSQL(), user=\"trena\", password=\"trena\", dbname=\"trena\", host=\"whovian\")\n",
    "db.gtf <- dbConnect(PostgreSQL(), user= \"trena\", password=\"trena\", dbname=\"gtf\", host=\"whovian\")\n",
    "tbl.trem2 <- dbGetQuery(db.gtf, \"select * from hg38human where gene_name='TREM2' and moleculetype='gene'\")\n",
    "db.hint <- dbConnect(PostgreSQL(), user=\"trena\", password=\"trena\", dbname=\"hint\", host=\"whovian\")\n",
    "db.wellington <- dbConnect(PostgreSQL(), user=\"trena\", password=\"trena\", dbname=\"wellington\", host=\"whovian\")\n",
    "tbl.genesmotifs <- dbGetQuery(db.trena, \"select * from tfmotifs\")"
   ]
  },
  {
   "cell_type": "code",
   "execution_count": 4,
   "metadata": {
    "collapsed": false
   },
   "outputs": [
    {
     "data": {
      "text/html": [
       "<table>\n",
       "<thead><tr><th scope=col>chr</th><th scope=col>start</th><th scope=col>endpos</th><th scope=col>score</th><th scope=col>strand</th><th scope=col>frame</th><th scope=col>moleculetype</th><th scope=col>gene_id</th><th scope=col>gene_version</th><th scope=col>gene_name</th><th scope=col>⋯</th><th scope=col>havana_transcript_version</th><th scope=col>tag</th><th scope=col>transcript_support_level</th><th scope=col>exon_number</th><th scope=col>exon_id</th><th scope=col>exon_version</th><th scope=col>ccds_id</th><th scope=col>protein_id</th><th scope=col>protein_version</th><th scope=col>annotation</th></tr></thead>\n",
       "<tbody>\n",
       "\t<tr><td>chr6           </td><td>41158506       </td><td>41163186       </td><td>.              </td><td>-              </td><td>.              </td><td>gene           </td><td>ENSG00000095970</td><td>16             </td><td>TREM2          </td><td>⋯              </td><td>NA             </td><td>NA             </td><td>NA             </td><td>NA             </td><td>NA             </td><td>NA             </td><td>NA             </td><td>NA             </td><td>NA             </td><td>ensembl_havana </td></tr>\n",
       "</tbody>\n",
       "</table>\n"
      ],
      "text/latex": [
       "\\begin{tabular}{r|llllllllllllllllllllllllllllll}\n",
       " chr & start & endpos & score & strand & frame & moleculetype & gene\\_id & gene\\_version & gene\\_name & ⋯ & havana\\_transcript\\_version & tag & transcript\\_support\\_level & exon\\_number & exon\\_id & exon\\_version & ccds\\_id & protein\\_id & protein\\_version & annotation\\\\\n",
       "\\hline\n",
       "\t chr6             & 41158506         & 41163186         & .                & -                & .                & gene             & ENSG00000095970  & 16               & TREM2            & ⋯                & NA               & NA               & NA               & NA               & NA               & NA               & NA               & NA               & NA               & ensembl\\_havana\\\\\n",
       "\\end{tabular}\n"
      ],
      "text/plain": [
       "  chr  start    endpos   score strand frame moleculetype gene_id         gene_version gene_name ⋯ havana_transcript_version tag\n",
       "1 chr6 41158506 41163186 .     -      .     gene         ENSG00000095970 16           TREM2     ⋯ NA                        NA \n",
       "  transcript_support_level exon_number exon_id exon_version ccds_id protein_id protein_version annotation    \n",
       "1 NA                       NA          NA      NA           NA      NA         NA              ensembl_havana"
      ]
     },
     "metadata": {},
     "output_type": "display_data"
    }
   ],
   "source": [
    "tbl.trem2"
   ]
  },
  {
   "cell_type": "code",
   "execution_count": 5,
   "metadata": {
    "collapsed": false
   },
   "outputs": [],
   "source": [
    "target.gene <- \"TREM2\"\n",
    "shoulder <- 1000\n",
    "chrom <- tbl.trem2$chrom\n",
    "start <- tbl.trem2$start\n",
    "end <- tbl.trem2$end\n",
    "strand <- tbl.trem2$strand\n",
    "tss <- tbl.trem2$start\n",
    "if(tbl.trem2$strand == '-')\n",
    "   tss <- tbl.trem2$end\n",
    "start <- tss - shoulder\n",
    "end   <- tss + shoulder"
   ]
  },
  {
   "cell_type": "code",
   "execution_count": 6,
   "metadata": {
    "collapsed": false
   },
   "outputs": [
    {
     "data": {
      "text/html": [
       "41162186"
      ],
      "text/latex": [
       "41162186"
      ],
      "text/markdown": [
       "41162186"
      ],
      "text/plain": [
       "[1] 41162186"
      ]
     },
     "metadata": {},
     "output_type": "display_data"
    },
    {
     "data": {
      "text/html": [
       "41164186"
      ],
      "text/latex": [
       "41164186"
      ],
      "text/markdown": [
       "41164186"
      ],
      "text/plain": [
       "[1] 41164186"
      ]
     },
     "metadata": {},
     "output_type": "display_data"
    }
   ],
   "source": [
    "start; end;"
   ]
  },
  {
   "cell_type": "code",
   "execution_count": null,
   "metadata": {
    "collapsed": true
   },
   "outputs": [],
   "source": [
    "tbl.h <- createHintTable(chrom, start, end)\n",
    "motifs <- unique(tbl.h$motif.h)\n",
    "candidate.tfs <- sort(unique(subset(tbl.genesmotifs, motif %in% tbl.h$motif)$gene))\n",
    "tbl.h"
   ]
  },
  {
   "cell_type": "code",
   "execution_count": null,
   "metadata": {
    "collapsed": false
   },
   "outputs": [],
   "source": [
    "gene.list <- lapply(tbl.h$motif, function(mot) subset(tbl.genesmotifs, motif == mot)$gene)\n",
    "names(gene.list) <- tbl.h$motif\n",
    "gene.list.collapsed <- lapply(gene.list, function(x) paste(x, collapse=\",\"))\n",
    "genes.by.motif <- unlist(gene.list.collapsed, use.names=FALSE)\n",
    "tbl.mg <- data.frame(motif=names(gene.list.collapsed), genes=genes.by.motif, stringsAsFactors=FALSE)\n",
    "tbl <- merge(tbl.h, tbl.mg, by.x=\"motif.h\", by.y=\"motif\")"
   ]
  },
  {
   "cell_type": "code",
   "execution_count": null,
   "metadata": {
    "collapsed": true
   },
   "outputs": [],
   "source": [
    "tbl.bed <- locStringToBedTable(tbl$loc)"
   ]
  },
  {
   "cell_type": "code",
   "execution_count": null,
   "metadata": {
    "collapsed": false
   },
   "outputs": [],
   "source": [
    "tbl <- cbind(tbl, tbl.bed)\n",
    "colnames(tbl)\n",
    "preferred.colnames <- c(\"chrom\", \"start\", \"end\", \"motif.h\", \"samplecount.h\", \"length.h\",\n",
    "                       \"score1.h.median\", \"score1.h.best\", \"score2.h.median\", \"score2.h.best\",\n",
    "                       \"score3.h.median\", \"score3.h.best\", \"genes\")\n",
    "tbl <- tbl[, preferred.colnames]\n",
    "tbl"
   ]
  },
  {
   "cell_type": "code",
   "execution_count": null,
   "metadata": {
    "collapsed": true
   },
   "outputs": [],
   "source": [
    "write.table(tbl, file=\"trem2.hint.withMotifs.1kb.tsv\", row.names=FALSE, col.names=TRUE, sep=\"\\t\")"
   ]
  },
  {
   "cell_type": "code",
   "execution_count": null,
   "metadata": {
    "collapsed": false
   },
   "outputs": [],
   "source": [
    "print(load(\"~/github/Private_Cory_Data/inst/extdata/prepped.tcx.matrices.RData\"))"
   ]
  },
  {
   "cell_type": "code",
   "execution_count": null,
   "metadata": {
    "collapsed": true
   },
   "outputs": [],
   "source": [
    "matrices <- list(all=mtx.tcx, ad=mtx.tcx.ad, ctl=mtx.tcx.ctl)\n",
    "\n",
    "results <- lapply(matrices, function(mtx){\n",
    "   stopifnot(target.gene %in% rownames(mtx))\n",
    "   candidate.regulators <- intersect(candidate.tfs, rownames(mtx))\n",
    "   genes.of.interest <- c(target.gene, candidate.regulators)\n",
    "   mtx.sub <- mtx[genes.of.interest,]\n",
    "   mtx.adjusted <- asinh(mtx.sub)\n",
    "   trena <- TReNA(mtx.assay=mtx.adjusted, solver=\"lasso\", quiet=FALSE)\n",
    "   tbl <- solve(trena, target.gene, candidate.regulators, extraArgs=list(alpha=0.1, lambda=NULL))\n",
    "   })\n"
   ]
  },
  {
   "cell_type": "code",
   "execution_count": null,
   "metadata": {
    "collapsed": false
   },
   "outputs": [],
   "source": [
    "results2 <- lapply(names(results), function(name){\n",
    "    column.names <- colnames(results[[name]])\n",
    "    new.names <- paste(name, column.names, sep=\".\")\n",
    "    colnames(results[[name]]) <- new.names\n",
    "    results[[name]]\n",
    "    })\n",
    "\n",
    "names(results2) <- names(results)\n",
    "\n",
    "all.tfs <- sort(unique(c(rownames(results2[[1]]),\n",
    "                         rownames(results2[[2]]),\n",
    "                         rownames(results2[[3]]))))\n",
    "all.conditions <- c(colnames(results2[[1]]),\n",
    "                    colnames(results2[[2]]),\n",
    "                    colnames(results2[[3]]))\n",
    "names(results2) <- names(results)\n",
    "\n",
    "all.tfs <- sort(unique(c(rownames(results2[[1]]),\n",
    "                         rownames(results2[[2]]),\n",
    "                         rownames(results2[[3]]))))\n",
    "all.conditions <- c(colnames(results2[[1]]),\n",
    "                    colnames(results2[[2]]),\n",
    "                    colnames(results2[[3]]))\n"
   ]
  },
  {
   "cell_type": "code",
   "execution_count": null,
   "metadata": {
    "collapsed": false
   },
   "outputs": [],
   "source": [
    "options(width=120)\n",
    "m <- matrix(0, nrow=length(all.tfs), ncol=length(all.conditions), dimnames=list(all.tfs, all.conditions))\n",
    "for(i in 1:length(results2)){\n",
    "    mtx <- as.matrix(results2[[i]])\n",
    "    row.names <- rownames(mtx)\n",
    "    column.names <- colnames(mtx)\n",
    "    m[row.names, column.names] <- mtx\n",
    "    }\n",
    "\n",
    "m.beta <- m[, grep(\"beta\", colnames(m))]\n",
    "m.beta.noAll <- m.beta[, -(grep(\"all\", colnames(m.beta)))]\n",
    "heatmap.2(m.beta, margins=c(10,10), trace='none')\n",
    "heatmap.2(m.beta.noAll, margins=c(10,10), trace='none', cexCol=2)\n"
   ]
  },
  {
   "cell_type": "code",
   "execution_count": null,
   "metadata": {
    "collapsed": true
   },
   "outputs": [],
   "source": []
  },
  {
   "cell_type": "code",
   "execution_count": null,
   "metadata": {
    "collapsed": true
   },
   "outputs": [],
   "source": []
  }
 ],
 "metadata": {
  "kernelspec": {
   "display_name": "R",
   "language": "R",
   "name": "ir"
  },
  "language_info": {
   "codemirror_mode": "r",
   "file_extension": ".r",
   "mimetype": "text/x-r-source",
   "name": "R",
   "pygments_lexer": "r",
   "version": "3.3.1"
  }
 },
 "nbformat": 4,
 "nbformat_minor": 0
}
