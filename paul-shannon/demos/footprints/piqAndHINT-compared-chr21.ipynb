{
 "cells": [
  {
   "cell_type": "markdown",
   "metadata": {},
   "source": [
    "## An exploration of piq and HINT footprints on chr21\n",
    "\n",
    "I reported that our piq footprints (for 18 samples and ~550 motifs) totaled > 2B, but HINT footprints totaled only about 20M: two orders of magnitude.   Seth helpfully explained that we should expect to see a pretty good match of HINT and piq results if we filtered the piq results on some one or more of the scores piq reports.  I proposed that I do some exploratory (visual) data analysis of this matter, asked Seth for some thresholds.   Seth's reply:\n",
    "\n",
    "<code>\n",
    "Two approaches seem reasonable for filtering the PIQ results to get a smaller number of high-confidence footprints.\n",
    "\n",
    "1. The authors of PIQ recommend performing filtering based on the purity score. \"Purity\" is an odd term for 1 - FDR. i.e., a purity score of 0.7 corresponds to a 30% (predicted) False Discovery Rate. I think this is fine, but I'm not sure I trust their purity score will really function as an FDR...\n",
    "\n",
    "2. Alternatively, we can use the comparison to ChIP-seq to guide us.  It is common to define a cutoff value for the predictor that achieves a balance between precision and recall (i.e., the \"precision-recall break even\" point). Note that we can apply this approach to scores from Wellington and HINT, as well as PIQ. I calculated the PRBE for each of the three footprinting algorithms. For PIQ, I used the \"score\" column in my analysis, since this combines evidence about both the motif sequence and the shape of the DNase. The PRBE point will differ between TFs, so we'll have to see if there is a reasonable value to use across all the TFs with ChIP-seq. Here are the PRBE values for ELF1:\n",
    "\n",
    "         AUROC              PRBE        Precision.PRBE\n",
    "fimo    0.6566       14.62802959     0.124315387000103\n",
    "well.   0.8938       19.14902115     0.591500347532519\n",
    "hint    0.9742       228.1427216     0.710662422916252\n",
    "piq     0.7833       40.51518076     0.5462218250422\n",
    "</code>\n",
    "\n",
    "This notebook\n",
    "   * makes connections to temporary databases (chr21 only) for HINT and piq\n",
    "   * gets some summary statistics\n",
    "   * displays comparision igv tracks conditioned on region and scores\n",
    "   "
   ]
  },
  {
   "cell_type": "code",
   "execution_count": 1,
   "metadata": {
    "collapsed": false
   },
   "outputs": [],
   "source": [
    "import pandas as pd, psycopg2 as psql\n",
    "from igv import IGV, Reference, Track\n",
    "import time"
   ]
  },
  {
   "cell_type": "markdown",
   "metadata": {},
   "source": [
    "### make connections to the (currently separate) databases.  they wil be merged soon."
   ]
  },
  {
   "cell_type": "code",
   "execution_count": 2,
   "metadata": {
    "collapsed": false
   },
   "outputs": [],
   "source": [
    "dbHint = psql.connect(\"dbname=hintTest2  user=pshannon\")"
   ]
  },
  {
   "cell_type": "code",
   "execution_count": 3,
   "metadata": {
    "collapsed": true
   },
   "outputs": [],
   "source": [
    "dbpiq = psql.connect(\"dbname=piqTest user=pshannon\")"
   ]
  },
  {
   "cell_type": "markdown",
   "metadata": {},
   "source": [
    "### each database has two tables: regions, and hits.  learn their sizes before filtering"
   ]
  },
  {
   "cell_type": "code",
   "execution_count": 4,
   "metadata": {
    "collapsed": false
   },
   "outputs": [
    {
     "name": "stdout",
     "output_type": "stream",
     "text": [
      "HINT: 504863 hits in 222660 regions, density 2.27\n"
     ]
    }
   ],
   "source": [
    "regionCount = pd.read_sql_query(\"select count(*) from regions\", dbHint).ix[0,0]\n",
    "hitCount = pd.read_sql_query(\"select count(*) from hits\", dbHint).ix[0,0]\n",
    "print(\"HINT: %d hits in %d regions, density %4.2f\" % (hitCount, regionCount, \n",
    "                                                      hitCount/regionCount))"
   ]
  },
  {
   "cell_type": "code",
   "execution_count": 5,
   "metadata": {
    "collapsed": false
   },
   "outputs": [
    {
     "name": "stdout",
     "output_type": "stream",
     "text": [
      "piq: 30072096 hits in 1158121 regions, density 25.97\n"
     ]
    }
   ],
   "source": [
    "regionCount = pd.read_sql_query(\"select count(*) from regions\", dbpiq).ix[0,0]\n",
    "hitCount = pd.read_sql_query(\"select count(*) from hits\", dbpiq).ix[0,0]\n",
    "print(\"piq: %d hits in %d regions, density %4.2f\" % (hitCount, regionCount, \n",
    "                                                     hitCount/regionCount))"
   ]
  },
  {
   "cell_type": "markdown",
   "metadata": {},
   "source": [
    "### An arbitrary choice: look upstream from the tss of the APP gene"
   ]
  },
  {
   "cell_type": "code",
   "execution_count": 6,
   "metadata": {
    "collapsed": false
   },
   "outputs": [],
   "source": [
    "APP_tss = 25880550\n",
    "loc_chrom = \"chr21\"\n",
    "loc_start = APP_tss - 3000\n",
    "loc_stop  = APP_tss + 0"
   ]
  },
  {
   "cell_type": "markdown",
   "metadata": {},
   "source": [
    "### define a function which encapsulates the sql join, returns a table in bed format"
   ]
  },
  {
   "cell_type": "code",
   "execution_count": 7,
   "metadata": {
    "collapsed": true
   },
   "outputs": [],
   "source": [
    "def getHits(db, chrom, start, end):\n",
    "  query = \"\"\"select * from regions r\n",
    "    inner join hits h on r.loc = h.loc\n",
    "    where r.chrom = '%s' and r.start > %d and r.stop < %d\"\"\" % (chrom, start, end)\n",
    "  tbl = pd.read_sql_query(query, db)\n",
    "  return(tbl[[\"chrom\", \"start\", \"stop\", \"name\", \"score1\", \"strand\", \"score2\", \"score3\", \"score4\"]])\n"
   ]
  },
  {
   "cell_type": "code",
   "execution_count": 8,
   "metadata": {
    "collapsed": false
   },
   "outputs": [
    {
     "data": {
      "text/html": [
       "<div>\n",
       "<table border=\"1\" class=\"dataframe\">\n",
       "  <thead>\n",
       "    <tr style=\"text-align: right;\">\n",
       "      <th></th>\n",
       "      <th>chrom</th>\n",
       "      <th>start</th>\n",
       "      <th>stop</th>\n",
       "      <th>name</th>\n",
       "      <th>score1</th>\n",
       "      <th>strand</th>\n",
       "      <th>score2</th>\n",
       "      <th>score3</th>\n",
       "      <th>score4</th>\n",
       "    </tr>\n",
       "  </thead>\n",
       "  <tbody>\n",
       "    <tr>\n",
       "      <th>0</th>\n",
       "      <td>chr21</td>\n",
       "      <td>25879515</td>\n",
       "      <td>25879523</td>\n",
       "      <td>MA0597.1</td>\n",
       "      <td>39.0</td>\n",
       "      <td>-</td>\n",
       "      <td>11.4474</td>\n",
       "      <td>0.000008</td>\n",
       "      <td>None</td>\n",
       "    </tr>\n",
       "    <tr>\n",
       "      <th>1</th>\n",
       "      <td>chr21</td>\n",
       "      <td>25879510</td>\n",
       "      <td>25879519</td>\n",
       "      <td>MA0620.1</td>\n",
       "      <td>39.0</td>\n",
       "      <td>+</td>\n",
       "      <td>10.4082</td>\n",
       "      <td>0.000094</td>\n",
       "      <td>None</td>\n",
       "    </tr>\n",
       "    <tr>\n",
       "      <th>2</th>\n",
       "      <td>chr21</td>\n",
       "      <td>25879513</td>\n",
       "      <td>25879523</td>\n",
       "      <td>MA0646.1</td>\n",
       "      <td>39.0</td>\n",
       "      <td>+</td>\n",
       "      <td>10.3673</td>\n",
       "      <td>0.000086</td>\n",
       "      <td>None</td>\n",
       "    </tr>\n",
       "    <tr>\n",
       "      <th>3</th>\n",
       "      <td>chr21</td>\n",
       "      <td>25879839</td>\n",
       "      <td>25879847</td>\n",
       "      <td>MA0738.1</td>\n",
       "      <td>13.0</td>\n",
       "      <td>+</td>\n",
       "      <td>11.5273</td>\n",
       "      <td>0.000030</td>\n",
       "      <td>None</td>\n",
       "    </tr>\n",
       "  </tbody>\n",
       "</table>\n",
       "</div>"
      ],
      "text/plain": [
       "   chrom     start      stop      name  score1 strand   score2    score3  \\\n",
       "0  chr21  25879515  25879523  MA0597.1    39.0      -  11.4474  0.000008   \n",
       "1  chr21  25879510  25879519  MA0620.1    39.0      +  10.4082  0.000094   \n",
       "2  chr21  25879513  25879523  MA0646.1    39.0      +  10.3673  0.000086   \n",
       "3  chr21  25879839  25879847  MA0738.1    13.0      +  11.5273  0.000030   \n",
       "\n",
       "  score4  \n",
       "0   None  \n",
       "1   None  \n",
       "2   None  \n",
       "3   None  "
      ]
     },
     "execution_count": 8,
     "metadata": {},
     "output_type": "execute_result"
    }
   ],
   "source": [
    "tbl_hint = getHits(dbHint, \"chr21\", APP_tss-2000, APP_tss+100)\n",
    "tbl_hint"
   ]
  },
  {
   "cell_type": "code",
   "execution_count": 9,
   "metadata": {
    "collapsed": false
   },
   "outputs": [],
   "source": [
    "tbl_piq = getHits(dbpiq, \"chr21\", APP_tss-2000, APP_tss+100)"
   ]
  },
  {
   "cell_type": "code",
   "execution_count": 10,
   "metadata": {
    "collapsed": false
   },
   "outputs": [
    {
     "data": {
      "text/plain": [
       "(2034, 9)"
      ]
     },
     "execution_count": 10,
     "metadata": {},
     "output_type": "execute_result"
    }
   ],
   "source": [
    "tbl_piq.shape"
   ]
  },
  {
   "cell_type": "code",
   "execution_count": 12,
   "metadata": {
    "collapsed": false
   },
   "outputs": [
    {
     "data": {
      "text/plain": [
       "(88, 9)"
      ]
     },
     "execution_count": 12,
     "metadata": {},
     "output_type": "execute_result"
    }
   ],
   "source": [
    "tbl_piq.gt07 = tbl_piq[tbl_piq[\"score4\"] > 0.7]\n",
    "tbl_piq.gt07.shape"
   ]
  },
  {
   "cell_type": "markdown",
   "metadata": {},
   "source": [
    "### create an igv track viewer with gene reference track, then one each for piq & hint"
   ]
  },
  {
   "cell_type": "code",
   "execution_count": 14,
   "metadata": {
    "collapsed": false
   },
   "outputs": [],
   "source": [
    "igv = IGV(locus=\"chr21:25,863,045-25,887,052\", reference=Reference(id=\"hg38\"), \n",
    "          tracks=[Track(\n",
    "                   name=\"Genes hg38 v24\",\n",
    "                   format=\"gtf\",\n",
    "                   url=\"//s3.amazonaws.com/igv.broadinstitute.org/annotations/hg38/genes/gencode.v24.annotation.sorted.gtf.gz\",\n",
    "                   indexURL=\"//s3.amazonaws.com/igv.broadinstitute.org/annotations/hg38/genes/gencode.v24.annotation.sorted.gtf.gz.tbi\",\n",
    "                   visibility_window=10000000,\n",
    "                   display_mode=\"SQUISHED\")])\n"
   ]
  },
  {
   "cell_type": "code",
   "execution_count": 15,
   "metadata": {
    "collapsed": false
   },
   "outputs": [
    {
     "data": {
      "text/html": [
       "\n",
       "            <div id=\"igv_4698687\" class=\"igv-js\"></div>\n",
       "            <script type=\"text/javascript\">\n",
       "                require([location.origin + Jupyter.contents.base_url + \"nbextensions/igv/igv-jupyter.js\"], function() {\n",
       "                    var div = $(\"#igv_4698687.igv-js\")[0], options = {\"showRuler\": true, \"tracks\": [{\"indexURL\": \"//s3.amazonaws.com/igv.broadinstitute.org/annotations/hg38/genes/gencode.v24.annotation.sorted.gtf.gz.tbi\", \"visibilityWindow\": 10000000, \"name\": \"Genes hg38 v24\", \"url\": \"//s3.amazonaws.com/igv.broadinstitute.org/annotations/hg38/genes/gencode.v24.annotation.sorted.gtf.gz\", \"format\": \"gtf\", \"displayMode\": \"SQUISHED\"}], \"showNavigation\": true, \"double_click_delay\": 500, \"showKaryo\": false, \"locus\": \"chr21:25,863,045-25,887,052\", \"reference\": {\"id\": \"hg38\"}, \"flanking\": 1000};\n",
       "                    igv.createBrowser(div, options);\n",
       "                });\n",
       "            </script>\n",
       "            "
      ],
      "text/plain": [
       "<igv.IGV at 0x7fe127ae7080>"
      ]
     },
     "execution_count": 15,
     "metadata": {},
     "output_type": "execute_result"
    }
   ],
   "source": [
    "igv"
   ]
  },
  {
   "cell_type": "code",
   "execution_count": 16,
   "metadata": {
    "collapsed": false
   },
   "outputs": [],
   "source": [
    "def createTrack(tblHits, trackName):\n",
    "   tblHits.to_csv(\"%s.bed\" % trackName, sep=\"\\t\", header=False, index=False)\n",
    "   print(\"wrote %s.bed\" % trackName)\n",
    "   newTrack = Track(name=trackName, \n",
    "                 format=\"bed\", \n",
    "                 indexed=False, \n",
    "                 url=\"http://whovian:9999/files/%s.bed\" % trackName, \n",
    "                 display_mode='EXPANDED')\n",
    "   return(newTrack)\n",
    "   "
   ]
  },
  {
   "cell_type": "code",
   "execution_count": 17,
   "metadata": {
    "collapsed": false
   },
   "outputs": [
    {
     "name": "stdout",
     "output_type": "stream",
     "text": [
      "wrote piq.gt.07.bed\n"
     ]
    }
   ],
   "source": [
    "x = createTrack(tbl_piq, \"piq.gt.07\")"
   ]
  },
  {
   "cell_type": "code",
   "execution_count": null,
   "metadata": {
    "collapsed": false
   },
   "outputs": [],
   "source": [
    "igv.load_track(x)"
   ]
  },
  {
   "cell_type": "code",
   "execution_count": null,
   "metadata": {
    "collapsed": false
   },
   "outputs": [],
   "source": [
    "x2 = createTrack(tbl_hint, \"HINT\")\n",
    "igv.load_track(x2)"
   ]
  },
  {
   "cell_type": "code",
   "execution_count": null,
   "metadata": {
    "collapsed": true
   },
   "outputs": [],
   "source": []
  }
 ],
 "metadata": {
  "anaconda-cloud": {},
  "kernelspec": {
   "display_name": "Python [Root]",
   "language": "python",
   "name": "Python [Root]"
  },
  "language_info": {
   "codemirror_mode": {
    "name": "ipython",
    "version": 3
   },
   "file_extension": ".py",
   "mimetype": "text/x-python",
   "name": "python",
   "nbconvert_exporter": "python",
   "pygments_lexer": "ipython3",
   "version": "3.5.2"
  }
 },
 "nbformat": 4,
 "nbformat_minor": 0
}
